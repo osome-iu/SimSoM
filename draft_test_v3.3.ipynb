{
 "cells": [
  {
   "cell_type": "markdown",
   "metadata": {},
   "source": [
    "Test case for handling overlap mesages"
   ]
  },
  {
   "cell_type": "code",
   "execution_count": 1,
   "metadata": {},
   "outputs": [],
   "source": [
    "import numpy as np"
   ]
  },
  {
   "cell_type": "markdown",
   "metadata": {},
   "source": [
    "# Handle overlap"
   ]
  },
  {
   "cell_type": "code",
   "execution_count": 34,
   "metadata": {},
   "outputs": [],
   "source": [
    "## function copied from v3.3\n",
    "\n",
    "verbose = True\n",
    "\n",
    "\n",
    "def _update_feed_handle_overlap(target_feed, incoming_ids, incoming_shares):\n",
    "    \"\"\"\n",
    "    - target_feed (tuple of lists): (message_ids, no_shares, ages), represents an agent's news feed\n",
    "    \"\"\"\n",
    "    # new_message_age = 0\n",
    "    # check overlap with existing messages\n",
    "    # if message exists, reset age\n",
    "    # for the rest of the messages, increment age\n",
    "\n",
    "    messages, no_shares, ages = target_feed\n",
    "\n",
    "    feed = zip(messages, no_shares, ages)  # list of tuples\n",
    "    sorted_feed = sorted(list(feed), key=lambda x: x[0])\n",
    "    new_messages, new_shares, new_ages = [np.array(i) for i in zip(*sorted_feed)]\n",
    "    print(new_messages, new_shares, new_ages)\n",
    "    sorted_incoming = sorted(\n",
    "        list(zip(incoming_ids, incoming_shares)), key=lambda x: x[0]\n",
    "    )\n",
    "    sorted_incoming_messages, sorted_incoming_shares = [\n",
    "        np.array(i) for i in zip(*sorted_incoming)\n",
    "    ]\n",
    "    # return sorted intersection\n",
    "    overlap, x_ind, y_ind = np.intersect1d(\n",
    "        new_messages, sorted_incoming_messages, return_indices=True\n",
    "    )\n",
    "    print(new_messages, new_shares, new_ages)\n",
    "    if verbose:\n",
    "        print(f\"incoming ids : {incoming_ids} --> feed: {messages}\")\n",
    "        print(f\"no_shares : {incoming_shares} --> feed: {no_shares}\")\n",
    "        print(f\"incoming age : {np.zeros(len(incoming_ids))} --> feed: {ages}\")\n",
    "\n",
    "        print(f\"overlap message between {messages} and {incoming_ids} are: {overlap}\")\n",
    "        print(f\"sorted messages incoming: {sorted_incoming_messages}\")\n",
    "        print(\n",
    "            f\"overlap no_shares: old: {new_shares[x_ind]}, incoming: {sorted_incoming_shares[y_ind]}\"\n",
    "        )\n",
    "        print(\"update no_share and age of overlapping messages.. \")\n",
    "        print(\n",
    "            f\"before:  messages: {new_messages}, shares: {new_shares}, ages: {new_ages}\"\n",
    "        )\n",
    "\n",
    "    # update no_shares and age of existing messages from the sorted old feed:\n",
    "    new_shares[x_ind] += sorted_incoming_shares[y_ind]\n",
    "    # add age to all other messages\n",
    "    new_ages += np.ones(len(new_ages), dtype=int)\n",
    "    # reset age existing messages\n",
    "    new_ages[x_ind] = np.zeros(len(y_ind))\n",
    "\n",
    "    if verbose:\n",
    "        print(\n",
    "            f\"after:  messages: {new_messages}, shares: {new_shares}, ages: {new_ages}\"\n",
    "        )\n",
    "    print(\"y_ind: \", y_ind)\n",
    "    print(sorted_incoming_messages[~np.array([0, 1])])\n",
    "    print(\"sorted incoming except for overlap: \", sorted_incoming_messages[~y_ind])\n",
    "    # push new messages into the feed (only the non-overlapping messages)\n",
    "    new_shares = np.insert(new_shares, 0, sorted_incoming_shares[~y_ind])\n",
    "    new_messages = np.insert(new_messages, 0, sorted_incoming_messages[~y_ind])\n",
    "\n",
    "    new_ages = np.insert(new_ages, 0, np.zeros(len(sorted_incoming_shares[~y_ind])))\n",
    "\n",
    "    if verbose:\n",
    "        print(\n",
    "            f\"updated: messages: {new_messages}, shares: {new_shares}, ages: {new_ages}\"\n",
    "        )\n",
    "    updated_feed = (list(new_messages), list(new_shares), list(new_ages))\n",
    "    return updated_feed\n",
    "\n",
    "\n",
    "def _handle_oversized_feed(newsfeed, alpha=15):\n",
    "    \"\"\"\n",
    "    Handles oversized newsfeed\n",
    "    Returns the newsfeed (tuple of lists) where the oldest message is removed\n",
    "    Input:\n",
    "        feed (tuple - (list of int, list of int)): (list of mess_ids - list of popularities), represents an agent's news feed\n",
    "    \"\"\"\n",
    "    # Remove messages based on age - oldest first\n",
    "    messages, shares, ages = newsfeed\n",
    "\n",
    "    sorted_by_age = sorted(zip(messages, shares, ages), key=lambda x: x[2])\n",
    "    sorted_messages, sorted_shares, sorted_ages = [list(i) for i in zip(*sorted_by_age)]\n",
    "\n",
    "    updated_feed = (\n",
    "        sorted_messages[:alpha],\n",
    "        sorted_shares[:alpha],\n",
    "        sorted_ages[:alpha],\n",
    "    )\n",
    "\n",
    "    assert len(updated_feed[0]) <= alpha\n",
    "\n",
    "    return updated_feed"
   ]
  },
  {
   "cell_type": "code",
   "execution_count": 66,
   "metadata": {},
   "outputs": [],
   "source": [
    "## function copied from v3.3\n",
    "\n",
    "verbose = True\n",
    "\n",
    "\n",
    "def update_feed_handle_overlap(target_feed, incoming_ids, incoming_shares):\n",
    "    \"\"\"\n",
    "    - target_feed (tuple of lists): (message_ids, no_shares, ages), represents an agent's news feed\n",
    "    \"\"\"\n",
    "    # new_message_age = 0\n",
    "    # check overlap with existing messages\n",
    "    # if message exists, reset age\n",
    "    # for the rest of the messages, increment age\n",
    "\n",
    "    messages, no_shares, ages = [np.array(i) for i in target_feed]\n",
    "\n",
    "    # feed = zip(messages, no_shares, ages)  # list of tuples\n",
    "    # sorted_feed = sorted(list(feed), key=lambda x: x[0])\n",
    "    # new_messages, new_shares, new_ages = [np.array(i) for i in zip(*sorted_feed)]\n",
    "    # print(new_messages, new_shares, new_ages)\n",
    "    # sorted_incoming = sorted(\n",
    "    #     list(zip(incoming_ids, incoming_shares)), key=lambda x: x[0]\n",
    "    # )\n",
    "    # sorted_incoming_messages, sorted_incoming_shares = [\n",
    "    #     np.array(i) for i in zip(*sorted_incoming)\n",
    "    # ]\n",
    "    # return sorted intersection\n",
    "    overlap, x_ind, y_ind = np.intersect1d(messages, incoming_ids, return_indices=True)\n",
    "    # print(new_messages, new_shares, new_ages)\n",
    "    if verbose:\n",
    "        print(f\"incoming ids : {incoming_ids} --> feed: {messages}\")\n",
    "        print(f\"no_shares : {incoming_shares} --> feed: {no_shares}\")\n",
    "        print(f\"incoming age : {np.zeros(len(incoming_ids))} --> feed: {ages}\")\n",
    "\n",
    "        print(f\"overlap message between {messages} and {incoming_ids} are: {overlap}\")\n",
    "        # print(f\"sorted messages incoming: {sorted_incoming_messages}\")\n",
    "        # print(\n",
    "        #     f\"overlap no_shares: old: {new_shares[x_ind]}, incoming: {sorted_incoming_shares[y_ind]}\"\n",
    "        # )\n",
    "        print(\"update no_share and age of overlapping messages.. \")\n",
    "        print(f\"before:  messages: {messages}, shares: {no_shares}, ages: {ages}\")\n",
    "\n",
    "    print(f\"incoming: {incoming_ids}\")\n",
    "\n",
    "    print(f\"x_idx:{x_ind}, y_idx:{y_ind}\")\n",
    "    print(\"incoming except for overlap: \", incoming_ids[~np.array(y_ind)])\n",
    "    mask_y = np.zeros(len(incoming_ids), bool)\n",
    "    mask_y[[y_ind]] = True\n",
    "\n",
    "    print(\"(correct) incoming except for overlap: \", incoming_ids[~mask_y])\n",
    "    mask_x = np.zeros(len(messages), bool)\n",
    "    mask_x[[x_ind]] = True\n",
    "    print(f\"mask_x: {mask_x}, mask_y: {mask_y}\")\n",
    "    # update no_shares and age of existing messages from the sorted old feed:\n",
    "    print(\n",
    "        \"incoming_shares (to add to existing) incoming[mask_y]: \",\n",
    "        incoming_shares[mask_y],\n",
    "    )\n",
    "    print(\"no_shares (existing) [mask_x]: \", no_shares[mask_x])\n",
    "    no_shares[mask_x] += incoming_shares[mask_y]\n",
    "\n",
    "    # add age to all other messages\n",
    "    ages += np.ones(len(ages), dtype=int)\n",
    "    # reset age existing messages\n",
    "    ages[mask_x] = np.zeros(len(y_ind))\n",
    "\n",
    "    if verbose:\n",
    "        print(f\"after:  messages: {messages}, shares: {no_shares}, ages: {ages}\")\n",
    "    # print(\"y_ind: \", y_ind)\n",
    "    # print(sorted_incoming_messages[~np.array([0, 1])])\n",
    "\n",
    "    # push new messages into the feed (only the non-overlapping messages)\n",
    "    no_shares = np.insert(no_shares, 0, incoming_shares[~mask_y])\n",
    "    messages = np.insert(messages, 0, incoming_ids[~mask_y])\n",
    "\n",
    "    ages = np.insert(ages, 0, np.zeros(len(incoming_shares[~mask_y])))\n",
    "\n",
    "    if verbose:\n",
    "        print(f\"updated: messages: {messages}, shares: {no_shares}, ages: {ages}\")\n",
    "    updated_feed = (list(messages), list(no_shares), list(ages))\n",
    "    return updated_feed\n",
    "\n",
    "\n",
    "# def _handle_oversized_feed(newsfeed, alpha=15):\n",
    "#     \"\"\"\n",
    "#     Handles oversized newsfeed\n",
    "#     Returns the newsfeed (tuple of lists) where the oldest message is removed\n",
    "#     Input:\n",
    "#         feed (tuple - (list of int, list of int)): (list of mess_ids - list of popularities), represents an agent's news feed\n",
    "#     \"\"\"\n",
    "#     # Remove messages based on age - oldest first\n",
    "#     messages, shares, ages = newsfeed\n",
    "\n",
    "#     sorted_by_age = sorted(zip(messages, shares, ages), key=lambda x: x[2])\n",
    "#     sorted_messages, sorted_shares, sorted_ages = [list(i) for i in zip(*sorted_by_age)]\n",
    "\n",
    "#     updated_feed = (\n",
    "#         sorted_messages[:alpha],\n",
    "#         sorted_shares[:alpha],\n",
    "#         sorted_ages[:alpha],\n",
    "#     )\n",
    "\n",
    "#     assert len(updated_feed[0]) <= alpha\n",
    "\n",
    "#     return updated_feed"
   ]
  },
  {
   "cell_type": "code",
   "execution_count": 5,
   "metadata": {},
   "outputs": [
    {
     "data": {
      "text/plain": [
       "array([1, 2])"
      ]
     },
     "execution_count": 5,
     "metadata": {},
     "output_type": "execute_result"
    }
   ],
   "source": [
    "a = np.array([1, 2, 3, 4])\n",
    "a[np.array([0, 1])]"
   ]
  },
  {
   "cell_type": "code",
   "execution_count": 6,
   "metadata": {},
   "outputs": [
    {
     "data": {
      "text/plain": [
       "array([100, 100,   1,   2])"
      ]
     },
     "execution_count": 6,
     "metadata": {},
     "output_type": "execute_result"
    }
   ],
   "source": [
    "a = np.array([1, 2])\n",
    "a = np.insert(a, 0, [100, 100])\n",
    "a"
   ]
  },
  {
   "cell_type": "code",
   "execution_count": 5,
   "metadata": {},
   "outputs": [],
   "source": [
    "import numpy as np\n",
    "\n",
    "incoming_ids = np.array([100, 2])\n",
    "incoming_shares = np.array([10, 4])"
   ]
  },
  {
   "cell_type": "markdown",
   "metadata": {},
   "source": [
    "### Test case 1 "
   ]
  },
  {
   "cell_type": "code",
   "execution_count": 7,
   "metadata": {},
   "outputs": [],
   "source": [
    "# incoming messages, if not overlapping are added at the beginning of the list\n",
    "# if a message overlaps, its popularity is updated (+=new popularity), and age is reset to 0\n",
    "messages = np.array([3, 1, 2, 4])\n",
    "no_shares = [1, 1, 3, 1]\n",
    "ages = [1, 1, 1, 1]\n",
    "\n",
    "target_feed = (messages, no_shares, ages)\n",
    "correct_output = ([100, 1, 2, 3, 4], [10, 1, 7, 1, 1], [0, 2, 0, 2, 2])"
   ]
  },
  {
   "cell_type": "code",
   "execution_count": 8,
   "metadata": {},
   "outputs": [
    {
     "name": "stdout",
     "output_type": "stream",
     "text": [
      "incoming ids : [100   2] --> feed: [3 1 2 4]\n",
      "no_shares : [10  4] --> feed: [1, 1, 3, 1]\n",
      "incoming age : [0. 0.] --> feed: [1, 1, 1, 1]\n",
      "overlap message between [3 1 2 4] and [100   2] are: [2]\n",
      "sorted messages incoming: [  2 100]\n",
      "no_shares: old: [7], incoming: [4]\n",
      "update no_share and age of overlapping messages.. \n",
      "before:  messages: [1 2 3 4], shares: [1 7 1 1], ages: [2 0 2 2]\n",
      "updated: messages: [100   1   2   3   4], shares: [10  1  7  1  1], ages: [0 2 0 2 2]\n"
     ]
    }
   ],
   "source": [
    "new_feed = _update_feed_handle_overlap(target_feed, incoming_ids, incoming_shares)"
   ]
  },
  {
   "cell_type": "code",
   "execution_count": 11,
   "metadata": {},
   "outputs": [
    {
     "name": "stdout",
     "output_type": "stream",
     "text": [
      "[100, 1, 2, 3, 4]\n",
      "[10, 1, 7, 1, 1]\n",
      "[0, 2, 0, 2, 2]\n"
     ]
    }
   ],
   "source": [
    "for idx, alist in enumerate(correct_output):\n",
    "    print(alist)\n",
    "    assert new_feed[idx] == alist"
   ]
  },
  {
   "cell_type": "code",
   "execution_count": 12,
   "metadata": {},
   "outputs": [
    {
     "data": {
      "text/plain": [
       "([100, 2, 1], [10, 7, 1], [0, 0, 2])"
      ]
     },
     "execution_count": 12,
     "metadata": {},
     "output_type": "execute_result"
    }
   ],
   "source": [
    "clipped = _handle_oversized_feed(new_feed, alpha=3)\n",
    "clipped"
   ]
  },
  {
   "cell_type": "code",
   "execution_count": 13,
   "metadata": {},
   "outputs": [
    {
     "name": "stdout",
     "output_type": "stream",
     "text": [
      "[100, 2, 1]\n",
      "[10, 7, 1]\n",
      "[0, 0, 2]\n"
     ]
    }
   ],
   "source": [
    "correct_output_oversize = ([100, 2, 1], [10, 7, 1], [0, 0, 2])\n",
    "for idx, alist in enumerate(correct_output_oversize):\n",
    "    print(alist)\n",
    "    assert clipped[idx] == alist"
   ]
  },
  {
   "cell_type": "markdown",
   "metadata": {},
   "source": [
    "### Test case 2"
   ]
  },
  {
   "cell_type": "code",
   "execution_count": 38,
   "metadata": {},
   "outputs": [],
   "source": [
    "# incoming messages, if not overlapping are added at the beginning of the list\n",
    "# if a message overlaps, its popularity is updated (+=new popularity), and age is reset to 0\n",
    "messages = np.array([1053])\n",
    "no_shares = [1]\n",
    "ages = [1]\n",
    "\n",
    "target_feed = (messages, no_shares, ages)\n",
    "\n",
    "incoming_ids = np.array([2878, 2108, 1053, 2629])\n",
    "incoming_shares = np.array([1, 1, 1, 1])\n",
    "\n",
    "correct_output = ([2108, 2629, 2878, 1053], [1, 1, 1, 2], [0, 0, 0, 0])"
   ]
  },
  {
   "cell_type": "code",
   "execution_count": 35,
   "metadata": {},
   "outputs": [
    {
     "data": {
      "text/plain": [
       "array([False, False,  True,  True])"
      ]
     },
     "execution_count": 35,
     "metadata": {},
     "output_type": "execute_result"
    }
   ],
   "source": [
    "mask_y = np.ones(4, bool)\n",
    "mask_y[[0, 1]] = False\n",
    "mask_y"
   ]
  },
  {
   "cell_type": "code",
   "execution_count": 36,
   "metadata": {},
   "outputs": [
    {
     "data": {
      "text/plain": [
       "array([ True,  True, False, False])"
      ]
     },
     "execution_count": 36,
     "metadata": {},
     "output_type": "execute_result"
    }
   ],
   "source": [
    "~mask_y"
   ]
  },
  {
   "cell_type": "code",
   "execution_count": 23,
   "metadata": {},
   "outputs": [
    {
     "data": {
      "text/plain": [
       "array([1053])"
      ]
     },
     "execution_count": 23,
     "metadata": {},
     "output_type": "execute_result"
    }
   ],
   "source": [
    "# Somehow indexing is wrong if array length==1\n",
    "incoming_ids[~np.array([1])]"
   ]
  },
  {
   "cell_type": "code",
   "execution_count": 22,
   "metadata": {},
   "outputs": [
    {
     "data": {
      "text/plain": [
       "array([2629, 1053])"
      ]
     },
     "execution_count": 22,
     "metadata": {},
     "output_type": "execute_result"
    }
   ],
   "source": [
    "incoming_ids[~np.array([0, 1])]"
   ]
  },
  {
   "cell_type": "code",
   "execution_count": 16,
   "metadata": {},
   "outputs": [
    {
     "data": {
      "text/plain": [
       "array([2878, 2108, 2629])"
      ]
     },
     "execution_count": 16,
     "metadata": {},
     "output_type": "execute_result"
    }
   ],
   "source": [
    "mask = np.ones(len(incoming_ids), bool)\n",
    "mask[[2]] = False\n",
    "incoming_ids[mask]"
   ]
  },
  {
   "cell_type": "code",
   "execution_count": 41,
   "metadata": {},
   "outputs": [
    {
     "name": "stdout",
     "output_type": "stream",
     "text": [
      "incoming ids : [2878 2108 1053 2629] --> feed: [1053]\n",
      "no_shares : [1 1 1 1] --> feed: [1]\n",
      "incoming age : [0. 0. 0. 0.] --> feed: [1]\n",
      "overlap message between [1053] and [2878 2108 1053 2629] are: [1053]\n",
      "update no_share and age of overlapping messages.. \n",
      "before:  messages: [1053], shares: [1], ages: [1]\n",
      "incoming: [2878 2108 1053 2629]\n",
      "x_idx:[0], y_idx:[2]\n",
      "incoming except for overlap:  [2108]\n",
      "(correct) incoming except for overlap:  [2878 2108 2629]\n",
      "after:  messages: [1053], shares: [2], ages: [0]\n",
      "updated: messages: [2878 2108 2629 1053], shares: [1 1 1 2], ages: [0 0 0 0]\n"
     ]
    },
    {
     "name": "stderr",
     "output_type": "stream",
     "text": [
      "/var/folders/gj/zfw5qy_n09d78gdzsfht4c7m0000gn/T/ipykernel_91285/1088311880.py:48: FutureWarning: Using a non-tuple sequence for multidimensional indexing is deprecated; use `arr[tuple(seq)]` instead of `arr[seq]`. In the future this will be interpreted as an array index, `arr[np.array(seq)]`, which will result either in an error or a different result.\n",
      "  mask_y[[y_ind]] = False\n",
      "/var/folders/gj/zfw5qy_n09d78gdzsfht4c7m0000gn/T/ipykernel_91285/1088311880.py:52: FutureWarning: Using a non-tuple sequence for multidimensional indexing is deprecated; use `arr[tuple(seq)]` instead of `arr[seq]`. In the future this will be interpreted as an array index, `arr[np.array(seq)]`, which will result either in an error or a different result.\n",
      "  mask_x[[x_ind]] = True\n"
     ]
    },
    {
     "data": {
      "text/plain": [
       "([2878, 2108, 2629, 1053], [1, 1, 1, 2], [0, 0, 0, 0])"
      ]
     },
     "execution_count": 41,
     "metadata": {},
     "output_type": "execute_result"
    }
   ],
   "source": [
    "new_feed = update_feed_handle_overlap(target_feed, incoming_ids, incoming_shares)\n",
    "new_feed\n",
    "# print(\"ASSERTION\")\n",
    "# for idx, alist in enumerate(correct_output):\n",
    "#     print(alist)\n",
    "#     assert new_feed[idx] == alist"
   ]
  },
  {
   "cell_type": "markdown",
   "metadata": {},
   "source": [
    "### Rerun test 1"
   ]
  },
  {
   "cell_type": "code",
   "execution_count": 67,
   "metadata": {},
   "outputs": [],
   "source": [
    "# incoming messages, if not overlapping are added at the beginning of the list\n",
    "# if a message overlaps, its popularity is updated (+=new popularity), and age is reset to 0\n",
    "messages = np.array([3, 1, 2, 4])\n",
    "no_shares = [1, 1, 3, 1]\n",
    "ages = [1, 1, 1, 1]\n",
    "\n",
    "target_feed = (messages, no_shares, ages)\n",
    "incoming_ids = np.array([100, 2])\n",
    "incoming_shares = np.array([10, 4])\n",
    "\n",
    "correct_output = ([100, 1, 2, 3, 4], [10, 1, 7, 1, 1], [0, 2, 0, 2, 2])"
   ]
  },
  {
   "cell_type": "code",
   "execution_count": 68,
   "metadata": {},
   "outputs": [
    {
     "name": "stdout",
     "output_type": "stream",
     "text": [
      "incoming ids : [100   2] --> feed: [3 1 2 4]\n",
      "no_shares : [10  4] --> feed: [1 1 3 1]\n",
      "incoming age : [0. 0.] --> feed: [1 1 1 1]\n",
      "overlap message between [3 1 2 4] and [100   2] are: [2]\n",
      "update no_share and age of overlapping messages.. \n",
      "before:  messages: [3 1 2 4], shares: [1 1 3 1], ages: [1 1 1 1]\n",
      "incoming: [100   2]\n",
      "x_idx:[2], y_idx:[1]\n",
      "incoming except for overlap:  [100]\n",
      "(correct) incoming except for overlap:  [100]\n",
      "mask_x: [False False  True False], mask_y: [False  True]\n",
      "incoming_shares (to add to existing) incoming[mask_y]:  [4]\n",
      "no_shares (existing) [mask_x]:  [3]\n",
      "after:  messages: [3 1 2 4], shares: [1 1 7 1], ages: [2 2 0 2]\n",
      "updated: messages: [100   3   1   2   4], shares: [10  1  1  7  1], ages: [0 2 2 0 2]\n"
     ]
    },
    {
     "name": "stderr",
     "output_type": "stream",
     "text": [
      "/var/folders/gj/zfw5qy_n09d78gdzsfht4c7m0000gn/T/ipykernel_91285/4131754855.py:48: FutureWarning: Using a non-tuple sequence for multidimensional indexing is deprecated; use `arr[tuple(seq)]` instead of `arr[seq]`. In the future this will be interpreted as an array index, `arr[np.array(seq)]`, which will result either in an error or a different result.\n",
      "  mask_y[[y_ind]] = True\n",
      "/var/folders/gj/zfw5qy_n09d78gdzsfht4c7m0000gn/T/ipykernel_91285/4131754855.py:52: FutureWarning: Using a non-tuple sequence for multidimensional indexing is deprecated; use `arr[tuple(seq)]` instead of `arr[seq]`. In the future this will be interpreted as an array index, `arr[np.array(seq)]`, which will result either in an error or a different result.\n",
      "  mask_x[[x_ind]] = True\n"
     ]
    },
    {
     "data": {
      "text/plain": [
       "([100, 3, 1, 2, 4], [10, 1, 1, 7, 1], [0, 2, 2, 0, 2])"
      ]
     },
     "execution_count": 68,
     "metadata": {},
     "output_type": "execute_result"
    }
   ],
   "source": [
    "new_feed = update_feed_handle_overlap(target_feed, incoming_ids, incoming_shares)\n",
    "new_feed"
   ]
  },
  {
   "cell_type": "markdown",
   "metadata": {},
   "source": [
    "Correct:\n",
    "[100   2] --> feed: [3 1 2 4]\n",
    "\n",
    "no_shares : [10  4] --> feed: [1 1 3 1]\n",
    "\n",
    "incoming age : [0. 0.] --> feed: [1 1 1 1]\n",
    "\n",
    "[100 3 1 2 4]\n",
    "\n",
    "[10  1 1 7 1]\n",
    "\n",
    "[0   1 1 0 1]"
   ]
  },
  {
   "cell_type": "markdown",
   "metadata": {},
   "source": [
    "## Function"
   ]
  },
  {
   "cell_type": "code",
   "execution_count": 3,
   "metadata": {},
   "outputs": [],
   "source": [
    "import numpy as np\n",
    "\n",
    "agent_feeds = dict()\n",
    "\n",
    "messages = np.array([3, 1, 2, 4])\n",
    "no_shares = [1, 1, 3, 1]\n",
    "ages = [1, 1, 1, 1]\n",
    "\n",
    "agent_feeds[\"fil\"] = (messages, no_shares, ages)\n",
    "\n",
    "incoming_ids = np.array([100, 2])\n",
    "incoming_shares = np.array([10, 4])"
   ]
  },
  {
   "cell_type": "code",
   "execution_count": 31,
   "metadata": {},
   "outputs": [],
   "source": [
    "feed = messages, no_shares, ages"
   ]
  },
  {
   "cell_type": "code",
   "execution_count": 32,
   "metadata": {},
   "outputs": [],
   "source": [
    "afeed = zip(messages, no_shares, ages)"
   ]
  },
  {
   "cell_type": "code",
   "execution_count": 33,
   "metadata": {},
   "outputs": [],
   "source": [
    "bfeed = list(zip(feed))"
   ]
  },
  {
   "cell_type": "code",
   "execution_count": 34,
   "metadata": {},
   "outputs": [
    {
     "data": {
      "text/plain": [
       "[(array([3, 1, 2, 4]),), ([1, 1, 3, 1],), ([1, 1, 1, 1],)]"
      ]
     },
     "execution_count": 34,
     "metadata": {},
     "output_type": "execute_result"
    }
   ],
   "source": [
    "list(bfeed)"
   ]
  },
  {
   "cell_type": "code",
   "execution_count": 30,
   "metadata": {},
   "outputs": [
    {
     "data": {
      "text/plain": [
       "[(3, 1, 1), (1, 1, 1), (2, 3, 1), (4, 1, 1)]"
      ]
     },
     "execution_count": 30,
     "metadata": {},
     "output_type": "execute_result"
    }
   ],
   "source": [
    "list(afeed)"
   ]
  },
  {
   "cell_type": "code",
   "execution_count": 10,
   "metadata": {},
   "outputs": [],
   "source": [
    "def update_feed_handle_overlap(target_id, incoming_ids, incoming_shares):\n",
    "    messages, no_shares, ages = agent_feeds[target_id]\n",
    "\n",
    "    feed = zip(messages, no_shares, ages)\n",
    "    print(feed)\n",
    "    sorted_feed = sorted(list(feed), key=lambda x: x[0])\n",
    "    print(sorted_feed)\n",
    "    new_messages, new_shares, new_ages = [np.array(i) for i in zip(*sorted_feed)]\n",
    "    print(new_messages, new_shares, new_ages)\n",
    "\n",
    "    print(incoming_ids, incoming_shares)\n",
    "    sorted_incoming = sorted(\n",
    "        list(zip(incoming_ids, incoming_shares)), key=lambda x: x[0]\n",
    "    )\n",
    "\n",
    "    sorted_incoming_messages, sorted_incoming_shares = [\n",
    "        np.array(i) for i in zip(*sorted_incoming)\n",
    "    ]\n",
    "    print(sorted_incoming_messages, sorted_incoming_shares)\n",
    "    # return sorted intersection\n",
    "    overlap, x_ind, y_ind = np.intersect1d(\n",
    "        new_messages, sorted_incoming_messages, return_indices=True\n",
    "    )\n",
    "\n",
    "    # update shares:\n",
    "    print(\"update no_share and age of overlapping messages.. \")\n",
    "    new_shares[x_ind] += sorted_incoming_shares[y_ind]\n",
    "    new_ages += np.ones(len(new_ages), dtype=int)\n",
    "    new_ages[x_ind] = np.zeros(len(y_ind))\n",
    "    print(f\"updated:  messages: {new_messages}, shares: {new_shares}, ages: {new_ages}\")\n",
    "    # only append non-overlapping messages\n",
    "    # non_overlapping_shares = sorted_incoming_shares[~y_ind]\n",
    "    # non_overlapping_messages = sorted_incoming_messages[~y_ind]\n",
    "    # push new messages into the feed\n",
    "\n",
    "    new_shares = np.insert(new_shares, 0, sorted_incoming_shares[~y_ind])\n",
    "    new_messages = np.insert(new_messages, 0, sorted_incoming_messages[~y_ind])\n",
    "\n",
    "    new_ages = np.insert(new_ages, 0, np.zeros(len(sorted_incoming_shares[~y_ind])))\n",
    "    print(f\"updated: messages: {new_messages}, shares: {new_shares}, ages: {new_ages}\")\n",
    "    new_feed = (new_messages, new_shares, new_ages)\n",
    "    return new_feed"
   ]
  },
  {
   "cell_type": "markdown",
   "metadata": {},
   "source": [
    "### Test function"
   ]
  },
  {
   "cell_type": "code",
   "execution_count": 17,
   "metadata": {},
   "outputs": [],
   "source": [
    "# incoming messages, if not overlapping are added at the beginning of the list\n",
    "# if a message overlaps, its popularity is updated (+=new popularity), and age is reset to 0\n",
    "correct_output = ([100, 1, 2, 3, 4], [10, 1, 7, 1, 1], [0, 2, 0, 2, 2])"
   ]
  },
  {
   "cell_type": "code",
   "execution_count": 18,
   "metadata": {},
   "outputs": [
    {
     "name": "stdout",
     "output_type": "stream",
     "text": [
      "<zip object at 0x11dd0c480>\n",
      "[(1, 1, 1), (2, 3, 1), (3, 1, 1), (4, 1, 1)]\n",
      "[1 2 3 4] [1 3 1 1] [1 1 1 1]\n",
      "[100   2] [10  4]\n",
      "[  2 100] [ 4 10]\n",
      "update no_share and age of overlapping messages.. \n",
      "updated:  messages: [1 2 3 4], shares: [1 7 1 1], ages: [2 0 2 2]\n",
      "updated: messages: [100   1   2   3   4], shares: [10  1  7  1  1], ages: [0 2 0 2 2]\n"
     ]
    }
   ],
   "source": [
    "new_feed = update_feed_handle_overlap(\"fil\", incoming_ids, incoming_shares)"
   ]
  },
  {
   "cell_type": "code",
   "execution_count": 19,
   "metadata": {},
   "outputs": [],
   "source": [
    "for idx, alist in enumerate(correct_output):\n",
    "    assert (new_feed[idx] == alist).all()"
   ]
  },
  {
   "cell_type": "markdown",
   "metadata": {},
   "source": [
    "## Debug"
   ]
  },
  {
   "cell_type": "code",
   "execution_count": 242,
   "metadata": {},
   "outputs": [],
   "source": [
    "messages = np.array([3, 1, 2, 4])\n",
    "no_shares = [1, 1, 3, 1]\n",
    "ages = [1, 1, 1, 1]\n",
    "incoming = np.array([100, 2])\n",
    "incoming_shares = np.array([10, 4])\n",
    "# correct_output = ([1,2,3,4,100], [1, 3, 1,10], [1, 0, 1, 1,0])"
   ]
  },
  {
   "cell_type": "code",
   "execution_count": 243,
   "metadata": {},
   "outputs": [
    {
     "name": "stdout",
     "output_type": "stream",
     "text": [
      "<zip object at 0x114829e80>\n",
      "[(1, 1, 1), (2, 3, 1), (3, 1, 1), (4, 1, 1)]\n",
      "[1 2 3 4] [1 3 1 1] [1 1 1 1]\n",
      "[100   2] [10  4]\n",
      "[  2 100] [ 4 10]\n"
     ]
    },
    {
     "data": {
      "text/plain": [
       "(array([2]), array([1]), array([0]))"
      ]
     },
     "execution_count": 243,
     "metadata": {},
     "output_type": "execute_result"
    }
   ],
   "source": [
    "feed = zip(messages, no_shares, ages)\n",
    "print(feed)\n",
    "sorted_feed = sorted(list(feed), key=lambda x: x[0])\n",
    "print(sorted_feed)\n",
    "new_messages, new_shares, new_ages = [np.array(i) for i in zip(*sorted_feed)]\n",
    "print(new_messages, new_shares, new_ages)\n",
    "\n",
    "print(incoming, incoming_shares)\n",
    "sorted_incoming = sorted(list(zip(incoming, incoming_shares)), key=lambda x: x[0])\n",
    "\n",
    "sorted_incoming_messages, sorted_incoming_shares = [\n",
    "    np.array(i) for i in zip(*sorted_incoming)\n",
    "]\n",
    "print(sorted_incoming_messages, sorted_incoming_shares)\n",
    "# return sorted intersection\n",
    "overlap, x_ind, y_ind = np.intersect1d(\n",
    "    new_messages, sorted_incoming_messages, return_indices=True\n",
    ")\n",
    "\n",
    "sorted_incoming_messages, sorted_incoming_shares\n",
    "# if message exists, reset age\n",
    "# for the rest of the messages, increment age\n",
    "overlap, x_ind, y_ind"
   ]
  },
  {
   "cell_type": "code",
   "execution_count": 244,
   "metadata": {},
   "outputs": [
    {
     "name": "stdout",
     "output_type": "stream",
     "text": [
      "incoming ids : [100   2] --> feed: [3 1 2 4]\n",
      "no_shares : [10  4] --> feed: [1, 1, 3, 1]\n",
      "incoming age : [0. 0.] --> feed: [1, 1, 1, 1]\n"
     ]
    }
   ],
   "source": [
    "incoming_ages = np.zeros(len(incoming))\n",
    "print(f\"incoming ids : {incoming} --> feed: {messages}\")\n",
    "print(f\"no_shares : {incoming_shares} --> feed: {no_shares}\")\n",
    "print(f\"incoming age : {incoming_ages} --> feed: {ages}\")"
   ]
  },
  {
   "cell_type": "code",
   "execution_count": 245,
   "metadata": {},
   "outputs": [
    {
     "data": {
      "text/plain": [
       "array([2])"
      ]
     },
     "execution_count": 245,
     "metadata": {},
     "output_type": "execute_result"
    }
   ],
   "source": [
    "new_messages[x_ind]"
   ]
  },
  {
   "cell_type": "code",
   "execution_count": 246,
   "metadata": {},
   "outputs": [
    {
     "name": "stdout",
     "output_type": "stream",
     "text": [
      "overlap message between [3 1 2 4] and [100   2] are: [2]\n",
      "sorted messages incoming: [  2 100]\n",
      "no_shares: old: [3], incoming: [4]\n"
     ]
    }
   ],
   "source": [
    "print(f\"overlap message between {messages} and {incoming} are: {overlap}\")\n",
    "print(f\"sorted messages incoming: {sorted_incoming_messages}\")\n",
    "print(f\"no_shares: old: {new_shares[x_ind]}, incoming: {sorted_incoming_shares[y_ind]}\")"
   ]
  },
  {
   "cell_type": "code",
   "execution_count": 247,
   "metadata": {},
   "outputs": [],
   "source": [
    "# # excluding overlapping messages\n",
    "# mask = np.ones(len(sorted_incoming_messages), dtype=bool)\n",
    "# mask[[y_ind],]=False\n",
    "# retain = sorted_incoming_messages[mask]\n",
    "# retain"
   ]
  },
  {
   "cell_type": "code",
   "execution_count": 248,
   "metadata": {},
   "outputs": [
    {
     "data": {
      "text/plain": [
       "array([1, 1, 1, 1])"
      ]
     },
     "execution_count": 248,
     "metadata": {},
     "output_type": "execute_result"
    }
   ],
   "source": [
    "new_ages"
   ]
  },
  {
   "cell_type": "code",
   "execution_count": 249,
   "metadata": {},
   "outputs": [
    {
     "name": "stdout",
     "output_type": "stream",
     "text": [
      "update no_share and age of overlapping messages.. \n",
      "updated:  messages: [1 2 3 4], shares: [1 7 1 1], ages: [2 0 2 2]\n",
      "updated: messages: [100   1   2   3   4], shares: [10  1  7  1  1], ages: [0 2 0 2 2]\n"
     ]
    }
   ],
   "source": [
    "# update shares:\n",
    "print(\"update no_share and age of overlapping messages.. \")\n",
    "new_shares[x_ind] += sorted_incoming_shares[y_ind]\n",
    "new_ages += np.ones(len(new_ages), dtype=int)\n",
    "new_ages[x_ind] = np.zeros(len(y_ind))\n",
    "print(f\"updated:  messages: {new_messages}, shares: {new_shares}, ages: {new_ages}\")\n",
    "# only append non-overlapping messages\n",
    "# non_overlapping_shares = sorted_incoming_shares[~y_ind]\n",
    "# non_overlapping_messages = sorted_incoming_messages[~y_ind]\n",
    "new_shares = np.insert(new_shares, 0, sorted_incoming_shares[~y_ind])\n",
    "new_messages = np.insert(new_messages, 0, sorted_incoming_messages[~y_ind])\n",
    "\n",
    "new_ages = np.insert(new_ages, 0, np.zeros(len(sorted_incoming_shares[~y_ind])))\n",
    "print(f\"updated: messages: {new_messages}, shares: {new_shares}, ages: {new_ages}\")"
   ]
  },
  {
   "cell_type": "code",
   "execution_count": null,
   "metadata": {},
   "outputs": [],
   "source": []
  },
  {
   "cell_type": "code",
   "execution_count": 173,
   "metadata": {},
   "outputs": [],
   "source": [
    "## same as delete [0,2,4]\n",
    "arr = np.arange(12) + 1\n",
    "\n",
    "mask = np.ones(len(arr), dtype=bool)\n",
    "\n",
    "mask[[0, 2, 4]] = False\n",
    "\n",
    "result = arr[mask]"
   ]
  },
  {
   "cell_type": "markdown",
   "metadata": {},
   "source": [
    "## Remove messages"
   ]
  },
  {
   "cell_type": "code",
   "execution_count": 76,
   "metadata": {},
   "outputs": [
    {
     "data": {
      "text/plain": [
       "(array([100,   1,   2,   3,   4]),\n",
       " array([10,  1,  7,  1,  1]),\n",
       " array([0, 2, 0, 2, 2]))"
      ]
     },
     "execution_count": 76,
     "metadata": {},
     "output_type": "execute_result"
    }
   ],
   "source": [
    "ids, shares, ages = new_feed\n",
    "ids, shares, ages"
   ]
  },
  {
   "cell_type": "code",
   "execution_count": 77,
   "metadata": {},
   "outputs": [
    {
     "data": {
      "text/plain": [
       "[(100, 10, 0), (2, 7, 0), (1, 1, 2), (3, 1, 2), (4, 1, 2)]"
      ]
     },
     "execution_count": 77,
     "metadata": {},
     "output_type": "execute_result"
    }
   ],
   "source": [
    "sorted_by_age = sorted(zip(ids, shares, ages), key=lambda x: x[2])\n",
    "sorted_by_age"
   ]
  },
  {
   "cell_type": "code",
   "execution_count": 78,
   "metadata": {},
   "outputs": [
    {
     "data": {
      "text/plain": [
       "(array([100,   2,   1,   3,   4]),\n",
       " array([10,  7,  1,  1,  1]),\n",
       " array([0, 0, 2, 2, 2]))"
      ]
     },
     "execution_count": 78,
     "metadata": {},
     "output_type": "execute_result"
    }
   ],
   "source": [
    "sorted_messages, sorted_shares, sorted_ages = [np.array(i) for i in zip(*sorted_by_age)]\n",
    "sorted_messages, sorted_shares, sorted_ages"
   ]
  },
  {
   "cell_type": "markdown",
   "metadata": {},
   "source": [
    "# Rank messages"
   ]
  },
  {
   "cell_type": "code",
   "execution_count": 36,
   "metadata": {},
   "outputs": [
    {
     "data": {
      "text/plain": [
       "array([1.86606598, 1.        ])"
      ]
     },
     "execution_count": 36,
     "metadata": {},
     "output_type": "execute_result"
    }
   ],
   "source": [
    "b = np.array([2, 1])\n",
    "c = b**0.9\n",
    "c"
   ]
  },
  {
   "cell_type": "code",
   "execution_count": 37,
   "metadata": {},
   "outputs": [
    {
     "data": {
      "text/plain": [
       "(array([100,   1,   2,   3,   4]),\n",
       " array([10,  1,  7,  1,  1]),\n",
       " array([0, 2, 0, 2, 2]))"
      ]
     },
     "execution_count": 37,
     "metadata": {},
     "output_type": "execute_result"
    }
   ],
   "source": [
    "new_feed"
   ]
  },
  {
   "cell_type": "code",
   "execution_count": 47,
   "metadata": {},
   "outputs": [
    {
     "name": "stdout",
     "output_type": "stream",
     "text": [
      "<zip object at 0x11dd30f80>\n",
      "[(1, 1, 1), (2, 3, 1), (3, 1, 1), (4, 1, 1)]\n",
      "[1 2 3 4] [1 3 1 1] [1 1 1 1]\n",
      "[100   2] [10  4]\n",
      "[  2 100] [ 4 10]\n",
      "update no_share and age of overlapping messages.. \n",
      "updated:  messages: [1 2 3 4], shares: [1 7 1 1], ages: [2 0 2 2]\n",
      "updated: messages: [100   1   2   3   4], shares: [10  1  7  1  1], ages: [0 2 0 2 2]\n",
      "\n",
      "relative shares:  [0.5  0.05 0.35 0.05 0.05]\n",
      "recency:  [0.         1.86606598 0.         1.86606598 1.86606598]\n",
      "engagement:  [0.5, 0, 0.1, 0.5, 0.5]\n"
     ]
    },
    {
     "data": {
      "text/plain": [
       "array([0.33333333, 0.63868866, 0.15      , 0.80535533, 0.80535533])"
      ]
     },
     "execution_count": 47,
     "metadata": {},
     "output_type": "execute_result"
    }
   ],
   "source": [
    "aging_lambda = 0.9\n",
    "new_feed = update_feed_handle_overlap(\"fil\", incoming_ids, incoming_shares)\n",
    "ids, shares, ages = new_feed\n",
    "\n",
    "relative_shares = shares / np.sum(shares)\n",
    "\n",
    "recency = ages**aging_lambda\n",
    "\n",
    "engagement = [0.5, 0, 0.1, 0.5, 0.5]\n",
    "\n",
    "print(\"\\nrelative shares: \", relative_shares)\n",
    "assert sum(relative_shares) == 1\n",
    "print(\"recency: \", recency)\n",
    "print(\"engagement: \", engagement)\n",
    "\n",
    "ranking = 1 / 3 * np.sum([recency, relative_shares, engagement], axis=0)\n",
    "ranking"
   ]
  },
  {
   "cell_type": "code",
   "execution_count": 63,
   "metadata": {},
   "outputs": [
    {
     "data": {
      "text/plain": [
       "array([0.12197803, 0.23371795, 0.05489011, 0.29470696, 0.29470696])"
      ]
     },
     "execution_count": 63,
     "metadata": {},
     "output_type": "execute_result"
    }
   ],
   "source": [
    "norm_ranking = normalize(ranking)\n",
    "assert sum(norm_ranking) == 1\n",
    "norm_ranking"
   ]
  },
  {
   "cell_type": "code",
   "execution_count": 68,
   "metadata": {},
   "outputs": [
    {
     "name": "stdout",
     "output_type": "stream",
     "text": [
      "<zip object at 0x11ddaec40>\n",
      "[(1, 1, 1), (2, 3, 1), (3, 1, 1), (4, 1, 1)]\n",
      "[1 2 3 4] [1 3 1 1] [1 1 1 1]\n",
      "[100   2] [10  4]\n",
      "[  2 100] [ 4 10]\n",
      "update no_share and age of overlapping messages.. \n",
      "updated:  messages: [1 2 3 4], shares: [1 7 1 1], ages: [2 0 2 2]\n",
      "updated: messages: [100   1   2   3   4], shares: [10  1  7  1  1], ages: [0 2 0 2 2]\n",
      "\n",
      "relative shares:  [0.5  0.05 0.35 0.05 0.05]\n",
      "recency:  [0.         1.86606598 0.         1.86606598 1.86606598]\n",
      "engagement:  [0.5 0.  0.1 0.5 0.5]\n"
     ]
    }
   ],
   "source": [
    "aging_lambda = 0.9\n",
    "new_feed = update_feed_handle_overlap(\"fil\", incoming_ids, incoming_shares)\n",
    "ids, shares, ages = new_feed\n",
    "\n",
    "relative_shares = shares / np.sum(shares)\n",
    "\n",
    "recency = ages**aging_lambda\n",
    "\n",
    "engagement = np.array([0.5, 0, 0.1, 0.5, 0.5])\n",
    "\n",
    "print(\"\\nrelative shares: \", relative_shares)\n",
    "assert sum(relative_shares) == 1\n",
    "print(\"recency: \", recency)\n",
    "print(\"engagement: \", engagement)\n",
    "\n",
    "ranking_ = np.sum(\n",
    "    [1 / 3 * recency, 1 / 3 * relative_shares, 1 / 3 * engagement], axis=0\n",
    ")"
   ]
  },
  {
   "cell_type": "code",
   "execution_count": 70,
   "metadata": {},
   "outputs": [
    {
     "data": {
      "text/plain": [
       "array([0.33333333, 0.63868866, 0.15      , 0.80535533, 0.80535533])"
      ]
     },
     "execution_count": 70,
     "metadata": {},
     "output_type": "execute_result"
    }
   ],
   "source": [
    "ranking"
   ]
  },
  {
   "cell_type": "code",
   "execution_count": 71,
   "metadata": {},
   "outputs": [
    {
     "data": {
      "text/plain": [
       "array([0.33333333, 0.63868866, 0.15      , 0.80535533, 0.80535533])"
      ]
     },
     "execution_count": 71,
     "metadata": {},
     "output_type": "execute_result"
    }
   ],
   "source": [
    "ranking_"
   ]
  },
  {
   "cell_type": "code",
   "execution_count": 74,
   "metadata": {},
   "outputs": [
    {
     "data": {
      "text/plain": [
       "array([ True,  True, False, False, False])"
      ]
     },
     "execution_count": 74,
     "metadata": {},
     "output_type": "execute_result"
    }
   ],
   "source": [
    "np.equal(ranking, ranking_)"
   ]
  },
  {
   "cell_type": "code",
   "execution_count": 73,
   "metadata": {},
   "outputs": [
    {
     "ename": "AssertionError",
     "evalue": "",
     "output_type": "error",
     "traceback": [
      "\u001b[0;31m---------------------------------------------------------------------------\u001b[0m",
      "\u001b[0;31mAssertionError\u001b[0m                            Traceback (most recent call last)",
      "\u001b[1;32m/Users/baott/SimSoM/test.ipynb Cell 36\u001b[0m line \u001b[0;36m1\n\u001b[0;32m----> <a href='vscode-notebook-cell:/Users/baott/SimSoM/test.ipynb#Y104sZmlsZQ%3D%3D?line=0'>1</a>\u001b[0m \u001b[39massert\u001b[39;00m (ranking \u001b[39m==\u001b[39m ranking_)\u001b[39m.\u001b[39mall()\n",
      "\u001b[0;31mAssertionError\u001b[0m: "
     ]
    }
   ],
   "source": [
    "assert (ranking == ranking_).all()"
   ]
  },
  {
   "cell_type": "code",
   "execution_count": 56,
   "metadata": {},
   "outputs": [],
   "source": [
    "def normalize_v(v):\n",
    "    normalized_v = v / np.sqrt(np.sum(v**2))\n",
    "    return normalized_v"
   ]
  },
  {
   "cell_type": "code",
   "execution_count": 60,
   "metadata": {},
   "outputs": [],
   "source": [
    "def normalize(v):\n",
    "    norm = np.linalg.norm(v, ord=1)\n",
    "    if norm == 0:\n",
    "        return v\n",
    "    return v / norm"
   ]
  },
  {
   "cell_type": "code",
   "execution_count": 61,
   "metadata": {},
   "outputs": [],
   "source": [
    "norm_ranking = normalize(ranking)\n",
    "assert sum(norm_ranking) == 1"
   ]
  },
  {
   "cell_type": "code",
   "execution_count": 59,
   "metadata": {},
   "outputs": [
    {
     "data": {
      "text/plain": [
       "array([0.33333333, 0.63868866, 0.15      , 0.80535533, 0.80535533])"
      ]
     },
     "execution_count": 59,
     "metadata": {},
     "output_type": "execute_result"
    }
   ],
   "source": []
  },
  {
   "cell_type": "code",
   "execution_count": 58,
   "metadata": {},
   "outputs": [
    {
     "data": {
      "text/plain": [
       "2.01529355175264"
      ]
     },
     "execution_count": 58,
     "metadata": {},
     "output_type": "execute_result"
    }
   ],
   "source": [
    "sum(norm_ranking)"
   ]
  },
  {
   "cell_type": "code",
   "execution_count": 45,
   "metadata": {},
   "outputs": [
    {
     "data": {
      "text/plain": [
       "2.01529355175264"
      ]
     },
     "execution_count": 45,
     "metadata": {},
     "output_type": "execute_result"
    }
   ],
   "source": [
    "sum(norm_ranking)"
   ]
  },
  {
   "cell_type": "code",
   "execution_count": null,
   "metadata": {},
   "outputs": [],
   "source": []
  },
  {
   "cell_type": "markdown",
   "metadata": {},
   "source": [
    "## Test that random.choice doesn't need to be normalized "
   ]
  },
  {
   "cell_type": "code",
   "execution_count": null,
   "metadata": {},
   "outputs": [],
   "source": [
    "import random\n",
    "from simsom.utils import *\n",
    "\n",
    "weights = [1, 2, 3, 4, 5, 6, 7, 8, 9, 10]\n",
    "messages = [str(i) for i in weights]\n",
    "\n",
    "norm_weight = normalize(weights)\n",
    "non_normalized = []\n",
    "normalized = []\n",
    "for _ in range(10000):\n",
    "    (message,) = random.choices(messages, weights=weights, k=1)\n",
    "    non_normalized += [message]\n",
    "    (message,) = random.choices(messages, weights=norm_weight, k=1)\n",
    "    normalized += [message]"
   ]
  },
  {
   "cell_type": "code",
   "execution_count": null,
   "metadata": {},
   "outputs": [
    {
     "data": {
      "text/plain": [
       "(array([1634., 1791.,  392.,  895.,  757., 1408.,  534., 1132., 1250.,\n",
       "         207.]),\n",
       " array([0. , 0.9, 1.8, 2.7, 3.6, 4.5, 5.4, 6.3, 7.2, 8.1, 9. ]),\n",
       " <BarContainer object of 10 artists>)"
      ]
     },
     "metadata": {},
     "output_type": "display_data"
    },
    {
     "data": {
      "image/png": "[encoded data removed]",
      "text/plain": [
       "<Figure size 640x480 with 1 Axes>"
      ]
     },
     "metadata": {},
     "output_type": "display_data"
    }
   ],
   "source": [
    "import matplotlib.pyplot as plt\n",
    "\n",
    "plt.hist(non_normalized, label=\"non-normalized\", alpha=0.5)\n",
    "plt.hist(normalized, label=\"normalized\", alpha=0.5)"
   ]
  },
  {
   "cell_type": "code",
   "execution_count": null,
   "metadata": {},
   "outputs": [
    {
     "data": {
      "text/plain": [
       "{'1': 16,\n",
       " '2': 39,\n",
       " '4': 58,\n",
       " '3': 61,\n",
       " '5': 85,\n",
       " '6': 96,\n",
       " '7': 126,\n",
       " '8': 152,\n",
       " '10': 177,\n",
       " '9': 190}"
      ]
     },
     "metadata": {},
     "output_type": "display_data"
    }
   ],
   "source": [
    "from collections import Counter\n",
    "\n",
    "non = dict(sorted(Counter(non_normalized).items(), key=lambda item: item[1]))\n",
    "non"
   ]
  },
  {
   "cell_type": "code",
   "execution_count": null,
   "metadata": {},
   "outputs": [
    {
     "data": {
      "text/plain": [
       "{'7': 132,\n",
       " '3': 61,\n",
       " '4': 93,\n",
       " '8': 147,\n",
       " '10': 188,\n",
       " '6': 93,\n",
       " '5': 80,\n",
       " '9': 137,\n",
       " '1': 23,\n",
       " '2': 46}"
      ]
     },
     "metadata": {},
     "output_type": "display_data"
    }
   ],
   "source": [
    "norm = dict(Counter(normalized))\n",
    "norm"
   ]
  },
  {
   "cell_type": "code",
   "execution_count": null,
   "metadata": {},
   "outputs": [
    {
     "data": {
      "text/plain": [
       "array([1., 1., 1.])"
      ]
     },
     "metadata": {},
     "output_type": "display_data"
    }
   ],
   "source": [
    "x = np.ones((4))\n",
    "a = np.array([True, False, True, True])\n",
    "# x[:,1]\n",
    "x[a]"
   ]
  },
  {
   "cell_type": "code",
   "execution_count": 2,
   "metadata": {},
   "outputs": [],
   "source": [
    "import numpy as np"
   ]
  },
  {
   "cell_type": "code",
   "execution_count": 14,
   "metadata": {},
   "outputs": [],
   "source": [
    "a = np.array([1, 2, 3])\n",
    "b = np.array([1, 5, 0])\n",
    "# a = np.insert(a, 0, b)\n",
    "# a"
   ]
  },
  {
   "cell_type": "code",
   "execution_count": 15,
   "metadata": {},
   "outputs": [
    {
     "data": {
      "text/plain": [
       "{1}"
      ]
     },
     "execution_count": 15,
     "metadata": {},
     "output_type": "execute_result"
    }
   ],
   "source": [
    "set(a) & set(b)"
   ]
  },
  {
   "cell_type": "code",
   "execution_count": 12,
   "metadata": {},
   "outputs": [
    {
     "data": {
      "text/plain": [
       "1.5"
      ]
     },
     "execution_count": 12,
     "metadata": {},
     "output_type": "execute_result"
    }
   ],
   "source": [
    "np.mean([1, 2])"
   ]
  },
  {
   "cell_type": "code",
   "execution_count": 10,
   "metadata": {},
   "outputs": [],
   "source": [
    "sorted_by_age = sorted(zip(a, b), key=lambda x: x[1])\n",
    "sorted_messages, sorted_shares = [list(i) for i in zip(*sorted_by_age)]"
   ]
  },
  {
   "cell_type": "code",
   "execution_count": 11,
   "metadata": {},
   "outputs": [
    {
     "data": {
      "text/plain": [
       "([3, 2, 1], [0, 5, 6])"
      ]
     },
     "execution_count": 11,
     "metadata": {},
     "output_type": "execute_result"
    }
   ],
   "source": [
    "sorted_messages, sorted_shares"
   ]
  },
  {
   "cell_type": "code",
   "execution_count": 4,
   "metadata": {},
   "outputs": [
    {
     "data": {
      "text/plain": [
       "5"
      ]
     },
     "execution_count": 4,
     "metadata": {},
     "output_type": "execute_result"
    }
   ],
   "source": [
    "a[1]"
   ]
  },
  {
   "cell_type": "code",
   "execution_count": 16,
   "metadata": {},
   "outputs": [
    {
     "data": {
      "text/plain": [
       "array([2, 3, 4])"
      ]
     },
     "execution_count": 16,
     "metadata": {},
     "output_type": "execute_result"
    }
   ],
   "source": [
    "a += np.ones(len(a), dtype=int)\n",
    "a"
   ]
  },
  {
   "cell_type": "code",
   "execution_count": 17,
   "metadata": {},
   "outputs": [
    {
     "data": {
      "text/plain": [
       "array([2, 3])"
      ]
     },
     "execution_count": 17,
     "metadata": {},
     "output_type": "execute_result"
    }
   ],
   "source": [
    "a[:2]"
   ]
  },
  {
   "cell_type": "code",
   "execution_count": 18,
   "metadata": {},
   "outputs": [
    {
     "data": {
      "text/plain": [
       "3"
      ]
     },
     "execution_count": 18,
     "metadata": {},
     "output_type": "execute_result"
    }
   ],
   "source": [
    "len(a)"
   ]
  },
  {
   "cell_type": "code",
   "execution_count": 22,
   "metadata": {},
   "outputs": [
    {
     "data": {
      "text/plain": [
       "True"
      ]
     },
     "execution_count": 22,
     "metadata": {},
     "output_type": "execute_result"
    }
   ],
   "source": [
    "isinstance(a, np.ndarray)"
   ]
  },
  {
   "cell_type": "code",
   "execution_count": 19,
   "metadata": {},
   "outputs": [
    {
     "data": {
      "text/plain": [
       "[2, 3, 4]"
      ]
     },
     "execution_count": 19,
     "metadata": {},
     "output_type": "execute_result"
    }
   ],
   "source": [
    "a.tolist()"
   ]
  },
  {
   "cell_type": "code",
   "execution_count": 23,
   "metadata": {},
   "outputs": [
    {
     "data": {
      "text/plain": [
       "nan"
      ]
     },
     "execution_count": 23,
     "metadata": {},
     "output_type": "execute_result"
    }
   ],
   "source": [
    "np.mean(np.array([np.nan, 2]))"
   ]
  },
  {
   "cell_type": "code",
   "execution_count": null,
   "metadata": {},
   "outputs": [],
   "source": []
  }
 ],
 "metadata": {
  "kernelspec": {
   "display_name": "marketplace",
   "language": "python",
   "name": "python3"
  },
  "language_info": {
   "codemirror_mode": {
    "name": "ipython",
    "version": 3
   },
   "file_extension": ".py",
   "mimetype": "text/x-python",
   "name": "python",
   "nbconvert_exporter": "python",
   "pygments_lexer": "ipython3",
   "version": "3.8.17"
  }
 },
 "nbformat": 4,
 "nbformat_minor": 2
}
