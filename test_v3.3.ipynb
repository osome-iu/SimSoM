{
 "cells": [
  {
   "cell_type": "markdown",
   "metadata": {},
   "source": [
    "Test case for handling overlap mesages"
   ]
  },
  {
   "cell_type": "code",
   "execution_count": 136,
   "metadata": {},
   "outputs": [],
   "source": [
    "## function copied from v3.3\n",
    "import numpy as np\n",
    "\n",
    "verbose = True\n",
    "\n",
    "\n",
    "def update_feed_handle_overlap(target_feed, incoming_ids, incoming_shares):\n",
    "    \"\"\"\n",
    "    Update feed with new messages.\n",
    "    Handle overlapping: if message already exists, reset age to 0. Increment age for the rest of the messages\n",
    "    New messages are appended to the beginning of the feed, existing messages order is maintained\n",
    "    - target_feed (tuple of lists): (message_ids, no_shares, ages), represents an agent's news feed\n",
    "    \"\"\"\n",
    "\n",
    "    messages, no_shares, ages = [np.array(i) for i in target_feed]\n",
    "    # return sorted intersection\n",
    "    overlap, x_ind, y_ind = np.intersect1d(messages, incoming_ids, return_indices=True)\n",
    "    # print(new_messages, new_shares, new_ages)\n",
    "    if verbose:\n",
    "        print(f\"incoming ids : {incoming_ids} --> feed: {messages}\")\n",
    "        print(f\"no_shares : {incoming_shares} --> feed: {no_shares}\")\n",
    "        print(f\"incoming age : {np.zeros(len(incoming_ids))} --> feed: {ages}\")\n",
    "\n",
    "        print(f\"overlap message between {messages} and {incoming_ids} are: {overlap}\")\n",
    "        print(f\"sorted messages incoming: {sorted_incoming_messages}\")\n",
    "        print(\n",
    "            f\"no_shares: old: {new_shares[x_ind]}, incoming: {sorted_incoming_shares[y_ind]}\"\n",
    "        )\n",
    "\n",
    "        print(\"update no_share and age of overlapping messages.. \")\n",
    "        print(f\"before:  messages: {messages}, shares: {no_shares}, ages: {ages}\")\n",
    "\n",
    "    print(\"incoming except for overlap: \", incoming_ids[~np.array(y_ind)])\n",
    "    print(\n",
    "        \"incoming except for overlap (tuple): \", incoming_ids[tuple(~np.array(y_ind))]\n",
    "    )\n",
    "    print(\"x_ind, y_ind: \", x_ind, y_ind)\n",
    "    # mask_y = np.zeros(len(incoming_ids), bool)\n",
    "    # mask_y[[y_ind]] = True\n",
    "\n",
    "    # print(\"(correct) incoming except for overlap: \", incoming_ids[~mask_y])\n",
    "    # mask_x = np.zeros(len(messages), bool)\n",
    "    # mask_x[[x_ind]] = True\n",
    "\n",
    "    mask_x, mask_y = np.zeros(len(messages), bool), np.zeros(len(incoming_ids), bool)\n",
    "    mask_x[[x_ind]], mask_y[[y_ind]] = True, True\n",
    "\n",
    "    print(\"(correct) incoming except for overlap: \", incoming_ids[~mask_y])\n",
    "\n",
    "    print(f\"mask_x: {mask_x}, mask_y: {mask_y}\")\n",
    "    # update no_shares and age of existing messages from the sorted old feed:\n",
    "    print(\n",
    "        \"incoming_shares (to add to existing) incoming[mask_y]: \",\n",
    "        incoming_shares[mask_y],\n",
    "    )\n",
    "    print(\"no_shares (existing) [mask_x]: \", no_shares[mask_x])\n",
    "    no_shares[mask_x] += incoming_shares[mask_y]\n",
    "\n",
    "    # add age to all other messages\n",
    "    ages += np.ones(len(ages), dtype=int)\n",
    "    # reset age existing messages\n",
    "    ages[mask_x] = np.zeros(len(y_ind))\n",
    "\n",
    "    if verbose:\n",
    "        print(f\"after:  messages: {messages}, shares: {no_shares}, ages: {ages}\")\n",
    "    # push new messages into the feed (only the non-overlapping messages)\n",
    "    no_shares = np.insert(no_shares, 0, incoming_shares[~mask_y])\n",
    "    messages = np.insert(messages, 0, incoming_ids[~mask_y])\n",
    "\n",
    "    ages = np.insert(ages, 0, np.zeros(len(incoming_shares[~mask_y])))\n",
    "\n",
    "    if verbose:\n",
    "        print(f\"updated: messages: {messages}, shares: {no_shares}, ages: {ages}\")\n",
    "    updated_feed = (list(messages), list(no_shares), list(ages))\n",
    "    return updated_feed\n",
    "\n",
    "\n",
    "def _handle_oversized_feed(newsfeed, alpha=15):\n",
    "    \"\"\"\n",
    "    Handles oversized newsfeed\n",
    "    Returns the newsfeed (tuple of lists) where the oldest message is removed\n",
    "    Input:\n",
    "        feed (tuple - (list of int, list of int)): (list of mess_ids - list of popularities), represents an agent's news feed\n",
    "    \"\"\"\n",
    "    # Remove messages based on age - oldest first\n",
    "    messages, shares, ages = newsfeed\n",
    "\n",
    "    sorted_by_age = sorted(zip(messages, shares, ages), key=lambda x: x[2])\n",
    "    sorted_messages, sorted_shares, sorted_ages = [list(i) for i in zip(*sorted_by_age)]\n",
    "\n",
    "    updated_feed = (\n",
    "        sorted_messages[:alpha],\n",
    "        sorted_shares[:alpha],\n",
    "        sorted_ages[:alpha],\n",
    "    )\n",
    "\n",
    "    assert len(updated_feed[0]) <= alpha\n",
    "\n",
    "    return updated_feed"
   ]
  },
  {
   "cell_type": "code",
   "execution_count": 5,
   "metadata": {},
   "outputs": [],
   "source": [
    "import numpy as np\n",
    "\n",
    "incoming_ids = np.array([100, 2])\n",
    "incoming_shares = np.array([10, 4])"
   ]
  },
  {
   "cell_type": "markdown",
   "metadata": {},
   "source": [
    "### Test case 1 "
   ]
  },
  {
   "cell_type": "code",
   "execution_count": 7,
   "metadata": {},
   "outputs": [],
   "source": [
    "# incoming messages, if not overlapping are added at the beginning of the list\n",
    "# if a message overlaps, its popularity is updated (+=new popularity), and age is reset to 0\n",
    "messages = np.array([3, 1, 2, 4])\n",
    "no_shares = [1, 1, 3, 1]\n",
    "ages = [1, 1, 1, 1]\n",
    "\n",
    "target_feed = (messages, no_shares, ages)\n",
    "correct_output = ([100, 1, 2, 3, 4], [10, 1, 7, 1, 1], [0, 2, 0, 2, 2])"
   ]
  },
  {
   "cell_type": "code",
   "execution_count": 8,
   "metadata": {},
   "outputs": [
    {
     "name": "stdout",
     "output_type": "stream",
     "text": [
      "incoming ids : [100   2] --> feed: [3 1 2 4]\n",
      "no_shares : [10  4] --> feed: [1, 1, 3, 1]\n",
      "incoming age : [0. 0.] --> feed: [1, 1, 1, 1]\n",
      "overlap message between [3 1 2 4] and [100   2] are: [2]\n",
      "sorted messages incoming: [  2 100]\n",
      "no_shares: old: [7], incoming: [4]\n",
      "update no_share and age of overlapping messages.. \n",
      "before:  messages: [1 2 3 4], shares: [1 7 1 1], ages: [2 0 2 2]\n",
      "updated: messages: [100   1   2   3   4], shares: [10  1  7  1  1], ages: [0 2 0 2 2]\n"
     ]
    }
   ],
   "source": [
    "new_feed = _update_feed_handle_overlap(target_feed, incoming_ids, incoming_shares)"
   ]
  },
  {
   "cell_type": "code",
   "execution_count": 11,
   "metadata": {},
   "outputs": [
    {
     "name": "stdout",
     "output_type": "stream",
     "text": [
      "[100, 1, 2, 3, 4]\n",
      "[10, 1, 7, 1, 1]\n",
      "[0, 2, 0, 2, 2]\n"
     ]
    }
   ],
   "source": [
    "for idx, alist in enumerate(correct_output):\n",
    "    print(alist)\n",
    "    assert new_feed[idx] == alist"
   ]
  },
  {
   "cell_type": "code",
   "execution_count": 12,
   "metadata": {},
   "outputs": [
    {
     "data": {
      "text/plain": [
       "([100, 2, 1], [10, 7, 1], [0, 0, 2])"
      ]
     },
     "execution_count": 12,
     "metadata": {},
     "output_type": "execute_result"
    }
   ],
   "source": [
    "clipped = _handle_oversized_feed(new_feed, alpha=3)\n",
    "clipped"
   ]
  },
  {
   "cell_type": "code",
   "execution_count": 13,
   "metadata": {},
   "outputs": [
    {
     "name": "stdout",
     "output_type": "stream",
     "text": [
      "[100, 2, 1]\n",
      "[10, 7, 1]\n",
      "[0, 0, 2]\n"
     ]
    }
   ],
   "source": [
    "correct_output_oversize = ([100, 2, 1], [10, 7, 1], [0, 0, 2])\n",
    "for idx, alist in enumerate(correct_output_oversize):\n",
    "    print(alist)\n",
    "    assert clipped[idx] == alist"
   ]
  },
  {
   "cell_type": "markdown",
   "metadata": {},
   "source": [
    "### Test case 1 "
   ]
  },
  {
   "cell_type": "code",
   "execution_count": 137,
   "metadata": {},
   "outputs": [
    {
     "name": "stdout",
     "output_type": "stream",
     "text": [
      "incoming ids : [100   2] --> feed: [3 1 2 4]\n",
      "no_shares : [10  4] --> feed: [1, 1, 3, 1]\n",
      "incoming age : [0. 0.] --> feed: [1, 1, 1, 1]\n"
     ]
    }
   ],
   "source": [
    "# incoming messages, if not overlapping are added at the beginning of the list\n",
    "# if a message overlaps, its popularity is updated (+=new popularity), and age is reset to 0\n",
    "messages = np.array([3, 1, 2, 4])\n",
    "no_shares = [1, 1, 3, 1]\n",
    "ages = [1, 1, 1, 1]\n",
    "\n",
    "target_feed = (messages, no_shares, ages)\n",
    "incoming_ids = np.array([100, 2])\n",
    "incoming_shares = np.array([10, 4])\n",
    "\n",
    "print(f\"incoming ids : {incoming_ids} --> feed: {messages}\")\n",
    "print(f\"no_shares : {incoming_shares} --> feed: {no_shares}\")\n",
    "print(f\"incoming age : {np.zeros(len(incoming_ids))} --> feed: {ages}\")"
   ]
  },
  {
   "cell_type": "code",
   "execution_count": 138,
   "metadata": {},
   "outputs": [],
   "source": [
    "correct_output = ([100, 3, 1, 2, 4], [10, 1, 1, 7, 1], [0, 2, 2, 0, 2])"
   ]
  },
  {
   "cell_type": "code",
   "execution_count": 139,
   "metadata": {},
   "outputs": [
    {
     "name": "stdout",
     "output_type": "stream",
     "text": [
      "incoming ids : [100   2] --> feed: [3 1 2 4]\n",
      "no_shares : [10  4] --> feed: [1 1 3 1]\n",
      "incoming age : [0. 0.] --> feed: [1 1 1 1]\n",
      "overlap message between [3 1 2 4] and [100   2] are: [2]\n",
      "update no_share and age of overlapping messages.. \n",
      "before:  messages: [3 1 2 4], shares: [1 1 3 1], ages: [1 1 1 1]\n",
      "incoming except for overlap:  [100]\n",
      "incoming except for overlap (tuple):  100\n",
      "x_ind, y_ind:  [2] [1]\n",
      "(correct) incoming except for overlap:  [100]\n",
      "mask_x: [False False  True False], mask_y: [False  True]\n",
      "incoming_shares (to add to existing) incoming[mask_y]:  [4]\n",
      "no_shares (existing) [mask_x]:  [3]\n",
      "after:  messages: [3 1 2 4], shares: [1 1 7 1], ages: [2 2 0 2]\n",
      "updated: messages: [100   3   1   2   4], shares: [10  1  1  7  1], ages: [0 2 2 0 2]\n",
      "[100, 3, 1, 2, 4]\n",
      "[10, 1, 1, 7, 1]\n",
      "[0, 2, 2, 0, 2]\n"
     ]
    },
    {
     "name": "stderr",
     "output_type": "stream",
     "text": [
      "/var/folders/gj/zfw5qy_n09d78gdzsfht4c7m0000gn/T/ipykernel_91285/3125993726.py:39: FutureWarning: Using a non-tuple sequence for multidimensional indexing is deprecated; use `arr[tuple(seq)]` instead of `arr[seq]`. In the future this will be interpreted as an array index, `arr[np.array(seq)]`, which will result either in an error or a different result.\n",
      "  mask_x[[x_ind]], mask_y[[y_ind]] = True, True\n"
     ]
    }
   ],
   "source": [
    "new_feed = update_feed_handle_overlap(target_feed, incoming_ids, incoming_shares)\n",
    "for idx, alist in enumerate(correct_output):\n",
    "    print(alist)\n",
    "    assert new_feed[idx] == alist"
   ]
  },
  {
   "cell_type": "markdown",
   "metadata": {},
   "source": [
    "### Test case 2"
   ]
  },
  {
   "cell_type": "code",
   "execution_count": 97,
   "metadata": {},
   "outputs": [
    {
     "name": "stdout",
     "output_type": "stream",
     "text": [
      "incoming ids : [2878 2108 1053 2629] --> feed: [1053]\n",
      "no_shares : [1 1 1 1] --> feed: [1]\n",
      "incoming age : [0. 0. 0. 0.] --> feed: [1]\n"
     ]
    }
   ],
   "source": [
    "# incoming messages, if not overlapping are added at the beginning of the list\n",
    "# if a message overlaps, its popularity is updated (+=new popularity), and age is reset to 0\n",
    "messages = np.array([1053])\n",
    "no_shares = [1]\n",
    "ages = [1]\n",
    "\n",
    "target_feed = (messages, no_shares, ages)\n",
    "\n",
    "incoming_ids = np.array([2878, 2108, 1053, 2629])\n",
    "incoming_shares = np.array([1, 1, 1, 1])\n",
    "\n",
    "print(f\"incoming ids : {incoming_ids} --> feed: {messages}\")\n",
    "print(f\"no_shares : {incoming_shares} --> feed: {no_shares}\")\n",
    "print(f\"incoming age : {np.zeros(len(incoming_ids))} --> feed: {ages}\")"
   ]
  },
  {
   "cell_type": "code",
   "execution_count": 98,
   "metadata": {},
   "outputs": [],
   "source": [
    "correct_output = ([2878, 2108, 2629, 1053], [1, 1, 1, 2], [0, 0, 0, 0])"
   ]
  },
  {
   "cell_type": "code",
   "execution_count": 99,
   "metadata": {},
   "outputs": [
    {
     "name": "stdout",
     "output_type": "stream",
     "text": [
      "incoming ids : [2878 2108 1053 2629] --> feed: [1053]\n",
      "no_shares : [1 1 1 1] --> feed: [1]\n",
      "incoming age : [0. 0. 0. 0.] --> feed: [1]\n",
      "overlap message between [1053] and [2878 2108 1053 2629] are: [1053]\n",
      "update no_share and age of overlapping messages.. \n",
      "before:  messages: [1053], shares: [1], ages: [1]\n",
      "incoming except for overlap:  [2108]\n",
      "incoming except for overlap (tuple):  2108\n",
      "(correct) incoming except for overlap:  [2878 2108 2629]\n",
      "mask_x: [ True], mask_y: [False False  True False]\n",
      "incoming_shares (to add to existing) incoming[mask_y]:  [1]\n",
      "no_shares (existing) [mask_x]:  [1]\n",
      "after:  messages: [1053], shares: [2], ages: [0]\n",
      "updated: messages: [2878 2108 2629 1053], shares: [1 1 1 2], ages: [0 0 0 0]\n",
      "[2878, 2108, 2629, 1053]\n",
      "[1, 1, 1, 2]\n",
      "[0, 0, 0, 0]\n"
     ]
    },
    {
     "name": "stderr",
     "output_type": "stream",
     "text": [
      "/var/folders/gj/zfw5qy_n09d78gdzsfht4c7m0000gn/T/ipykernel_91285/2184657156.py:38: FutureWarning: Using a non-tuple sequence for multidimensional indexing is deprecated; use `arr[tuple(seq)]` instead of `arr[seq]`. In the future this will be interpreted as an array index, `arr[np.array(seq)]`, which will result either in an error or a different result.\n",
      "  mask_x[[x_ind]], mask_y[[y_ind]] = True, True\n"
     ]
    }
   ],
   "source": [
    "new_feed = update_feed_handle_overlap(target_feed, incoming_ids, incoming_shares)\n",
    "for idx, alist in enumerate(correct_output):\n",
    "    print(alist)\n",
    "    assert new_feed[idx] == alist"
   ]
  },
  {
   "cell_type": "markdown",
   "metadata": {},
   "source": [
    "### Try to fix Warning but it doesn't work"
   ]
  },
  {
   "cell_type": "code",
   "execution_count": null,
   "metadata": {},
   "outputs": [
    {
     "ename": "IndexError",
     "evalue": "too many indices for array: array is 1-dimensional, but 2 were indexed",
     "output_type": "error",
     "traceback": [
      "\u001b[0;31m---------------------------------------------------------------------------\u001b[0m\n",
      "\u001b[0;31mIndexError\u001b[0m                                Traceback (most recent call last)\n",
      "\u001b[1;32m/Users/baott/SimSoM/test_v3.3.ipynb Cell 3\u001b[0m line \u001b[0;36m5\n",
      "\u001b[1;32m      <a href='vscode-notebook-cell:/Users/baott/SimSoM/test_v3.3.ipynb#Y164sZmlsZQ%3D%3D?line=2'>3</a>\u001b[0m mask_x, mask_y \u001b[39m=\u001b[39m np\u001b[39m.\u001b[39mzeros(\u001b[39m4\u001b[39m, \u001b[39mbool\u001b[39m), np\u001b[39m.\u001b[39mzeros(\u001b[39m7\u001b[39m, \u001b[39mbool\u001b[39m)\n",
      "\u001b[1;32m      <a href='vscode-notebook-cell:/Users/baott/SimSoM/test_v3.3.ipynb#Y164sZmlsZQ%3D%3D?line=3'>4</a>\u001b[0m x_ind, y_ind \u001b[39m=\u001b[39m np\u001b[39m.\u001b[39marray([\u001b[39m2\u001b[39m,\u001b[39m3\u001b[39m]), np\u001b[39m.\u001b[39marray([\u001b[39m0\u001b[39m,\u001b[39m1\u001b[39m])\n",
      "\u001b[0;32m----> <a href='vscode-notebook-cell:/Users/baott/SimSoM/test_v3.3.ipynb#Y164sZmlsZQ%3D%3D?line=4'>5</a>\u001b[0m mask_x[\u001b[39mtuple\u001b[39m(x_ind)], mask_y[\u001b[39mtuple\u001b[39m(y_ind)] \u001b[39m=\u001b[39m \u001b[39mTrue\u001b[39;00m, \u001b[39mTrue\u001b[39;00m\n",
      "\u001b[1;32m      <a href='vscode-notebook-cell:/Users/baott/SimSoM/test_v3.3.ipynb#Y164sZmlsZQ%3D%3D?line=5'>6</a>\u001b[0m \u001b[39m# mask_x = tuple(mask_x)\u001b[39;00m\n",
      "\n",
      "\u001b[0;31mIndexError\u001b[0m: too many indices for array: array is 1-dimensional, but 2 were indexed"
     ]
    }
   ],
   "source": [
    "# overlap, x_ind, y_ind = np.intersect1d(messages, incoming_ids, return_indices=True)\n",
    "# mask_x, mask_y = np.zeros(len(messages), bool), np.zeros(len(incoming_ids), bool)\n",
    "mask_x, mask_y = np.zeros(4, bool), np.zeros(7, bool)\n",
    "x_ind, y_ind = np.array([2, 3]), np.array([0, 1])\n",
    "mask_x[tuple(x_ind)], mask_y[tuple(y_ind)] = True, True\n",
    "# mask_x = tuple(mask_x)"
   ]
  },
  {
   "cell_type": "code",
   "execution_count": null,
   "metadata": {},
   "outputs": [
    {
     "data": {
      "text/plain": [
       "array([False, False, False, False])"
      ]
     },
     "metadata": {},
     "output_type": "display_data"
    }
   ],
   "source": [
    "np.zeros(4, bool)"
   ]
  },
  {
   "cell_type": "code",
   "execution_count": null,
   "metadata": {},
   "outputs": [
    {
     "data": {
      "text/plain": [
       "array([3, 1])"
      ]
     },
     "metadata": {},
     "output_type": "display_data"
    }
   ],
   "source": [
    "messages[~mask_x]"
   ]
  },
  {
   "cell_type": "code",
   "execution_count": null,
   "metadata": {},
   "outputs": [],
   "source": [
    "mask_y = np.zeros(len(incoming_ids), bool)\n",
    "mask_y[[y_ind]] = True"
   ]
  }
 ],
 "metadata": {
  "language_info": {
   "name": "python"
  }
 },
 "nbformat": 4,
 "nbformat_minor": 2
}
