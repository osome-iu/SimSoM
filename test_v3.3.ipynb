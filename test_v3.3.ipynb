{
 "cells": [
  {
   "cell_type": "markdown",
   "metadata": {},
   "source": [
    "Test case for handling overlap mesages"
   ]
  },
  {
   "cell_type": "code",
   "execution_count": 2,
   "metadata": {},
   "outputs": [],
   "source": [
    "import numpy as np"
   ]
  },
  {
   "cell_type": "markdown",
   "metadata": {},
   "source": [
    "# Handle overlap"
   ]
  },
  {
   "cell_type": "code",
   "execution_count": null,
   "metadata": {},
   "outputs": [],
   "source": [
    "## function copied from v3.3 \n",
    "\n",
    "verbose=True\n",
    "def _update_feed_handle_overlap(target_feed, incoming_ids, incoming_shares):\n",
    "    \"\"\"\n",
    "    - target_feed (tuple of lists): (message_ids, no_shares, ages), represents an agent's news feed\n",
    "    \"\"\"\n",
    "    # new_message_age = 0\n",
    "    # check overlap with existing messages\n",
    "    # if message exists, reset age\n",
    "    # for the rest of the messages, increment age\n",
    "\n",
    "    messages, no_shares, ages = target_feed\n",
    "\n",
    "    feed = zip(messages, no_shares, ages)  # list of tuples\n",
    "    sorted_feed = sorted(list(feed), key=lambda x: x[0])\n",
    "    new_messages, new_shares, new_ages = [np.array(i) for i in zip(*sorted_feed)]\n",
    "\n",
    "    sorted_incoming = sorted(\n",
    "        list(zip(incoming_ids, incoming_shares)), key=lambda x: x[0]\n",
    "    )\n",
    "    sorted_incoming_messages, sorted_incoming_shares = [\n",
    "        np.array(i) for i in zip(*sorted_incoming)\n",
    "    ]\n",
    "    # return sorted intersection\n",
    "    overlap, x_ind, y_ind = np.intersect1d(\n",
    "        new_messages, sorted_incoming_messages, return_indices=True\n",
    "    )\n",
    "    # update shares:\n",
    "    new_shares[x_ind] += sorted_incoming_shares[y_ind]\n",
    "    new_ages += np.ones(len(new_ages), dtype=int)\n",
    "    new_ages[x_ind] = np.zeros(len(y_ind))\n",
    "    if verbose:\n",
    "        print(\"update no_share and age of overlapping messages.. \")\n",
    "\n",
    "        print(\n",
    "            f\"before:  messages: {new_messages}, shares: {new_shares}, ages: {new_ages}\"\n",
    "        )\n",
    "\n",
    "    # push new messages into the feed, only append non-overlapping messages\n",
    "    new_shares = np.insert(new_shares, 0, sorted_incoming_shares[~y_ind])\n",
    "    new_messages = np.insert(new_messages, 0, sorted_incoming_messages[~y_ind])\n",
    "\n",
    "    new_ages = np.insert(new_ages, 0, np.zeros(len(sorted_incoming_shares[~y_ind])))\n",
    "\n",
    "    if verbose:\n",
    "        print(\n",
    "            f\"updated: messages: {new_messages}, shares: {new_shares}, ages: {new_ages}\"\n",
    "        )\n",
    "    updated_feed = (list(new_messages), list(new_shares), list(new_ages))\n",
    "    return updated_feed"
   ]
  },
  {
   "cell_type": "markdown",
   "metadata": {},
   "source": [
    "## Function"
   ]
  },
  {
   "cell_type": "code",
   "execution_count": 3,
   "metadata": {},
   "outputs": [],
   "source": [
    "import numpy as np\n",
    "\n",
    "agent_feeds = dict()\n",
    "\n",
    "messages = np.array([3, 1, 2, 4])\n",
    "no_shares = [1, 1, 3, 1]\n",
    "ages = [1, 1, 1, 1]\n",
    "\n",
    "agent_feeds[\"fil\"] = (messages, no_shares, ages)\n",
    "\n",
    "incoming_ids = np.array([100, 2])\n",
    "incoming_shares = np.array([10, 4])"
   ]
  },
  {
   "cell_type": "code",
   "execution_count": 31,
   "metadata": {},
   "outputs": [],
   "source": [
    "feed = messages, no_shares, ages"
   ]
  },
  {
   "cell_type": "code",
   "execution_count": 32,
   "metadata": {},
   "outputs": [],
   "source": [
    "afeed = zip(messages, no_shares, ages)"
   ]
  },
  {
   "cell_type": "code",
   "execution_count": 33,
   "metadata": {},
   "outputs": [],
   "source": [
    "bfeed = list(zip(feed))"
   ]
  },
  {
   "cell_type": "code",
   "execution_count": 34,
   "metadata": {},
   "outputs": [
    {
     "data": {
      "text/plain": [
       "[(array([3, 1, 2, 4]),), ([1, 1, 3, 1],), ([1, 1, 1, 1],)]"
      ]
     },
     "execution_count": 34,
     "metadata": {},
     "output_type": "execute_result"
    }
   ],
   "source": [
    "list(bfeed)"
   ]
  },
  {
   "cell_type": "code",
   "execution_count": 30,
   "metadata": {},
   "outputs": [
    {
     "data": {
      "text/plain": [
       "[(3, 1, 1), (1, 1, 1), (2, 3, 1), (4, 1, 1)]"
      ]
     },
     "execution_count": 30,
     "metadata": {},
     "output_type": "execute_result"
    }
   ],
   "source": [
    "list(afeed)"
   ]
  },
  {
   "cell_type": "code",
   "execution_count": 10,
   "metadata": {},
   "outputs": [],
   "source": [
    "def update_feed_handle_overlap(target_id, incoming_ids, incoming_shares):\n",
    "    messages, no_shares, ages = agent_feeds[target_id]\n",
    "\n",
    "    feed = zip(messages, no_shares, ages)\n",
    "    print(feed)\n",
    "    sorted_feed = sorted(list(feed), key=lambda x: x[0])\n",
    "    print(sorted_feed)\n",
    "    new_messages, new_shares, new_ages = [np.array(i) for i in zip(*sorted_feed)]\n",
    "    print(new_messages, new_shares, new_ages)\n",
    "\n",
    "    print(incoming_ids, incoming_shares)\n",
    "    sorted_incoming = sorted(\n",
    "        list(zip(incoming_ids, incoming_shares)), key=lambda x: x[0]\n",
    "    )\n",
    "\n",
    "    sorted_incoming_messages, sorted_incoming_shares = [\n",
    "        np.array(i) for i in zip(*sorted_incoming)\n",
    "    ]\n",
    "    print(sorted_incoming_messages, sorted_incoming_shares)\n",
    "    # return sorted intersection\n",
    "    overlap, x_ind, y_ind = np.intersect1d(\n",
    "        new_messages, sorted_incoming_messages, return_indices=True\n",
    "    )\n",
    "\n",
    "    # update shares:\n",
    "    print(\"update no_share and age of overlapping messages.. \")\n",
    "    new_shares[x_ind] += sorted_incoming_shares[y_ind]\n",
    "    new_ages += np.ones(len(new_ages), dtype=int)\n",
    "    new_ages[x_ind] = np.zeros(len(y_ind))\n",
    "    print(f\"updated:  messages: {new_messages}, shares: {new_shares}, ages: {new_ages}\")\n",
    "    # only append non-overlapping messages\n",
    "    # non_overlapping_shares = sorted_incoming_shares[~y_ind]\n",
    "    # non_overlapping_messages = sorted_incoming_messages[~y_ind]\n",
    "    # push new messages into the feed\n",
    "\n",
    "    new_shares = np.insert(new_shares, 0, sorted_incoming_shares[~y_ind])\n",
    "    new_messages = np.insert(new_messages, 0, sorted_incoming_messages[~y_ind])\n",
    "\n",
    "    new_ages = np.insert(new_ages, 0, np.zeros(len(sorted_incoming_shares[~y_ind])))\n",
    "    print(f\"updated: messages: {new_messages}, shares: {new_shares}, ages: {new_ages}\")\n",
    "    new_feed = (new_messages, new_shares, new_ages)\n",
    "    return new_feed"
   ]
  },
  {
   "cell_type": "markdown",
   "metadata": {},
   "source": [
    "### Test function"
   ]
  },
  {
   "cell_type": "code",
   "execution_count": 17,
   "metadata": {},
   "outputs": [],
   "source": [
    "# incoming messages, if not overlapping are added at the beginning of the list\n",
    "# if a message overlaps, its popularity is updated (+=new popularity), and age is reset to 0\n",
    "correct_output = ([100, 1, 2, 3, 4], [10, 1, 7, 1, 1], [0, 2, 0, 2, 2])"
   ]
  },
  {
   "cell_type": "code",
   "execution_count": 18,
   "metadata": {},
   "outputs": [
    {
     "name": "stdout",
     "output_type": "stream",
     "text": [
      "<zip object at 0x11dd0c480>\n",
      "[(1, 1, 1), (2, 3, 1), (3, 1, 1), (4, 1, 1)]\n",
      "[1 2 3 4] [1 3 1 1] [1 1 1 1]\n",
      "[100   2] [10  4]\n",
      "[  2 100] [ 4 10]\n",
      "update no_share and age of overlapping messages.. \n",
      "updated:  messages: [1 2 3 4], shares: [1 7 1 1], ages: [2 0 2 2]\n",
      "updated: messages: [100   1   2   3   4], shares: [10  1  7  1  1], ages: [0 2 0 2 2]\n"
     ]
    }
   ],
   "source": [
    "new_feed = update_feed_handle_overlap(\"fil\", incoming_ids, incoming_shares)"
   ]
  },
  {
   "cell_type": "code",
   "execution_count": 19,
   "metadata": {},
   "outputs": [],
   "source": [
    "for idx, alist in enumerate(correct_output):\n",
    "    assert (new_feed[idx] == alist).all()"
   ]
  },
  {
   "cell_type": "markdown",
   "metadata": {},
   "source": [
    "## Debug"
   ]
  },
  {
   "cell_type": "code",
   "execution_count": 242,
   "metadata": {},
   "outputs": [],
   "source": [
    "messages = np.array([3, 1, 2, 4])\n",
    "no_shares = [1, 1, 3, 1]\n",
    "ages = [1, 1, 1, 1]\n",
    "incoming = np.array([100, 2])\n",
    "incoming_shares = np.array([10, 4])\n",
    "# correct_output = ([1,2,3,4,100], [1, 3, 1,10], [1, 0, 1, 1,0])"
   ]
  },
  {
   "cell_type": "code",
   "execution_count": 243,
   "metadata": {},
   "outputs": [
    {
     "name": "stdout",
     "output_type": "stream",
     "text": [
      "<zip object at 0x114829e80>\n",
      "[(1, 1, 1), (2, 3, 1), (3, 1, 1), (4, 1, 1)]\n",
      "[1 2 3 4] [1 3 1 1] [1 1 1 1]\n",
      "[100   2] [10  4]\n",
      "[  2 100] [ 4 10]\n"
     ]
    },
    {
     "data": {
      "text/plain": [
       "(array([2]), array([1]), array([0]))"
      ]
     },
     "execution_count": 243,
     "metadata": {},
     "output_type": "execute_result"
    }
   ],
   "source": [
    "feed = zip(messages, no_shares, ages)\n",
    "print(feed)\n",
    "sorted_feed = sorted(list(feed), key=lambda x: x[0])\n",
    "print(sorted_feed)\n",
    "new_messages, new_shares, new_ages = [np.array(i) for i in zip(*sorted_feed)]\n",
    "print(new_messages, new_shares, new_ages)\n",
    "\n",
    "print(incoming, incoming_shares)\n",
    "sorted_incoming = sorted(list(zip(incoming, incoming_shares)), key=lambda x: x[0])\n",
    "\n",
    "sorted_incoming_messages, sorted_incoming_shares = [\n",
    "    np.array(i) for i in zip(*sorted_incoming)\n",
    "]\n",
    "print(sorted_incoming_messages, sorted_incoming_shares)\n",
    "# return sorted intersection\n",
    "overlap, x_ind, y_ind = np.intersect1d(\n",
    "    new_messages, sorted_incoming_messages, return_indices=True\n",
    ")\n",
    "\n",
    "sorted_incoming_messages, sorted_incoming_shares\n",
    "# if message exists, reset age\n",
    "# for the rest of the messages, increment age\n",
    "overlap, x_ind, y_ind"
   ]
  },
  {
   "cell_type": "code",
   "execution_count": 244,
   "metadata": {},
   "outputs": [
    {
     "name": "stdout",
     "output_type": "stream",
     "text": [
      "incoming ids : [100   2] --> feed: [3 1 2 4]\n",
      "no_shares : [10  4] --> feed: [1, 1, 3, 1]\n",
      "incoming age : [0. 0.] --> feed: [1, 1, 1, 1]\n"
     ]
    }
   ],
   "source": [
    "incoming_ages = np.zeros(len(incoming))\n",
    "print(f\"incoming ids : {incoming} --> feed: {messages}\")\n",
    "print(f\"no_shares : {incoming_shares} --> feed: {no_shares}\")\n",
    "print(f\"incoming age : {incoming_ages} --> feed: {ages}\")"
   ]
  },
  {
   "cell_type": "code",
   "execution_count": 245,
   "metadata": {},
   "outputs": [
    {
     "data": {
      "text/plain": [
       "array([2])"
      ]
     },
     "execution_count": 245,
     "metadata": {},
     "output_type": "execute_result"
    }
   ],
   "source": [
    "new_messages[x_ind]"
   ]
  },
  {
   "cell_type": "code",
   "execution_count": 246,
   "metadata": {},
   "outputs": [
    {
     "name": "stdout",
     "output_type": "stream",
     "text": [
      "overlap message between [3 1 2 4] and [100   2] are: [2]\n",
      "sorted messages incoming: [  2 100]\n",
      "no_shares: old: [3], incoming: [4]\n"
     ]
    }
   ],
   "source": [
    "print(f\"overlap message between {messages} and {incoming} are: {overlap}\")\n",
    "print(f\"sorted messages incoming: {sorted_incoming_messages}\")\n",
    "print(f\"no_shares: old: {new_shares[x_ind]}, incoming: {sorted_incoming_shares[y_ind]}\")"
   ]
  },
  {
   "cell_type": "code",
   "execution_count": 247,
   "metadata": {},
   "outputs": [],
   "source": [
    "# # excluding overlapping messages\n",
    "# mask = np.ones(len(sorted_incoming_messages), dtype=bool)\n",
    "# mask[[y_ind],]=False\n",
    "# retain = sorted_incoming_messages[mask]\n",
    "# retain"
   ]
  },
  {
   "cell_type": "code",
   "execution_count": 248,
   "metadata": {},
   "outputs": [
    {
     "data": {
      "text/plain": [
       "array([1, 1, 1, 1])"
      ]
     },
     "execution_count": 248,
     "metadata": {},
     "output_type": "execute_result"
    }
   ],
   "source": [
    "new_ages"
   ]
  },
  {
   "cell_type": "code",
   "execution_count": 249,
   "metadata": {},
   "outputs": [
    {
     "name": "stdout",
     "output_type": "stream",
     "text": [
      "update no_share and age of overlapping messages.. \n",
      "updated:  messages: [1 2 3 4], shares: [1 7 1 1], ages: [2 0 2 2]\n",
      "updated: messages: [100   1   2   3   4], shares: [10  1  7  1  1], ages: [0 2 0 2 2]\n"
     ]
    }
   ],
   "source": [
    "# update shares:\n",
    "print(\"update no_share and age of overlapping messages.. \")\n",
    "new_shares[x_ind] += sorted_incoming_shares[y_ind]\n",
    "new_ages += np.ones(len(new_ages), dtype=int)\n",
    "new_ages[x_ind] = np.zeros(len(y_ind))\n",
    "print(f\"updated:  messages: {new_messages}, shares: {new_shares}, ages: {new_ages}\")\n",
    "# only append non-overlapping messages\n",
    "# non_overlapping_shares = sorted_incoming_shares[~y_ind]\n",
    "# non_overlapping_messages = sorted_incoming_messages[~y_ind]\n",
    "new_shares = np.insert(new_shares, 0, sorted_incoming_shares[~y_ind])\n",
    "new_messages = np.insert(new_messages, 0, sorted_incoming_messages[~y_ind])\n",
    "\n",
    "new_ages = np.insert(new_ages, 0, np.zeros(len(sorted_incoming_shares[~y_ind])))\n",
    "print(f\"updated: messages: {new_messages}, shares: {new_shares}, ages: {new_ages}\")"
   ]
  },
  {
   "cell_type": "code",
   "execution_count": null,
   "metadata": {},
   "outputs": [],
   "source": []
  },
  {
   "cell_type": "code",
   "execution_count": 173,
   "metadata": {},
   "outputs": [],
   "source": [
    "## same as delete [0,2,4]\n",
    "arr = np.arange(12) + 1\n",
    "\n",
    "mask = np.ones(len(arr), dtype=bool)\n",
    "\n",
    "mask[[0, 2, 4]] = False\n",
    "\n",
    "result = arr[mask]"
   ]
  },
  {
   "cell_type": "markdown",
   "metadata": {},
   "source": [
    "## Remove messages"
   ]
  },
  {
   "cell_type": "code",
   "execution_count": 76,
   "metadata": {},
   "outputs": [
    {
     "data": {
      "text/plain": [
       "(array([100,   1,   2,   3,   4]),\n",
       " array([10,  1,  7,  1,  1]),\n",
       " array([0, 2, 0, 2, 2]))"
      ]
     },
     "execution_count": 76,
     "metadata": {},
     "output_type": "execute_result"
    }
   ],
   "source": [
    "ids, shares, ages = new_feed\n",
    "ids, shares, ages"
   ]
  },
  {
   "cell_type": "code",
   "execution_count": 77,
   "metadata": {},
   "outputs": [
    {
     "data": {
      "text/plain": [
       "[(100, 10, 0), (2, 7, 0), (1, 1, 2), (3, 1, 2), (4, 1, 2)]"
      ]
     },
     "execution_count": 77,
     "metadata": {},
     "output_type": "execute_result"
    }
   ],
   "source": [
    "sorted_by_age = sorted(zip(ids, shares, ages), key=lambda x: x[2])\n",
    "sorted_by_age"
   ]
  },
  {
   "cell_type": "code",
   "execution_count": 78,
   "metadata": {},
   "outputs": [
    {
     "data": {
      "text/plain": [
       "(array([100,   2,   1,   3,   4]),\n",
       " array([10,  7,  1,  1,  1]),\n",
       " array([0, 0, 2, 2, 2]))"
      ]
     },
     "execution_count": 78,
     "metadata": {},
     "output_type": "execute_result"
    }
   ],
   "source": [
    "sorted_messages, sorted_shares, sorted_ages = [np.array(i) for i in zip(*sorted_by_age)]\n",
    "sorted_messages, sorted_shares, sorted_ages"
   ]
  },
  {
   "cell_type": "markdown",
   "metadata": {},
   "source": [
    "# Rank messages"
   ]
  },
  {
   "cell_type": "code",
   "execution_count": 36,
   "metadata": {},
   "outputs": [
    {
     "data": {
      "text/plain": [
       "array([1.86606598, 1.        ])"
      ]
     },
     "execution_count": 36,
     "metadata": {},
     "output_type": "execute_result"
    }
   ],
   "source": [
    "b = np.array([2, 1])\n",
    "c = b**0.9\n",
    "c"
   ]
  },
  {
   "cell_type": "code",
   "execution_count": 37,
   "metadata": {},
   "outputs": [
    {
     "data": {
      "text/plain": [
       "(array([100,   1,   2,   3,   4]),\n",
       " array([10,  1,  7,  1,  1]),\n",
       " array([0, 2, 0, 2, 2]))"
      ]
     },
     "execution_count": 37,
     "metadata": {},
     "output_type": "execute_result"
    }
   ],
   "source": [
    "new_feed"
   ]
  },
  {
   "cell_type": "code",
   "execution_count": 47,
   "metadata": {},
   "outputs": [
    {
     "name": "stdout",
     "output_type": "stream",
     "text": [
      "<zip object at 0x11dd30f80>\n",
      "[(1, 1, 1), (2, 3, 1), (3, 1, 1), (4, 1, 1)]\n",
      "[1 2 3 4] [1 3 1 1] [1 1 1 1]\n",
      "[100   2] [10  4]\n",
      "[  2 100] [ 4 10]\n",
      "update no_share and age of overlapping messages.. \n",
      "updated:  messages: [1 2 3 4], shares: [1 7 1 1], ages: [2 0 2 2]\n",
      "updated: messages: [100   1   2   3   4], shares: [10  1  7  1  1], ages: [0 2 0 2 2]\n",
      "\n",
      "relative shares:  [0.5  0.05 0.35 0.05 0.05]\n",
      "recency:  [0.         1.86606598 0.         1.86606598 1.86606598]\n",
      "engagement:  [0.5, 0, 0.1, 0.5, 0.5]\n"
     ]
    },
    {
     "data": {
      "text/plain": [
       "array([0.33333333, 0.63868866, 0.15      , 0.80535533, 0.80535533])"
      ]
     },
     "execution_count": 47,
     "metadata": {},
     "output_type": "execute_result"
    }
   ],
   "source": [
    "aging_lambda = 0.9\n",
    "new_feed = update_feed_handle_overlap(\"fil\", incoming_ids, incoming_shares)\n",
    "ids, shares, ages = new_feed\n",
    "\n",
    "relative_shares = shares / np.sum(shares)\n",
    "\n",
    "recency = ages**aging_lambda\n",
    "\n",
    "engagement = [0.5, 0, 0.1, 0.5, 0.5]\n",
    "\n",
    "print(\"\\nrelative shares: \", relative_shares)\n",
    "assert sum(relative_shares) == 1\n",
    "print(\"recency: \", recency)\n",
    "print(\"engagement: \", engagement)\n",
    "\n",
    "ranking = 1 / 3 * np.sum([recency, relative_shares, engagement], axis=0)\n",
    "ranking"
   ]
  },
  {
   "cell_type": "code",
   "execution_count": 63,
   "metadata": {},
   "outputs": [
    {
     "data": {
      "text/plain": [
       "array([0.12197803, 0.23371795, 0.05489011, 0.29470696, 0.29470696])"
      ]
     },
     "execution_count": 63,
     "metadata": {},
     "output_type": "execute_result"
    }
   ],
   "source": [
    "norm_ranking = normalize(ranking)\n",
    "assert sum(norm_ranking) == 1\n",
    "norm_ranking"
   ]
  },
  {
   "cell_type": "code",
   "execution_count": 68,
   "metadata": {},
   "outputs": [
    {
     "name": "stdout",
     "output_type": "stream",
     "text": [
      "<zip object at 0x11ddaec40>\n",
      "[(1, 1, 1), (2, 3, 1), (3, 1, 1), (4, 1, 1)]\n",
      "[1 2 3 4] [1 3 1 1] [1 1 1 1]\n",
      "[100   2] [10  4]\n",
      "[  2 100] [ 4 10]\n",
      "update no_share and age of overlapping messages.. \n",
      "updated:  messages: [1 2 3 4], shares: [1 7 1 1], ages: [2 0 2 2]\n",
      "updated: messages: [100   1   2   3   4], shares: [10  1  7  1  1], ages: [0 2 0 2 2]\n",
      "\n",
      "relative shares:  [0.5  0.05 0.35 0.05 0.05]\n",
      "recency:  [0.         1.86606598 0.         1.86606598 1.86606598]\n",
      "engagement:  [0.5 0.  0.1 0.5 0.5]\n"
     ]
    }
   ],
   "source": [
    "aging_lambda = 0.9\n",
    "new_feed = update_feed_handle_overlap(\"fil\", incoming_ids, incoming_shares)\n",
    "ids, shares, ages = new_feed\n",
    "\n",
    "relative_shares = shares / np.sum(shares)\n",
    "\n",
    "recency = ages**aging_lambda\n",
    "\n",
    "engagement = np.array([0.5, 0, 0.1, 0.5, 0.5])\n",
    "\n",
    "print(\"\\nrelative shares: \", relative_shares)\n",
    "assert sum(relative_shares) == 1\n",
    "print(\"recency: \", recency)\n",
    "print(\"engagement: \", engagement)\n",
    "\n",
    "ranking_ = np.sum(\n",
    "    [1 / 3 * recency, 1 / 3 * relative_shares, 1 / 3 * engagement], axis=0\n",
    ")"
   ]
  },
  {
   "cell_type": "code",
   "execution_count": 70,
   "metadata": {},
   "outputs": [
    {
     "data": {
      "text/plain": [
       "array([0.33333333, 0.63868866, 0.15      , 0.80535533, 0.80535533])"
      ]
     },
     "execution_count": 70,
     "metadata": {},
     "output_type": "execute_result"
    }
   ],
   "source": [
    "ranking"
   ]
  },
  {
   "cell_type": "code",
   "execution_count": 71,
   "metadata": {},
   "outputs": [
    {
     "data": {
      "text/plain": [
       "array([0.33333333, 0.63868866, 0.15      , 0.80535533, 0.80535533])"
      ]
     },
     "execution_count": 71,
     "metadata": {},
     "output_type": "execute_result"
    }
   ],
   "source": [
    "ranking_"
   ]
  },
  {
   "cell_type": "code",
   "execution_count": 74,
   "metadata": {},
   "outputs": [
    {
     "data": {
      "text/plain": [
       "array([ True,  True, False, False, False])"
      ]
     },
     "execution_count": 74,
     "metadata": {},
     "output_type": "execute_result"
    }
   ],
   "source": [
    "np.equal(ranking, ranking_)"
   ]
  },
  {
   "cell_type": "code",
   "execution_count": 73,
   "metadata": {},
   "outputs": [
    {
     "ename": "AssertionError",
     "evalue": "",
     "output_type": "error",
     "traceback": [
      "\u001b[0;31m---------------------------------------------------------------------------\u001b[0m",
      "\u001b[0;31mAssertionError\u001b[0m                            Traceback (most recent call last)",
      "\u001b[1;32m/Users/baott/SimSoM/test.ipynb Cell 36\u001b[0m line \u001b[0;36m1\n\u001b[0;32m----> <a href='vscode-notebook-cell:/Users/baott/SimSoM/test.ipynb#Y104sZmlsZQ%3D%3D?line=0'>1</a>\u001b[0m \u001b[39massert\u001b[39;00m (ranking \u001b[39m==\u001b[39m ranking_)\u001b[39m.\u001b[39mall()\n",
      "\u001b[0;31mAssertionError\u001b[0m: "
     ]
    }
   ],
   "source": [
    "assert (ranking == ranking_).all()"
   ]
  },
  {
   "cell_type": "code",
   "execution_count": 56,
   "metadata": {},
   "outputs": [],
   "source": [
    "def normalize_v(v):\n",
    "    normalized_v = v / np.sqrt(np.sum(v**2))\n",
    "    return normalized_v"
   ]
  },
  {
   "cell_type": "code",
   "execution_count": 60,
   "metadata": {},
   "outputs": [],
   "source": [
    "def normalize(v):\n",
    "    norm = np.linalg.norm(v, ord=1)\n",
    "    if norm == 0:\n",
    "        return v\n",
    "    return v / norm"
   ]
  },
  {
   "cell_type": "code",
   "execution_count": 61,
   "metadata": {},
   "outputs": [],
   "source": [
    "norm_ranking = normalize(ranking)\n",
    "assert sum(norm_ranking) == 1"
   ]
  },
  {
   "cell_type": "code",
   "execution_count": 59,
   "metadata": {},
   "outputs": [
    {
     "data": {
      "text/plain": [
       "array([0.33333333, 0.63868866, 0.15      , 0.80535533, 0.80535533])"
      ]
     },
     "execution_count": 59,
     "metadata": {},
     "output_type": "execute_result"
    }
   ],
   "source": []
  },
  {
   "cell_type": "code",
   "execution_count": 58,
   "metadata": {},
   "outputs": [
    {
     "data": {
      "text/plain": [
       "2.01529355175264"
      ]
     },
     "execution_count": 58,
     "metadata": {},
     "output_type": "execute_result"
    }
   ],
   "source": [
    "sum(norm_ranking)"
   ]
  },
  {
   "cell_type": "code",
   "execution_count": 45,
   "metadata": {},
   "outputs": [
    {
     "data": {
      "text/plain": [
       "2.01529355175264"
      ]
     },
     "execution_count": 45,
     "metadata": {},
     "output_type": "execute_result"
    }
   ],
   "source": [
    "sum(norm_ranking)"
   ]
  },
  {
   "cell_type": "code",
   "execution_count": null,
   "metadata": {},
   "outputs": [],
   "source": []
  }
 ],
 "metadata": {
  "kernelspec": {
   "display_name": "marketplace",
   "language": "python",
   "name": "python3"
  },
  "language_info": {
   "codemirror_mode": {
    "name": "ipython",
    "version": 3
   },
   "file_extension": ".py",
   "mimetype": "text/x-python",
   "name": "python",
   "nbconvert_exporter": "python",
   "pygments_lexer": "ipython3",
   "version": "3.8.17"
  }
 },
 "nbformat": 4,
 "nbformat_minor": 2
}
