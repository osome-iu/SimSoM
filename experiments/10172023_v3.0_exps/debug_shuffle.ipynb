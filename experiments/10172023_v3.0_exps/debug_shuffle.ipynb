{
 "cells": [
  {
   "cell_type": "code",
   "execution_count": 1,
   "metadata": {},
   "outputs": [],
   "source": [
    "from simsom.graphutils import (\n",
    "    rewire_preserve_community,\n",
    "    rewire_preserve_degree,\n",
    "    rewire_random,\n",
    ")\n",
    "import igraph as ig\n",
    "import sys\n",
    "import argparse"
   ]
  },
  {
   "cell_type": "code",
   "execution_count": 2,
   "metadata": {},
   "outputs": [],
   "source": [
    "def shuffle_net(infile, mode, outfile):\n",
    "    graph = ig.Graph.Read_GML(infile)\n",
    "    print(graph.summary())\n",
    "    print(graph.vs.attributes())\n",
    "    if mode == \"community\":\n",
    "        shuffled = rewire_preserve_community(graph)\n",
    "    elif mode == \"hub\":\n",
    "        shuffled = rewire_preserve_degree(graph)\n",
    "    else:\n",
    "        shuffled = rewire_random(graph, probability=1)\n",
    "\n",
    "    shuffled.write_gml(outfile)"
   ]
  },
  {
   "cell_type": "code",
   "execution_count": 3,
   "metadata": {},
   "outputs": [
    {
     "name": "stdout",
     "output_type": "stream",
     "text": [
      "IGRAPH D--- 0 0 -- \n",
      "[]\n",
      "Rewiring subgraphs...\n",
      "Finished rewiring subgraph!\n",
      "Finished rewiring subgraph!\n",
      "Finished rewiring subgraph!\n",
      "Make new graph from rewired edges\n",
      "Finished shuffling network (community-preserving)!\n"
     ]
    }
   ],
   "source": [
    "infile = \"experiments/10172023_v3.0_exps/data/follower_network.gml\"\n",
    "mode = \"community\"\n",
    "outfile = \"experiments/10172023_v3.0_exps/data/follower_network.gml\"\n",
    "shuffle_net(infile, mode, outfile)"
   ]
  },
  {
   "cell_type": "code",
   "execution_count": null,
   "metadata": {},
   "outputs": [],
   "source": [
    "graph = ig.Graph.Read_GML(infile)\n",
    "print(graph.summary())\n",
    "print(graph.vs.attributes())"
   ]
  }
 ],
 "metadata": {
  "kernelspec": {
   "display_name": "marketplace",
   "language": "python",
   "name": "python3"
  },
  "language_info": {
   "codemirror_mode": {
    "name": "ipython",
    "version": 3
   },
   "file_extension": ".py",
   "mimetype": "text/x-python",
   "name": "python",
   "nbconvert_exporter": "python",
   "pygments_lexer": "ipython3",
   "version": "3.8.17"
  }
 },
 "nbformat": 4,
 "nbformat_minor": 2
}
