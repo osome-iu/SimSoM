{
 "cells": [
  {
   "cell_type": "code",
   "execution_count": 7,
   "metadata": {},
   "outputs": [],
   "source": [
    "from simsom.graphutils import (\n",
    "    rewire_preserve_community,\n",
    "    rewire_preserve_degree,\n",
    "    rewire_random,\n",
    ")\n",
    "import igraph as ig\n",
    "import sys\n",
    "import argparse"
   ]
  },
  {
   "cell_type": "code",
   "execution_count": 8,
   "metadata": {},
   "outputs": [],
   "source": [
    "def shuffle_net(infile, mode, outfile):\n",
    "    graph = ig.Graph.Read_GML(infile)\n",
    "    print(graph.summary())\n",
    "    print(graph.vs.attributes())\n",
    "    if mode == \"community\":\n",
    "        shuffled = rewire_preserve_community(graph)\n",
    "    elif mode == \"hub\":\n",
    "        shuffled = rewire_preserve_degree(graph)\n",
    "    else:\n",
    "        shuffled = rewire_random(graph, probability=1)\n",
    "\n",
    "    shuffled.write_gml(outfile)"
   ]
  },
  {
   "cell_type": "code",
   "execution_count": 9,
   "metadata": {},
   "outputs": [
    {
     "name": "stdout",
     "output_type": "stream",
     "text": [
      "IGRAPH D--- 1040 188106 -- \n",
      "+ attr: id (v), label (v), misinfo (v), partisanship (v)\n",
      "['id', 'label', 'partisanship', 'misinfo']\n"
     ]
    }
   ],
   "source": [
    "graph = ig.Graph.Read_GML(\"data_10182023/follower_network.gml\")\n",
    "print(graph.summary())\n",
    "print(graph.vs.attributes())"
   ]
  },
  {
   "cell_type": "code",
   "execution_count": 6,
   "metadata": {},
   "outputs": [
    {
     "name": "stdout",
     "output_type": "stream",
     "text": [
      "IGRAPH D--- 1040 188106 -- \n",
      "+ attr: bot (v), id (v), misinfo (v), uid (v)\n",
      "['id', 'misinfo', 'bot', 'uid']\n"
     ]
    }
   ],
   "source": [
    "graph = ig.Graph.Read_GML(\"data/network_baseline.gml\")\n",
    "print(graph.summary())\n",
    "print(graph.vs.attributes())"
   ]
  },
  {
   "cell_type": "code",
   "execution_count": 10,
   "metadata": {},
   "outputs": [
    {
     "name": "stdout",
     "output_type": "stream",
     "text": [
      "IGRAPH D--- 1040 188106 -- \n",
      "+ attr: id (v), label (v), misinfo (v), partisanship (v)\n",
      "['id', 'label', 'partisanship', 'misinfo']\n"
     ]
    },
    {
     "ename": "KeyError",
     "evalue": "'Attribute does not exist'",
     "output_type": "error",
     "traceback": [
      "\u001b[0;31m---------------------------------------------------------------------------\u001b[0m",
      "\u001b[0;31mKeyError\u001b[0m                                  Traceback (most recent call last)",
      "\u001b[1;32m/N/u/baotruon/BigRed200/simsom/experiments/10172023_v3.0_exps/debug_shuffle.ipynb Cell 5\u001b[0m line \u001b[0;36m4\n\u001b[1;32m      <a href='vscode-notebook-cell://ssh-remote%2Bbigred/N/u/baotruon/BigRed200/simsom/experiments/10172023_v3.0_exps/debug_shuffle.ipynb#W2sdnNjb2RlLXJlbW90ZQ%3D%3D?line=1'>2</a>\u001b[0m mode \u001b[39m=\u001b[39m \u001b[39m\"\u001b[39m\u001b[39mcommunity\u001b[39m\u001b[39m\"\u001b[39m\n\u001b[1;32m      <a href='vscode-notebook-cell://ssh-remote%2Bbigred/N/u/baotruon/BigRed200/simsom/experiments/10172023_v3.0_exps/debug_shuffle.ipynb#W2sdnNjb2RlLXJlbW90ZQ%3D%3D?line=2'>3</a>\u001b[0m outfile \u001b[39m=\u001b[39m \u001b[39m\"\u001b[39m\u001b[39mdebug/follower_network_community_shuffle.gml\u001b[39m\u001b[39m\"\u001b[39m\n\u001b[0;32m----> <a href='vscode-notebook-cell://ssh-remote%2Bbigred/N/u/baotruon/BigRed200/simsom/experiments/10172023_v3.0_exps/debug_shuffle.ipynb#W2sdnNjb2RlLXJlbW90ZQ%3D%3D?line=3'>4</a>\u001b[0m shuffle_net(infile, mode, outfile)\n",
      "\u001b[1;32m/N/u/baotruon/BigRed200/simsom/experiments/10172023_v3.0_exps/debug_shuffle.ipynb Cell 5\u001b[0m line \u001b[0;36m6\n\u001b[1;32m      <a href='vscode-notebook-cell://ssh-remote%2Bbigred/N/u/baotruon/BigRed200/simsom/experiments/10172023_v3.0_exps/debug_shuffle.ipynb#W2sdnNjb2RlLXJlbW90ZQ%3D%3D?line=3'>4</a>\u001b[0m \u001b[39mprint\u001b[39m(graph\u001b[39m.\u001b[39mvs\u001b[39m.\u001b[39mattributes())\n\u001b[1;32m      <a href='vscode-notebook-cell://ssh-remote%2Bbigred/N/u/baotruon/BigRed200/simsom/experiments/10172023_v3.0_exps/debug_shuffle.ipynb#W2sdnNjb2RlLXJlbW90ZQ%3D%3D?line=4'>5</a>\u001b[0m \u001b[39mif\u001b[39;00m mode \u001b[39m==\u001b[39m \u001b[39m\"\u001b[39m\u001b[39mcommunity\u001b[39m\u001b[39m\"\u001b[39m:\n\u001b[0;32m----> <a href='vscode-notebook-cell://ssh-remote%2Bbigred/N/u/baotruon/BigRed200/simsom/experiments/10172023_v3.0_exps/debug_shuffle.ipynb#W2sdnNjb2RlLXJlbW90ZQ%3D%3D?line=5'>6</a>\u001b[0m     shuffled \u001b[39m=\u001b[39m rewire_preserve_community(graph)\n\u001b[1;32m      <a href='vscode-notebook-cell://ssh-remote%2Bbigred/N/u/baotruon/BigRed200/simsom/experiments/10172023_v3.0_exps/debug_shuffle.ipynb#W2sdnNjb2RlLXJlbW90ZQ%3D%3D?line=6'>7</a>\u001b[0m \u001b[39melif\u001b[39;00m mode \u001b[39m==\u001b[39m \u001b[39m\"\u001b[39m\u001b[39mhub\u001b[39m\u001b[39m\"\u001b[39m:\n\u001b[1;32m      <a href='vscode-notebook-cell://ssh-remote%2Bbigred/N/u/baotruon/BigRed200/simsom/experiments/10172023_v3.0_exps/debug_shuffle.ipynb#W2sdnNjb2RlLXJlbW90ZQ%3D%3D?line=7'>8</a>\u001b[0m     shuffled \u001b[39m=\u001b[39m rewire_preserve_degree(graph)\n",
      "File \u001b[0;32m/geode2/home/u015/baotruon/BigRed200/simsom/libs/simsom/graphutils.py:249\u001b[0m, in \u001b[0;36mrewire_preserve_community\u001b[0;34m(graph, iterations)\u001b[0m\n\u001b[1;32m    242\u001b[0m \u001b[39m\u001b[39m\u001b[39m\"\"\"\u001b[39;00m\n\u001b[1;32m    243\u001b[0m \u001b[39mReturns a rewired graph where degree community structure is preserved. \u001b[39;00m\n\u001b[1;32m    244\u001b[0m \u001b[39mInputs:\u001b[39;00m\n\u001b[1;32m    245\u001b[0m \u001b[39m    - graph (igraph.Graph object): the graph to shuffle\u001b[39;00m\n\u001b[1;32m    246\u001b[0m \u001b[39m    - iterations (int): number of times to rewire to make sure community structure is destroyed\u001b[39;00m\n\u001b[1;32m    247\u001b[0m \u001b[39m\"\"\"\u001b[39;00m\n\u001b[1;32m    248\u001b[0m graph\u001b[39m.\u001b[39mvs[\u001b[39m\"\u001b[39m\u001b[39mname\u001b[39m\u001b[39m\"\u001b[39m] \u001b[39m=\u001b[39m [\u001b[39mstr\u001b[39m(node[\u001b[39m\"\u001b[39m\u001b[39mid\u001b[39m\u001b[39m\"\u001b[39m]) \u001b[39mfor\u001b[39;00m node \u001b[39min\u001b[39;00m graph\u001b[39m.\u001b[39mvs]\n\u001b[0;32m--> 249\u001b[0m conservative_edges \u001b[39m=\u001b[39m [\n\u001b[1;32m    250\u001b[0m     e \u001b[39mfor\u001b[39;00m e \u001b[39min\u001b[39;00m graph\u001b[39m.\u001b[39mes \u001b[39mif\u001b[39;00m _is_ingroup(graph, e, party\u001b[39m=\u001b[39m\u001b[39m\"\u001b[39m\u001b[39mconservative\u001b[39m\u001b[39m\"\u001b[39m)\n\u001b[1;32m    251\u001b[0m ]\n\u001b[1;32m    252\u001b[0m liberal_edges \u001b[39m=\u001b[39m [e \u001b[39mfor\u001b[39;00m e \u001b[39min\u001b[39;00m graph\u001b[39m.\u001b[39mes \u001b[39mif\u001b[39;00m _is_ingroup(graph, e, party\u001b[39m=\u001b[39m\u001b[39m\"\u001b[39m\u001b[39mliberal\u001b[39m\u001b[39m\"\u001b[39m)]\n\u001b[1;32m    253\u001b[0m outgroup_edges \u001b[39m=\u001b[39m [e \u001b[39mfor\u001b[39;00m e \u001b[39min\u001b[39;00m graph\u001b[39m.\u001b[39mes \u001b[39mif\u001b[39;00m \u001b[39mnot\u001b[39;00m _is_ingroup(graph, e)]\n",
      "File \u001b[0;32m/geode2/home/u015/baotruon/BigRed200/simsom/libs/simsom/graphutils.py:250\u001b[0m, in \u001b[0;36m<listcomp>\u001b[0;34m(.0)\u001b[0m\n\u001b[1;32m    242\u001b[0m \u001b[39m\u001b[39m\u001b[39m\"\"\"\u001b[39;00m\n\u001b[1;32m    243\u001b[0m \u001b[39mReturns a rewired graph where degree community structure is preserved. \u001b[39;00m\n\u001b[1;32m    244\u001b[0m \u001b[39mInputs:\u001b[39;00m\n\u001b[1;32m    245\u001b[0m \u001b[39m    - graph (igraph.Graph object): the graph to shuffle\u001b[39;00m\n\u001b[1;32m    246\u001b[0m \u001b[39m    - iterations (int): number of times to rewire to make sure community structure is destroyed\u001b[39;00m\n\u001b[1;32m    247\u001b[0m \u001b[39m\"\"\"\u001b[39;00m\n\u001b[1;32m    248\u001b[0m graph\u001b[39m.\u001b[39mvs[\u001b[39m\"\u001b[39m\u001b[39mname\u001b[39m\u001b[39m\"\u001b[39m] \u001b[39m=\u001b[39m [\u001b[39mstr\u001b[39m(node[\u001b[39m\"\u001b[39m\u001b[39mid\u001b[39m\u001b[39m\"\u001b[39m]) \u001b[39mfor\u001b[39;00m node \u001b[39min\u001b[39;00m graph\u001b[39m.\u001b[39mvs]\n\u001b[1;32m    249\u001b[0m conservative_edges \u001b[39m=\u001b[39m [\n\u001b[0;32m--> 250\u001b[0m     e \u001b[39mfor\u001b[39;00m e \u001b[39min\u001b[39;00m graph\u001b[39m.\u001b[39mes \u001b[39mif\u001b[39;00m _is_ingroup(graph, e, party\u001b[39m=\u001b[39;49m\u001b[39m\"\u001b[39;49m\u001b[39mconservative\u001b[39;49m\u001b[39m\"\u001b[39;49m)\n\u001b[1;32m    251\u001b[0m ]\n\u001b[1;32m    252\u001b[0m liberal_edges \u001b[39m=\u001b[39m [e \u001b[39mfor\u001b[39;00m e \u001b[39min\u001b[39;00m graph\u001b[39m.\u001b[39mes \u001b[39mif\u001b[39;00m _is_ingroup(graph, e, party\u001b[39m=\u001b[39m\u001b[39m\"\u001b[39m\u001b[39mliberal\u001b[39m\u001b[39m\"\u001b[39m)]\n\u001b[1;32m    253\u001b[0m outgroup_edges \u001b[39m=\u001b[39m [e \u001b[39mfor\u001b[39;00m e \u001b[39min\u001b[39;00m graph\u001b[39m.\u001b[39mes \u001b[39mif\u001b[39;00m \u001b[39mnot\u001b[39;00m _is_ingroup(graph, e)]\n",
      "File \u001b[0;32m/geode2/home/u015/baotruon/BigRed200/simsom/libs/simsom/graphutils.py:205\u001b[0m, in \u001b[0;36m_is_ingroup\u001b[0;34m(graph, edge, party)\u001b[0m\n\u001b[1;32m    192\u001b[0m \u001b[39mdef\u001b[39;00m \u001b[39m_is_ingroup\u001b[39m(graph, edge, party\u001b[39m=\u001b[39m\u001b[39mNone\u001b[39;00m):\n\u001b[1;32m    193\u001b[0m \u001b[39m    \u001b[39m\u001b[39m\"\"\"\u001b[39;00m\n\u001b[1;32m    194\u001b[0m \u001b[39m    Check if an edge connects 2 nodes from the same community (party).\u001b[39;00m\n\u001b[1;32m    195\u001b[0m \u001b[39m    Make sure that graph has a 'party' attribute s.t. -1<party<1\u001b[39;00m\n\u001b[0;32m   (...)\u001b[0m\n\u001b[1;32m    202\u001b[0m \u001b[39m        - else False\u001b[39;00m\n\u001b[1;32m    203\u001b[0m \u001b[39m    \"\"\"\u001b[39;00m\n\u001b[0;32m--> 205\u001b[0m     source_com \u001b[39m=\u001b[39m graph\u001b[39m.\u001b[39;49mvs[edge\u001b[39m.\u001b[39;49msource][\u001b[39m\"\u001b[39;49m\u001b[39mparty\u001b[39;49m\u001b[39m\"\u001b[39;49m]\n\u001b[1;32m    206\u001b[0m     target_com \u001b[39m=\u001b[39m graph\u001b[39m.\u001b[39mvs[edge\u001b[39m.\u001b[39mtarget][\u001b[39m\"\u001b[39m\u001b[39mparty\u001b[39m\u001b[39m\"\u001b[39m]\n\u001b[1;32m    208\u001b[0m     \u001b[39mif\u001b[39;00m \u001b[39mfloat\u001b[39m(source_com) \u001b[39m*\u001b[39m \u001b[39mfloat\u001b[39m(target_com) \u001b[39m>\u001b[39m \u001b[39m0\u001b[39m:\n",
      "\u001b[0;31mKeyError\u001b[0m: 'Attribute does not exist'"
     ]
    }
   ],
   "source": [
    "infile = \"data_10182023/follower_network.gml\"\n",
    "mode = \"community\"\n",
    "outfile = \"debug/follower_network_community_shuffle.gml\"\n",
    "shuffle_net(infile, mode, outfile)"
   ]
  },
  {
   "cell_type": "code",
   "execution_count": null,
   "metadata": {},
   "outputs": [],
   "source": [
    "graph = ig.Graph.Read_GML(infile)\n",
    "print(graph.summary())\n",
    "print(graph.vs.attributes())"
   ]
  }
 ],
 "metadata": {
  "kernelspec": {
   "display_name": "marketplace",
   "language": "python",
   "name": "python3"
  },
  "language_info": {
   "codemirror_mode": {
    "name": "ipython",
    "version": 3
   },
   "file_extension": ".py",
   "mimetype": "text/x-python",
   "name": "python",
   "nbconvert_exporter": "python",
   "pygments_lexer": "ipython3",
   "version": "3.8.17"
  }
 },
 "nbformat": 4,
 "nbformat_minor": 2
}
