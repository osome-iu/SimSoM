{
 "cells": [
  {
   "cell_type": "code",
   "execution_count": 3,
   "metadata": {},
   "outputs": [],
   "source": [
    "try:\n",
    "    from simsom.graphutils import *\n",
    "    from simsom.model import SimSom\n",
    "    from simsom.utils import *\n",
    "except ModuleNotFoundError:\n",
    "    print(\n",
    "        \"Unable to import simsom package. \\n\"\n",
    "        \"Change to root directory of this project and run `pip install -e ./libs/`\"\n",
    "    )\n",
    "\n",
    "import json\n",
    "import numpy as np\n",
    "import os\n",
    "from copy import deepcopy"
   ]
  },
  {
   "cell_type": "code",
   "execution_count": 5,
   "metadata": {},
   "outputs": [
    {
     "name": "stdout",
     "output_type": "stream",
     "text": [
      "Generating human network...\n",
      "Generating bot network...\n",
      "Merging human and bot networks...\n",
      "Humans following bots...\n"
     ]
    }
   ],
   "source": [
    "DATA_PATH = \"/Users/baott/SimSoM/experiments/10122023_v3.1_exps\"\n",
    "net_specs = {\n",
    "    \"targeting_criterion\": None,\n",
    "    \"human_network\": None,\n",
    "    \"n_humans\": 1000,\n",
    "    \"beta\": 0,  # 50 bot\n",
    "    \"gamma\": 0,  # each has 10 followers\n",
    "    \"verbose\": True,\n",
    "}\n",
    "\n",
    "network_fpath = os.path.join(DATA_PATH, \"data\", \"network_baseline.gml\")\n",
    "G = init_net(**net_specs)\n",
    "G.write(network_fpath, format=\"gml\")"
   ]
  },
  {
   "cell_type": "code",
   "execution_count": null,
   "metadata": {},
   "outputs": [],
   "source": []
  }
 ],
 "metadata": {
  "kernelspec": {
   "display_name": "marketplace",
   "language": "python",
   "name": "python3"
  },
  "language_info": {
   "codemirror_mode": {
    "name": "ipython",
    "version": 3
   },
   "file_extension": ".py",
   "mimetype": "text/x-python",
   "name": "python",
   "nbconvert_exporter": "python",
   "pygments_lexer": "ipython3",
   "version": "3.8.17"
  },
  "orig_nbformat": 4
 },
 "nbformat": 4,
 "nbformat_minor": 2
}
