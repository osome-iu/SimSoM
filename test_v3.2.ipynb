{
 "cells": [
  {
   "cell_type": "code",
   "execution_count": 43,
   "metadata": {},
   "outputs": [
    {
     "data": {
      "text/plain": [
       "{1}"
      ]
     },
     "execution_count": 43,
     "metadata": {},
     "output_type": "execute_result"
    }
   ],
   "source": [
    "message_ids = [1, 2, 3, 4, 5, 6, 7, 8, 9, 10]\n",
    "meme = 1\n",
    "overlap = set(message_ids) & set([meme])\n",
    "overlap"
   ]
  },
  {
   "cell_type": "code",
   "execution_count": 3,
   "metadata": {},
   "outputs": [
    {
     "data": {
      "text/plain": [
       "[0.0001, 0.001, 0.01, 0.1]"
      ]
     },
     "execution_count": 3,
     "metadata": {},
     "output_type": "execute_result"
    }
   ],
   "source": [
    "import numpy as np\n",
    "\n",
    "GAMMA = sorted(list(10.0 ** (np.arange(-4, 0))))\n",
    "GAMMA"
   ]
  },
  {
   "cell_type": "code",
   "execution_count": 24,
   "metadata": {},
   "outputs": [
    {
     "data": {
      "text/plain": [
       "[1]"
      ]
     },
     "execution_count": 24,
     "metadata": {},
     "output_type": "execute_result"
    }
   ],
   "source": [
    "import random\n",
    "\n",
    "a = [1, 2, 3]\n",
    "random.choices(a, weights=[3, 2, 1], k=1)"
   ]
  },
  {
   "cell_type": "code",
   "execution_count": 30,
   "metadata": {},
   "outputs": [
    {
     "data": {
      "text/plain": [
       "[]"
      ]
     },
     "execution_count": 30,
     "metadata": {},
     "output_type": "execute_result"
    }
   ],
   "source": [
    "[i for i, val in enumerate(a) if val == 4]"
   ]
  },
  {
   "cell_type": "markdown",
   "metadata": {},
   "source": [
    "## Test resolving overlap v3.2\n",
    "[2551, 251, 2743, 684] --> 244\n",
    "\n",
    "2023-10-13_15:14:56-simsom.utils-INFO-   Before (244): [251, 2226, 2403, 1899, 253, 1145, 1229, 340, 778]\n",
    "\n",
    "2023-10-13_15:14:56-simsom.utils-INFO-   Before populr: [3, 1, 1, 1, 1, 1, 1, 1, 1]\n",
    "\n",
    "2023-10-13_15:14:56-simsom.utils-INFO-Resolving overlap: {251}..\n",
    "\n",
    "2023-10-13_15:14:56-simsom.utils-INFO-   After (244): [2551, 251, 2743, 684, 2226, 2403, 1899, 253, 1145, 1229, 340, 778]\n",
    "\n",
    "2023-10-13_15:14:56-simsom.utils-INFO-   After populr: [1, 4, 1, 1, 1, 1, 1, 1, 1, 1, 1, 1]\n"
   ]
  },
  {
   "cell_type": "markdown",
   "metadata": {},
   "source": [
    "### Another test case \n",
    "[1283, 2782, 2924, 201] --> 73\n",
    "\n",
    "2023-10-13_15:14:56-simsom.utils-INFO-   Before (73): [659, 1561, 1805, 201, 1939, 1271, 1283, 1298, 1464, 409, 705, 841]\n",
    "\n",
    "2023-10-13_15:14:56-simsom.utils-INFO-   Before populr: [2, 1, 1, 2, 1, 1, 1, 1, 1, 1, 1, 1]\n",
    "\n",
    "2023-10-13_15:14:56-simsom.utils-INFO-Resolving overlap: {201, 1283}..\n",
    "\n",
    "2023-10-13_15:14:56-simsom.utils-INFO-   After (73): [1283, 2782, 2924, 201, 659, 1561, 1805, 1939, 1271, 1298, 1464, 409, 705, 841]\n",
    "\n",
    "2023-10-13_15:14:56-simsom.utils-INFO-   After populr: [2, 1, 1, 2, 2, 1, 1, 1, 1, 1, 1, 1, 1, 1]\n"
   ]
  },
  {
   "cell_type": "code",
   "execution_count": 23,
   "metadata": {},
   "outputs": [],
   "source": [
    "def _handle_oversized_feed(newsfeed, alpha):\n",
    "    \"\"\"\n",
    "    Handles oversized newsfeed and message extinction\n",
    "    Returns the newsfeed (tuple of lists) where the oldest message is removed\n",
    "    Input:\n",
    "        feed (tuple - (list of int, list of int)): (list of mess_ids - list of popularities), represents an agent's news feed\n",
    "    \"\"\"\n",
    "    message_ids, metadata = newsfeed\n",
    "    updated_feed = (message_ids[:alpha], metadata[:alpha])\n",
    "\n",
    "    # b: We don't want to remove forgotten messages (because we need to keep track of their exposure cascade)\n",
    "    # Extinction: remove oldest (forgotten) messages from master lists\n",
    "    # for message_id in set(message_ids[self.alpha :]):\n",
    "    #     _ = self.message_metadata.pop(message_id, \"No Key found\")\n",
    "    #     _ = self.all_messages.pop(message_id, \"No Key found\")\n",
    "    assert len(updated_feed[0]) <= alpha\n",
    "\n",
    "    return updated_feed"
   ]
  },
  {
   "cell_type": "code",
   "execution_count": 39,
   "metadata": {},
   "outputs": [],
   "source": [
    "alpha = 4\n",
    "\n",
    "\n",
    "def resolve(target_id, new_message_ids, popularity):\n",
    "    messages, metadata = deepcopy(agent_feeds[target_id])\n",
    "\n",
    "    print(f\"Before deletion: {messages}\")\n",
    "    print(f\"before populr: {metadata}\\n\")\n",
    "\n",
    "    # check overlap with existing messages\n",
    "    overlap = set(new_message_ids) & set(messages)\n",
    "    if len(overlap) > 0:\n",
    "        for message_id in overlap:\n",
    "            print(f\"resolving {message_id}\")\n",
    "            idx = messages.index(message_id)\n",
    "            del messages[idx]\n",
    "            curr_populr = metadata.pop(idx)\n",
    "            print(f\"current popularity: {curr_populr}\")\n",
    "            print(f\"After deletion: {messages}\")\n",
    "            print(f\"after populr: {metadata}\")\n",
    "            # update popularity\n",
    "            jdx = new_message_ids.index(message_id)\n",
    "            popularity[jdx] += curr_populr\n",
    "\n",
    "    # push new messages into the feed\n",
    "    print(f\"Pushed to beginning: {new_message_ids}\")\n",
    "    print(f\"Pushed populr: {popularity}\")\n",
    "\n",
    "    messages[0:0] = new_message_ids\n",
    "    metadata[0:0] = popularity\n",
    "\n",
    "    newsfeed = (messages, metadata)\n",
    "\n",
    "    # clip the agent's feed if exceeds alpha\n",
    "    if len(newsfeed[0]) > alpha:\n",
    "        newsfeed = _handle_oversized_feed(newsfeed, alpha=10)\n",
    "    # agent_feeds[target_id] = newsfeed\n",
    "    return newsfeed"
   ]
  },
  {
   "cell_type": "code",
   "execution_count": 40,
   "metadata": {},
   "outputs": [],
   "source": [
    "from copy import deepcopy\n",
    "\n",
    "agent_feeds = dict()\n",
    "agent_feeds[\"Fil\"] = (\n",
    "    [251, 2226, 2403, 1899, 253, 1145, 1229, 340, 778],\n",
    "    [3, 1, 1, 1, 1, 1, 1, 1, 1],\n",
    ")\n",
    "target_id = \"Fil\"\n",
    "message_ids = [2551, 251, 2743, 684]\n",
    "popularity = [1, 1, 1, 1]\n",
    "messages, metadata = deepcopy(agent_feeds[target_id])"
   ]
  },
  {
   "cell_type": "code",
   "execution_count": 41,
   "metadata": {},
   "outputs": [
    {
     "name": "stdout",
     "output_type": "stream",
     "text": [
      "Before deletion: [251, 2226, 2403, 1899, 253, 1145, 1229, 340, 778]\n",
      "before populr: [3, 1, 1, 1, 1, 1, 1, 1, 1]\n",
      "\n",
      "resolving 251\n",
      "current popularity: 3\n",
      "After deletion: [2226, 2403, 1899, 253, 1145, 1229, 340, 778]\n",
      "after populr: [1, 1, 1, 1, 1, 1, 1, 1]\n",
      "Pushed to beginning: [2551, 251, 2743, 684]\n",
      "Pushed populr: [1, 4, 1, 1]\n"
     ]
    },
    {
     "data": {
      "text/plain": [
       "([2551, 251, 2743, 684, 2226, 2403, 1899, 253, 1145, 1229],\n",
       " [1, 4, 1, 1, 1, 1, 1, 1, 1, 1])"
      ]
     },
     "execution_count": 41,
     "metadata": {},
     "output_type": "execute_result"
    }
   ],
   "source": [
    "feed = resolve(target_id, message_ids, popularity)\n",
    "feed"
   ]
  },
  {
   "cell_type": "code",
   "execution_count": null,
   "metadata": {},
   "outputs": [],
   "source": []
  },
  {
   "cell_type": "markdown",
   "metadata": {},
   "source": [
    "## Check bulk_add message"
   ]
  },
  {
   "cell_type": "code",
   "execution_count": 21,
   "metadata": {},
   "outputs": [],
   "source": [
    "def _handle_oversized_feed(newsfeed, alpha):\n",
    "    \"\"\"\n",
    "    Handles oversized newsfeed and message extinction\n",
    "    Returns the newsfeed (tuple of lists) where the oldest message is removed\n",
    "    Input:\n",
    "        feed (tuple - (list of int, list of int)): (list of mess_ids - list of popularities), represents an agent's news feed\n",
    "    \"\"\"\n",
    "    message_ids, metadata = newsfeed\n",
    "    updated_feed = (message_ids[:alpha], metadata[:alpha])\n",
    "\n",
    "    # b: We don't want to remove forgotten messages (because we need to keep track of their exposure cascade)\n",
    "    # Extinction: remove oldest (forgotten) messages from master lists\n",
    "    # for message_id in set(message_ids[self.alpha :]):\n",
    "    #     _ = self.message_metadata.pop(message_id, \"No Key found\")\n",
    "    #     _ = self.all_messages.pop(message_id, \"No Key found\")\n",
    "    assert len(updated_feed[0]) <= alpha\n",
    "\n",
    "    return updated_feed"
   ]
  },
  {
   "cell_type": "code",
   "execution_count": 22,
   "metadata": {},
   "outputs": [],
   "source": [
    "from copy import deepcopy\n",
    "\n",
    "agent_feeds = dict()\n",
    "agent_feeds[\"Fil\"] = ([1, 2, 3, 4, 5], [1, 1, 1, 1, 1])\n",
    "target_id = \"Fil\"\n",
    "message_ids = [2, 100]\n",
    "popularity = [1, 1]\n",
    "messages, metadata = deepcopy(agent_feeds[target_id])"
   ]
  },
  {
   "cell_type": "code",
   "execution_count": 20,
   "metadata": {},
   "outputs": [
    {
     "data": {
      "text/plain": [
       "[1, 2, 3, 4, 5]"
      ]
     },
     "execution_count": 20,
     "metadata": {},
     "output_type": "execute_result"
    }
   ],
   "source": [
    "messages"
   ]
  },
  {
   "cell_type": "code",
   "execution_count": 66,
   "metadata": {},
   "outputs": [
    {
     "name": "stdout",
     "output_type": "stream",
     "text": [
      "{2}\n"
     ]
    }
   ],
   "source": [
    "# check overlap with existing messages\n",
    "overlap = set(message_ids) & set(messages)\n",
    "print(overlap)\n",
    "if len(overlap) > 0:\n",
    "    for message_id in overlap:\n",
    "        idx = messages.index(message_id)\n",
    "        del messages[idx]\n",
    "        del metadata[idx]\n",
    "        # update popularity\n",
    "        jdx = message_ids.index(message_id)\n",
    "        popularity[jdx] += 1"
   ]
  },
  {
   "cell_type": "code",
   "execution_count": 67,
   "metadata": {},
   "outputs": [
    {
     "data": {
      "text/plain": [
       "([2, 100, 1, 3, 4, 5], [2, 1, 1, 1, 1, 1])"
      ]
     },
     "execution_count": 67,
     "metadata": {},
     "output_type": "execute_result"
    }
   ],
   "source": [
    "# push new messages into the feed\n",
    "messages[0:0] = message_ids\n",
    "metadata[0:0] = popularity\n",
    "\n",
    "newsfeed = (messages, metadata)\n",
    "newsfeed"
   ]
  },
  {
   "cell_type": "code",
   "execution_count": 68,
   "metadata": {},
   "outputs": [
    {
     "data": {
      "text/plain": [
       "([2, 100, 1, 3], [2, 1, 1, 1])"
      ]
     },
     "execution_count": 68,
     "metadata": {},
     "output_type": "execute_result"
    }
   ],
   "source": [
    "alpha = 4\n",
    "if len(newsfeed[0]) > alpha:\n",
    "    newsfeed = _handle_oversized_feed(newsfeed, alpha=alpha)\n",
    "newsfeed"
   ]
  },
  {
   "cell_type": "code",
   "execution_count": 36,
   "metadata": {},
   "outputs": [
    {
     "data": {
      "text/plain": [
       "[2, 4, 101]"
      ]
     },
     "execution_count": 36,
     "metadata": {},
     "output_type": "execute_result"
    }
   ],
   "source": [
    "c[2] += 1\n",
    "c"
   ]
  },
  {
   "cell_type": "code",
   "execution_count": 33,
   "metadata": {},
   "outputs": [
    {
     "data": {
      "text/plain": [
       "[2, 4, 100]"
      ]
     },
     "execution_count": 33,
     "metadata": {},
     "output_type": "execute_result"
    }
   ],
   "source": [
    "c[2] = 100\n",
    "c"
   ]
  },
  {
   "cell_type": "code",
   "execution_count": 31,
   "metadata": {},
   "outputs": [
    {
     "data": {
      "text/plain": [
       "{2}"
      ]
     },
     "execution_count": 31,
     "metadata": {},
     "output_type": "execute_result"
    }
   ],
   "source": [
    "c = [2, 4, 5]\n",
    "set(c) & set(a)"
   ]
  },
  {
   "cell_type": "code",
   "execution_count": 28,
   "metadata": {},
   "outputs": [
    {
     "data": {
      "text/plain": [
       "(array([], dtype=int64),)"
      ]
     },
     "execution_count": 28,
     "metadata": {},
     "output_type": "execute_result"
    }
   ],
   "source": [
    "item_index = np.where(a == 4)\n",
    "item_index"
   ]
  },
  {
   "cell_type": "code",
   "execution_count": 25,
   "metadata": {},
   "outputs": [
    {
     "data": {
      "text/plain": [
       "array([ 2,  4, 12])"
      ]
     },
     "execution_count": 25,
     "metadata": {},
     "output_type": "execute_result"
    }
   ],
   "source": [
    "import numpy as np\n",
    "\n",
    "b = [2, 2, 4]\n",
    "np.multiply(a, b)"
   ]
  },
  {
   "cell_type": "code",
   "execution_count": 22,
   "metadata": {},
   "outputs": [
    {
     "data": {
      "text/plain": [
       "[100, 100, 1, 2, 3]"
      ]
     },
     "execution_count": 22,
     "metadata": {},
     "output_type": "execute_result"
    }
   ],
   "source": [
    "a = [1, 2, 3]\n",
    "a[0:0] = [100, 100]\n",
    "a"
   ]
  },
  {
   "cell_type": "markdown",
   "metadata": {},
   "source": [
    "### Test quality distribution"
   ]
  },
  {
   "cell_type": "code",
   "execution_count": 20,
   "metadata": {},
   "outputs": [
    {
     "name": "stdout",
     "output_type": "stream",
     "text": [
      "0:01:00.005833\n"
     ]
    }
   ],
   "source": [
    "import datetime\n",
    "import time\n",
    "\n",
    "start = datetime.datetime.now()\n",
    "time.sleep(60)\n",
    "end = datetime.datetime.now()\n",
    "print(end - start)"
   ]
  },
  {
   "cell_type": "code",
   "execution_count": 1,
   "metadata": {},
   "outputs": [],
   "source": [
    "import numpy as np\n",
    "\n",
    "\n",
    "def inverse_sampling(exponent=2):\n",
    "    u = np.random.uniform(0, 1)\n",
    "    human_fitness = 1 - (1 - u) ** (1 / exponent)\n",
    "    return human_fitness"
   ]
  },
  {
   "cell_type": "code",
   "execution_count": 6,
   "metadata": {},
   "outputs": [],
   "source": [
    "samples = [inverse_sampling(exponent=2) for _ in range(100000)]"
   ]
  },
  {
   "cell_type": "code",
   "execution_count": 12,
   "metadata": {},
   "outputs": [
    {
     "data": {
      "text/plain": [
       "Text(0, 0.5, 'Frequency')"
      ]
     },
     "execution_count": 12,
     "metadata": {},
     "output_type": "execute_result"
    },
    {
     "data": {
      "image/png": "[encoded data removed]",
      "text/plain": [
       "<Figure size 640x480 with 1 Axes>"
      ]
     },
     "metadata": {},
     "output_type": "display_data"
    }
   ],
   "source": [
    "import matplotlib.pyplot as plt\n",
    "\n",
    "plt.hist(samples, bins=10)\n",
    "# plt.yscale(\"log\")\n",
    "plt.title(\"Quality of 100k messages\")\n",
    "plt.xlabel(\"Quality\")\n",
    "plt.ylabel(\"Frequency\")"
   ]
  },
  {
   "cell_type": "code",
   "execution_count": 13,
   "metadata": {},
   "outputs": [
    {
     "data": {
      "text/plain": [
       "Text(0, 0.5, 'Frequency')"
      ]
     },
     "execution_count": 13,
     "metadata": {},
     "output_type": "execute_result"
    },
    {
     "data": {
      "image/png": "[encoded data removed]",
      "text/plain": [
       "<Figure size 640x480 with 1 Axes>"
      ]
     },
     "metadata": {},
     "output_type": "display_data"
    }
   ],
   "source": [
    "import matplotlib.pyplot as plt\n",
    "\n",
    "plt.hist(samples, bins=\"rice\")\n",
    "# plt.yscale(\"log\")\n",
    "plt.title(\"Quality of 100k messages\")\n",
    "plt.xlabel(\"Quality\")\n",
    "plt.ylabel(\"Frequency\")"
   ]
  },
  {
   "cell_type": "markdown",
   "metadata": {},
   "source": [
    "### Test lifetime"
   ]
  },
  {
   "cell_type": "code",
   "execution_count": 15,
   "metadata": {},
   "outputs": [],
   "source": [
    "def expon_life_time(scale_parameter=0.39):\n",
    "    random_numbers = np.ceil(np.random.exponential(scale_parameter))\n",
    "    return random_numbers\n",
    "\n",
    "\n",
    "samples = [expon_life_time() for _ in range(100000)]"
   ]
  },
  {
   "cell_type": "code",
   "execution_count": 16,
   "metadata": {},
   "outputs": [
    {
     "data": {
      "text/plain": [
       "Text(0, 0.5, 'Frequency')"
      ]
     },
     "execution_count": 16,
     "metadata": {},
     "output_type": "execute_result"
    },
    {
     "data": {
      "image/png": "[encoded data removed]",
      "text/plain": [
       "<Figure size 640x480 with 1 Axes>"
      ]
     },
     "metadata": {},
     "output_type": "display_data"
    }
   ],
   "source": [
    "import matplotlib.pyplot as plt\n",
    "\n",
    "plt.hist(samples, bins=\"rice\")\n",
    "# plt.yscale(\"log\")\n",
    "plt.title(\"Quality of 100k messages\")\n",
    "plt.xlabel(\"Quality\")\n",
    "plt.ylabel(\"Frequency\")"
   ]
  },
  {
   "cell_type": "markdown",
   "metadata": {},
   "source": [
    "### Test config"
   ]
  },
  {
   "cell_type": "code",
   "execution_count": 1,
   "metadata": {},
   "outputs": [
    {
     "data": {
      "text/plain": [
       "[0.0001, 0.001, 0.01, 0.1]"
      ]
     },
     "execution_count": 1,
     "metadata": {},
     "output_type": "execute_result"
    }
   ],
   "source": [
    "import numpy as np\n",
    "\n",
    "sorted(list(10.0 ** (np.arange(-4, 0))))"
   ]
  },
  {
   "cell_type": "code",
   "execution_count": 2,
   "metadata": {},
   "outputs": [],
   "source": [
    "import json\n",
    "import simsom.utils as utils"
   ]
  },
  {
   "cell_type": "code",
   "execution_count": 7,
   "metadata": {},
   "outputs": [],
   "source": [
    "import os\n",
    "\n",
    "ABS_PATH = \"experiments\"\n",
    "CONFIG_PATH = os.path.join(ABS_PATH, \"config\")\n",
    "\n",
    "config_fname = os.path.join(CONFIG_PATH, \"all_configs.json\")\n",
    "exp_type = \"vary_gamma\"\n",
    "# get network names corresponding to the strategy\n",
    "EXPS = json.load(open(config_fname, \"r\"))[exp_type]\n",
    "\n",
    "EXP_NOS = [exp for exp in EXPS.keys() if \"3\" in exp]\n",
    "EXP2NET = {\n",
    "    exp_name: utils.netconfig2netname(config_fname, net_cf)\n",
    "    for exp_name, net_cf in EXPS.items()\n",
    "    if exp_name in EXP_NOS\n",
    "}"
   ]
  },
  {
   "cell_type": "code",
   "execution_count": 8,
   "metadata": {},
   "outputs": [
    {
     "data": {
      "text/plain": [
       "{'None3': '30',\n",
       " 'hubs3': '31',\n",
       " 'partisanship3': '32',\n",
       " 'conservative3': '33',\n",
       " 'liberal3': '34',\n",
       " 'misinformation3': '35'}"
      ]
     },
     "execution_count": 8,
     "metadata": {},
     "output_type": "execute_result"
    }
   ],
   "source": [
    "EXP2NET"
   ]
  },
  {
   "cell_type": "code",
   "execution_count": 9,
   "metadata": {},
   "outputs": [],
   "source": [
    "PHI_SWIPE = list(np.arange(0, 1.1, 0.1))"
   ]
  },
  {
   "cell_type": "code",
   "execution_count": 10,
   "metadata": {},
   "outputs": [
    {
     "data": {
      "text/plain": [
       "[0.0,\n",
       " 0.1,\n",
       " 0.2,\n",
       " 0.30000000000000004,\n",
       " 0.4,\n",
       " 0.5,\n",
       " 0.6000000000000001,\n",
       " 0.7000000000000001,\n",
       " 0.8,\n",
       " 0.9,\n",
       " 1.0]"
      ]
     },
     "execution_count": 10,
     "metadata": {},
     "output_type": "execute_result"
    }
   ],
   "source": [
    "PHI_SWIPE"
   ]
  },
  {
   "cell_type": "code",
   "execution_count": 10,
   "metadata": {},
   "outputs": [],
   "source": [
    "import json\n",
    "import simsom.utils as utils\n",
    "\n",
    "ABS_PATH = \"experiments\"\n",
    "CONFIG_PATH = os.path.join(ABS_PATH, \"config\")\n",
    "\n",
    "config_fname = os.path.join(CONFIG_PATH, \"all_configs.json\")\n",
    "exp_type = \"vary_thetaphi\"\n",
    "\n",
    "# get names for exp_config and network\n",
    "EXPS = json.load(open(config_fname, \"r\"))[exp_type]\n",
    "\n",
    "# VARY THETA 1,4,16,64\n",
    "# keep others constant - ($\\gamma=10^{-3}$) and no deception ($\\phi=0$)\n",
    "PHI = \"0\"\n",
    "EXP_NOS = [exp for exp in EXPS.keys() if exp[1] == PHI]\n",
    "EXP2NET = {\n",
    "    exp_name: utils.netconfig2netname(config_fname, net_cf)\n",
    "    for exp_name, net_cf in EXPS.items()\n",
    "    if exp_name in EXP_NOS\n",
    "}"
   ]
  },
  {
   "cell_type": "code",
   "execution_count": 11,
   "metadata": {},
   "outputs": [
    {
     "data": {
      "text/plain": [
       "7"
      ]
     },
     "execution_count": 11,
     "metadata": {},
     "output_type": "execute_result"
    }
   ],
   "source": [
    "len(EXP2NET)"
   ]
  },
  {
   "cell_type": "code",
   "execution_count": null,
   "metadata": {},
   "outputs": [],
   "source": [
    "import simsom.config_vals as config_vals\n",
    "\n",
    "config_vals.PHI_SWIPE.index[]"
   ]
  },
  {
   "cell_type": "code",
   "execution_count": 12,
   "metadata": {},
   "outputs": [
    {
     "data": {
      "text/plain": [
       "{'00': '20',\n",
       " '10': '20',\n",
       " '20': '20',\n",
       " '30': '20',\n",
       " '40': '20',\n",
       " '50': '20',\n",
       " '60': '20'}"
      ]
     },
     "execution_count": 12,
     "metadata": {},
     "output_type": "execute_result"
    }
   ],
   "source": [
    "EXP2NET"
   ]
  },
  {
   "cell_type": "code",
   "execution_count": 15,
   "metadata": {},
   "outputs": [
    {
     "data": {
      "text/plain": [
       "{'00': '00', '01': '10', '02': '20', '03': '30'}"
      ]
     },
     "execution_count": 15,
     "metadata": {},
     "output_type": "execute_result"
    }
   ],
   "source": [
    "exp_type = \"vary_thetagamma\"\n",
    "\n",
    "# get names for exp_config and network\n",
    "EXPS = json.load(open(config_fname, \"r\"))[exp_type]\n",
    "\n",
    "# VARY GAMMA\n",
    "# keep others constant - ($\\theta=1$) or deception ($\\phi=0$)\n",
    "THETA = \"0\"\n",
    "EXP_NOS = [exp for exp in EXPS.keys() if exp[0] == THETA]\n",
    "EXP2NET = {\n",
    "    exp_name: utils.netconfig2netname(config_fname, net_cf)\n",
    "    for exp_name, net_cf in EXPS.items()\n",
    "    if exp_name in EXP_NOS\n",
    "}\n",
    "EXP2NET"
   ]
  },
  {
   "cell_type": "code",
   "execution_count": 16,
   "metadata": {},
   "outputs": [
    {
     "data": {
      "text/plain": [
       "{'01': '10',\n",
       " '11': '10',\n",
       " '21': '10',\n",
       " '31': '10',\n",
       " '41': '10',\n",
       " '51': '10',\n",
       " '61': '10',\n",
       " '71': '10',\n",
       " '81': '10',\n",
       " '91': '10'}"
      ]
     },
     "execution_count": 16,
     "metadata": {},
     "output_type": "execute_result"
    }
   ],
   "source": [
    "exp_type = \"vary_phigamma\"\n",
    "\n",
    "# get names for exp_config and network\n",
    "EXPS = json.load(open(config_fname, \"r\"))[exp_type]\n",
    "\n",
    "# VARY PHI\n",
    "# keep others constant - ($\\gamma=10^{-3}$) and no flooding ($\\theta=1$)\n",
    "GAMMA = \"1\"\n",
    "EXP_NOS = [exp for exp in EXPS.keys() if exp[1] == GAMMA]\n",
    "EXP2NET = {\n",
    "    exp_name: utils.netconfig2netname(config_fname, net_cf)\n",
    "    for exp_name, net_cf in EXPS.items()\n",
    "    if exp_name in EXP_NOS\n",
    "}\n",
    "EXP2NET"
   ]
  },
  {
   "cell_type": "code",
   "execution_count": 3,
   "metadata": {},
   "outputs": [
    {
     "data": {
      "text/plain": [
       "[1, 2, 4, 8, 16, 32, 64]"
      ]
     },
     "execution_count": 3,
     "metadata": {},
     "output_type": "execute_result"
    }
   ],
   "source": [
    "import simsom.config_vals as config_vals\n",
    "\n",
    "config_vals.THETA_SWIPE"
   ]
  },
  {
   "cell_type": "code",
   "execution_count": 4,
   "metadata": {},
   "outputs": [
    {
     "data": {
      "text/plain": [
       "7"
      ]
     },
     "execution_count": 4,
     "metadata": {},
     "output_type": "execute_result"
    }
   ],
   "source": [
    "len(config_vals.THETA_SWIPE)"
   ]
  },
  {
   "cell_type": "code",
   "execution_count": 7,
   "metadata": {},
   "outputs": [],
   "source": [
    "import os"
   ]
  },
  {
   "cell_type": "code",
   "execution_count": 17,
   "metadata": {},
   "outputs": [],
   "source": [
    "import json\n",
    "import simsom.utils as utils\n",
    "\n",
    "# import simsom.config_vals as config_vals\n",
    "\n",
    "# config_vals.THETA_SWIPE # [1, 2, 4, 8, 16, 32, 64]\n",
    "\n",
    "ABS_PATH = \"experiments\"\n",
    "CONFIG_PATH = os.path.join(ABS_PATH, \"config\")\n",
    "\n",
    "config_fname = os.path.join(CONFIG_PATH, \"all_configs.json\")\n",
    "exp_type = \"vary_thetaphi\"\n",
    "\n",
    "# get names for exp_config and network\n",
    "EXPS = json.load(open(config_fname, \"r\"))[exp_type]\n",
    "\n",
    "MAXTHETA_IDX = 5  # 2^5 = 32\n",
    "EXP_NOS = [exp for exp in EXPS.keys() if int(exp[0]) <= MAXTHETA_IDX]\n",
    "EXP2NET = {\n",
    "    exp_name: utils.netconfig2netname(config_fname, net_cf)\n",
    "    for exp_name, net_cf in EXPS.items()\n",
    "    if exp_name in EXP_NOS\n",
    "}"
   ]
  },
  {
   "cell_type": "code",
   "execution_count": 18,
   "metadata": {},
   "outputs": [
    {
     "data": {
      "text/plain": [
       "{'00': '20',\n",
       " '01': '20',\n",
       " '02': '20',\n",
       " '03': '20',\n",
       " '04': '20',\n",
       " '05': '20',\n",
       " '06': '20',\n",
       " '07': '20',\n",
       " '08': '20',\n",
       " '09': '20',\n",
       " '010': '20',\n",
       " '10': '20',\n",
       " '11': '20',\n",
       " '12': '20',\n",
       " '13': '20',\n",
       " '14': '20',\n",
       " '15': '20',\n",
       " '16': '20',\n",
       " '17': '20',\n",
       " '18': '20',\n",
       " '19': '20',\n",
       " '110': '20',\n",
       " '20': '20',\n",
       " '21': '20',\n",
       " '22': '20',\n",
       " '23': '20',\n",
       " '24': '20',\n",
       " '25': '20',\n",
       " '26': '20',\n",
       " '27': '20',\n",
       " '28': '20',\n",
       " '29': '20',\n",
       " '210': '20',\n",
       " '30': '20',\n",
       " '31': '20',\n",
       " '32': '20',\n",
       " '33': '20',\n",
       " '34': '20',\n",
       " '35': '20',\n",
       " '36': '20',\n",
       " '37': '20',\n",
       " '38': '20',\n",
       " '39': '20',\n",
       " '310': '20',\n",
       " '40': '20',\n",
       " '41': '20',\n",
       " '42': '20',\n",
       " '43': '20',\n",
       " '44': '20',\n",
       " '45': '20',\n",
       " '46': '20',\n",
       " '47': '20',\n",
       " '48': '20',\n",
       " '49': '20',\n",
       " '410': '20',\n",
       " '50': '20',\n",
       " '51': '20',\n",
       " '52': '20',\n",
       " '53': '20',\n",
       " '54': '20',\n",
       " '55': '20',\n",
       " '56': '20',\n",
       " '57': '20',\n",
       " '58': '20',\n",
       " '59': '20',\n",
       " '510': '20'}"
      ]
     },
     "execution_count": 18,
     "metadata": {},
     "output_type": "execute_result"
    }
   ],
   "source": [
    "EXP2NET"
   ]
  },
  {
   "cell_type": "code",
   "execution_count": 19,
   "metadata": {},
   "outputs": [
    {
     "data": {
      "text/plain": [
       "66"
      ]
     },
     "execution_count": 19,
     "metadata": {},
     "output_type": "execute_result"
    }
   ],
   "source": [
    "len(EXP2NET)"
   ]
  },
  {
   "cell_type": "code",
   "execution_count": 20,
   "metadata": {},
   "outputs": [
    {
     "data": {
      "text/plain": [
       "0.041210021648714935"
      ]
     },
     "execution_count": 20,
     "metadata": {},
     "output_type": "execute_result"
    }
   ],
   "source": [
    "quality = [0.03869747735035958, 0.04124961485247064, 0.04368297274331458]\n",
    "np.mean(quality)"
   ]
  },
  {
   "cell_type": "code",
   "execution_count": 21,
   "metadata": {},
   "outputs": [
    {
     "data": {
      "text/plain": [
       "0.08585421176815612"
      ]
     },
     "execution_count": 21,
     "metadata": {},
     "output_type": "execute_result"
    }
   ],
   "source": [
    "np.mean(quality) / 0.48"
   ]
  },
  {
   "cell_type": "code",
   "execution_count": null,
   "metadata": {},
   "outputs": [],
   "source": []
  },
  {
   "cell_type": "code",
   "execution_count": 15,
   "metadata": {},
   "outputs": [
    {
     "data": {
      "text/plain": [
       "{'30': '20',\n",
       " '31': '20',\n",
       " '32': '20',\n",
       " '33': '20',\n",
       " '34': '20',\n",
       " '35': '20',\n",
       " '36': '20',\n",
       " '37': '20',\n",
       " '38': '20',\n",
       " '39': '20',\n",
       " '310': '20',\n",
       " '40': '20',\n",
       " '41': '20',\n",
       " '42': '20',\n",
       " '43': '20',\n",
       " '44': '20',\n",
       " '45': '20',\n",
       " '46': '20',\n",
       " '47': '20',\n",
       " '48': '20',\n",
       " '49': '20',\n",
       " '410': '20',\n",
       " '50': '20',\n",
       " '51': '20',\n",
       " '52': '20',\n",
       " '53': '20',\n",
       " '54': '20',\n",
       " '55': '20',\n",
       " '56': '20',\n",
       " '57': '20',\n",
       " '58': '20',\n",
       " '59': '20',\n",
       " '510': '20',\n",
       " '60': '20',\n",
       " '61': '20',\n",
       " '62': '20',\n",
       " '63': '20',\n",
       " '64': '20',\n",
       " '65': '20',\n",
       " '66': '20',\n",
       " '67': '20',\n",
       " '68': '20',\n",
       " '69': '20',\n",
       " '610': '20'}"
      ]
     },
     "execution_count": 15,
     "metadata": {},
     "output_type": "execute_result"
    }
   ],
   "source": [
    "import json\n",
    "import simsom.utils as utils\n",
    "import os\n",
    "\n",
    "# import simsom.config_vals as config_vals\n",
    "\n",
    "# config_vals.THETA_SWIPE # [1, 2, 4, 8, 16, 32, 64]\n",
    "\n",
    "ABS_PATH = \"experiments\"\n",
    "CONFIG_PATH = os.path.join(ABS_PATH, \"config\")\n",
    "\n",
    "config_fname = os.path.join(CONFIG_PATH, \"all_configs.json\")\n",
    "exp_type = \"vary_thetaphi\"\n",
    "\n",
    "# get names for exp_config and network\n",
    "EXPS = json.load(open(config_fname, \"r\"))[exp_type]\n",
    "\n",
    "MAXTHETA_IDX = 2  # 2^5 = 32\n",
    "EXP_NOS = [exp for exp in EXPS.keys() if int(exp[0]) > MAXTHETA_IDX]\n",
    "EXP2NET = {\n",
    "    exp_name: utils.netconfig2netname(config_fname, net_cf)\n",
    "    for exp_name, net_cf in EXPS.items()\n",
    "    if exp_name in EXP_NOS\n",
    "}\n",
    "EXP2NET"
   ]
  },
  {
   "cell_type": "code",
   "execution_count": 16,
   "metadata": {},
   "outputs": [],
   "source": [
    "import json\n",
    "import simsom.utils as utils\n",
    "import os\n",
    "\n",
    "# import simsom.config_vals as config_vals\n",
    "\n",
    "# config_vals.THETA_SWIPE # [1, 2, 4, 8, 16, 32, 64]\n",
    "\n",
    "ABS_PATH = \"experiments\"\n",
    "CONFIG_PATH = os.path.join(ABS_PATH, \"config\")\n",
    "\n",
    "config_fname = os.path.join(CONFIG_PATH, \"all_configs.json\")\n",
    "exp_type = \"vary_thetaphi\"\n",
    "\n",
    "# get names for exp_config and network\n",
    "EXPS = json.load(open(config_fname, \"r\"))[exp_type]\n",
    "\n",
    "MAXTHETA_IDX = 2  # 2^5 = 32\n",
    "EXP_NOS = [exp for exp in EXPS.keys() if int(exp[0]) <= MAXTHETA_IDX]\n",
    "EXP2NET_ = {\n",
    "    exp_name: utils.netconfig2netname(config_fname, net_cf)\n",
    "    for exp_name, net_cf in EXPS.items()\n",
    "    if exp_name in EXP_NOS\n",
    "}"
   ]
  },
  {
   "cell_type": "code",
   "execution_count": 17,
   "metadata": {},
   "outputs": [
    {
     "data": {
      "text/plain": [
       "set()"
      ]
     },
     "execution_count": 17,
     "metadata": {},
     "output_type": "execute_result"
    }
   ],
   "source": [
    "set(EXP2NET.keys()) & set(EXP2NET_.keys())"
   ]
  },
  {
   "cell_type": "code",
   "execution_count": 7,
   "metadata": {},
   "outputs": [],
   "source": [
    "config_fname = os.path.join(CONFIG_PATH, \"all_configs.json\")\n",
    "exp_type = \"vary_phigamma\"\n",
    "\n",
    "# get names for exp_config and network\n",
    "EXPS = json.load(open(config_fname, \"r\"))[exp_type]\n",
    "\n",
    "MAXPHI_IDX = 4  # 2^5 = 32\n",
    "\n",
    "EXP_NOS = [exp for exp in EXPS.keys() if int(exp[0]) > MAXPHI_IDX]\n",
    "EXP2NET = {\n",
    "    exp_name: utils.netconfig2netname(config_fname, net_cf)\n",
    "    for exp_name, net_cf in EXPS.items()\n",
    "    if exp_name in EXP_NOS\n",
    "}"
   ]
  },
  {
   "cell_type": "code",
   "execution_count": 9,
   "metadata": {},
   "outputs": [
    {
     "data": {
      "text/plain": [
       "20"
      ]
     },
     "execution_count": 9,
     "metadata": {},
     "output_type": "execute_result"
    }
   ],
   "source": [
    "len(EXP2NET)"
   ]
  },
  {
   "cell_type": "code",
   "execution_count": 12,
   "metadata": {},
   "outputs": [],
   "source": [
    "config_fname = os.path.join(CONFIG_PATH, \"all_configs.json\")\n",
    "exp_type = \"vary_phigamma\"\n",
    "\n",
    "# get names for exp_config and network\n",
    "EXPS = json.load(open(config_fname, \"r\"))[exp_type]\n",
    "\n",
    "MAXPHI_IDX = 4  # 2^5 = 32\n",
    "\n",
    "EXP_NOS = [exp for exp in EXPS.keys() if int(exp[0]) > MAXPHI_IDX]\n",
    "EXP2NET_ = {\n",
    "    exp_name: utils.netconfig2netname(config_fname, net_cf)\n",
    "    for exp_name, net_cf in EXPS.items()\n",
    "    if exp_name in EXP_NOS\n",
    "}"
   ]
  },
  {
   "cell_type": "code",
   "execution_count": 13,
   "metadata": {},
   "outputs": [
    {
     "data": {
      "text/plain": [
       "24"
      ]
     },
     "execution_count": 13,
     "metadata": {},
     "output_type": "execute_result"
    }
   ],
   "source": [
    "config_fname = os.path.join(CONFIG_PATH, \"all_configs.json\")\n",
    "exp_type = \"vary_phigamma\"\n",
    "\n",
    "# get names for exp_config and network\n",
    "EXPS = json.load(open(config_fname, \"r\"))[exp_type]\n",
    "\n",
    "MAXPHI_IDX = 4  # 2^5 = 32\n",
    "\n",
    "EXP_NOS = [exp for exp in EXPS.keys() if int(exp[0]) <= MAXPHI_IDX]\n",
    "EXP2NET = {\n",
    "    exp_name: utils.netconfig2netname(config_fname, net_cf)\n",
    "    for exp_name, net_cf in EXPS.items()\n",
    "    if exp_name in EXP_NOS\n",
    "}\n",
    "len(EXP2NET)"
   ]
  },
  {
   "cell_type": "code",
   "execution_count": 14,
   "metadata": {},
   "outputs": [
    {
     "data": {
      "text/plain": [
       "set()"
      ]
     },
     "execution_count": 14,
     "metadata": {},
     "output_type": "execute_result"
    }
   ],
   "source": [
    "set(EXP2NET.keys()) & set(EXP2NET_.keys())"
   ]
  },
  {
   "cell_type": "markdown",
   "metadata": {},
   "source": [
    "### cascade exps "
   ]
  },
  {
   "cell_type": "code",
   "execution_count": 71,
   "metadata": {},
   "outputs": [],
   "source": [
    "import os\n",
    "import json\n",
    "import simsom.utils as utils\n",
    "\n",
    "ABS_PATH = \"experiments\"\n",
    "CONFIG_PATH = os.path.join(ABS_PATH, \"config\")\n",
    "\n",
    "config_fname = os.path.join(CONFIG_PATH, \"all_configs.json\")\n",
    "exp_type = \"vary_phigamma\"\n",
    "GAMMA = \"2\"  # index of gamma (0.1)\n",
    "PHI = [\"0\", \"1\"]\n",
    "# get network names corresponding to the strategy\n",
    "EXPS = json.load(open(config_fname, \"r\"))[exp_type]\n",
    "\n",
    "EXP_NOS = [exp for exp in EXPS.keys() if (exp[1] == GAMMA) and (exp[0] in PHI)]\n",
    "EXP2NET = {\n",
    "    exp_name: utils.netconfig2netname(config_fname, net_cf)\n",
    "    for exp_name, net_cf in EXPS.items()\n",
    "    if exp_name in EXP_NOS\n",
    "}"
   ]
  },
  {
   "cell_type": "code",
   "execution_count": 72,
   "metadata": {},
   "outputs": [
    {
     "data": {
      "text/plain": [
       "{'02': '20', '12': '20'}"
      ]
     },
     "execution_count": 72,
     "metadata": {},
     "output_type": "execute_result"
    }
   ],
   "source": [
    "EXP2NET"
   ]
  },
  {
   "cell_type": "code",
   "execution_count": 74,
   "metadata": {},
   "outputs": [
    {
     "name": "stdout",
     "output_type": "stream",
     "text": [
      "{'phi': 0.0, 'gamma': 0.01, 'beta': 0.05, 'targeting_criterion': None, 'verbose': False, 'human_network': 'follower_network.gml', 'output_cascades': True, 'epsilon': 0.0001, 'rho': 0.8, 'mu': 0.5, 'alpha': 15, 'theta': 1}\n",
      "{'phi': 0.1, 'gamma': 0.01, 'beta': 0.05, 'targeting_criterion': None, 'verbose': False, 'human_network': 'follower_network.gml', 'output_cascades': True, 'epsilon': 0.0001, 'rho': 0.8, 'mu': 0.5, 'alpha': 15, 'theta': 1}\n"
     ]
    }
   ],
   "source": [
    "for exp_no in EXP2NET.keys():\n",
    "    configfile = os.path.join(CONFIG_PATH, exp_type, f\"{exp_no}.json\")\n",
    "    config = json.load(open(configfile))\n",
    "    print(config)"
   ]
  },
  {
   "cell_type": "code",
   "execution_count": null,
   "metadata": {},
   "outputs": [],
   "source": []
  }
 ],
 "metadata": {
  "kernelspec": {
   "display_name": "simsommodel",
   "language": "python",
   "name": "python3"
  },
  "language_info": {
   "codemirror_mode": {
    "name": "ipython",
    "version": 3
   },
   "file_extension": ".py",
   "mimetype": "text/x-python",
   "name": "python",
   "nbconvert_exporter": "python",
   "pygments_lexer": "ipython3",
   "version": "3.8.16"
  },
  "orig_nbformat": 4
 },
 "nbformat": 4,
 "nbformat_minor": 2
}
