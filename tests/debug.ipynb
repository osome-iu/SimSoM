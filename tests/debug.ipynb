{
 "cells": [
  {
   "cell_type": "code",
   "execution_count": 1,
   "metadata": {},
   "outputs": [],
   "source": [
    "from simsom.graphutils import (\n",
    "    rewire_preserve_community,\n",
    "    rewire_preserve_degree,\n",
    "    rewire_random,\n",
    ")\n",
    "import igraph as ig\n",
    "import sys\n",
    "import argparse"
   ]
  },
  {
   "cell_type": "code",
   "execution_count": 2,
   "metadata": {},
   "outputs": [],
   "source": [
    "def shuffle_net(infile, mode, outfile):\n",
    "    graph = ig.Graph.Read_GML(infile)\n",
    "    print(graph.summary())\n",
    "    print(graph.vs.attributes())\n",
    "    if mode == \"community\":\n",
    "        shuffled = rewire_preserve_community(graph)\n",
    "    elif mode == \"hub\":\n",
    "        shuffled = rewire_preserve_degree(graph)\n",
    "    else:\n",
    "        shuffled = rewire_random(graph, probability=1)\n",
    "\n",
    "    shuffled.write_gml(outfile)"
   ]
  },
  {
   "cell_type": "code",
   "execution_count": 3,
   "metadata": {},
   "outputs": [
    {
     "name": "stdout",
     "output_type": "stream",
     "text": [
      "IGRAPH D--- 0 0 -- \n",
      "[]\n",
      "Rewiring subgraphs...\n",
      "Finished rewiring subgraph!\n",
      "Finished rewiring subgraph!\n",
      "Finished rewiring subgraph!\n",
      "Make new graph from rewired edges\n",
      "Finished shuffling network (community-preserving)!\n"
     ]
    }
   ],
   "source": [
    "infile = \"experiments/10172023_v3.0_exps/data/follower_network.gml\"\n",
    "mode = \"community\"\n",
    "outfile = \"experiments/10172023_v3.0_exps/data/follower_network.gml\"\n",
    "shuffle_net(infile, mode, outfile)"
   ]
  },
  {
   "cell_type": "code",
   "execution_count": null,
   "metadata": {},
   "outputs": [],
   "source": [
    "graph = ig.Graph.Read_GML(infile)\n",
    "print(graph.summary())\n",
    "print(graph.vs.attributes())"
   ]
  },
  {
   "cell_type": "code",
   "execution_count": 4,
   "metadata": {},
   "outputs": [],
   "source": [
    "import simsom.config_vals as configs\n",
    "\n",
    "import json\n",
    "import os\n",
    "\n",
    "CONFIG_PATH = \"experiments/config\"\n",
    "\n",
    "config_fname = os.path.join(CONFIG_PATH, \"all_configs.json\")\n",
    "exp_type = \"vary_gamma\"\n",
    "# get network names corresponding to the strategy\n",
    "EXPS = json.load(open(config_fname, \"r\"))[exp_type]\n",
    "EXP_NOS = [\n",
    "    exp_name\n",
    "    for exp_name in EXPS.keys()\n",
    "    if \"None\" in exp_name\n",
    "    and exp_name.endswith(str(configs.GAMMA.index(configs.DEFAULT_GAMMA)))\n",
    "]"
   ]
  },
  {
   "cell_type": "code",
   "execution_count": 5,
   "metadata": {},
   "outputs": [
    {
     "data": {
      "text/plain": [
       "['None2']"
      ]
     },
     "execution_count": 5,
     "metadata": {},
     "output_type": "execute_result"
    }
   ],
   "source": [
    "EXP_NOS"
   ]
  },
  {
   "cell_type": "code",
   "execution_count": 3,
   "metadata": {},
   "outputs": [
    {
     "data": {
      "text/plain": [
       "['None0',\n",
       " 'hubs0',\n",
       " 'partisanship0',\n",
       " 'conservative0',\n",
       " 'liberal0',\n",
       " 'misinformation0',\n",
       " 'None1',\n",
       " 'hubs1',\n",
       " 'partisanship1',\n",
       " 'conservative1',\n",
       " 'liberal1',\n",
       " 'misinformation1',\n",
       " 'None2',\n",
       " 'hubs2',\n",
       " 'partisanship2',\n",
       " 'conservative2',\n",
       " 'liberal2',\n",
       " 'misinformation2',\n",
       " 'None3',\n",
       " 'hubs3',\n",
       " 'partisanship3',\n",
       " 'conservative3',\n",
       " 'liberal3',\n",
       " 'misinformation3']"
      ]
     },
     "execution_count": 3,
     "metadata": {},
     "output_type": "execute_result"
    }
   ],
   "source": [
    "[exp_name\n",
    "    for exp_name in EXPS.keys()]"
   ]
  },
  {
   "cell_type": "code",
   "execution_count": null,
   "metadata": {},
   "outputs": [],
   "source": []
  }
 ],
 "metadata": {
  "kernelspec": {
   "display_name": "marketplace",
   "language": "python",
   "name": "python3"
  },
  "language_info": {
   "codemirror_mode": {
    "name": "ipython",
    "version": 3
   },
   "file_extension": ".py",
   "mimetype": "text/x-python",
   "name": "python",
   "nbconvert_exporter": "python",
   "pygments_lexer": "ipython3",
   "version": "3.8.0"
  }
 },
 "nbformat": 4,
 "nbformat_minor": 2
}
