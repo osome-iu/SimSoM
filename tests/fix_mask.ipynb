{
 "cells": [
  {
   "cell_type": "markdown",
   "metadata": {},
   "source": [
    "Fix this warning: \n",
    "\n",
    " FutureWarning: Using a non-tuple sequence for multidimensional indexing is deprecated; use `arr[tuple(seq)]` instead of `arr[seq]`. In the future this will be interpreted as an array index, `arr[np.array(seq)]`, which will result either in an error or a different result.\n",
    "  mask_x[[x_ind]], mask_y[[y_ind]] = True, True\n",
    "  "
   ]
  },
  {
   "cell_type": "code",
   "execution_count": 20,
   "metadata": {},
   "outputs": [
    {
     "name": "stdout",
     "output_type": "stream",
     "text": [
      "incoming ids : [100   2] --> feed: [3 1 2 4]\n",
      "no_shares : [10  4] --> feed: [1, 1, 3, 1]\n",
      "incoming age : [0. 0.] --> feed: [1, 1, 1, 1]\n"
     ]
    }
   ],
   "source": [
    "import numpy as np\n",
    "\n",
    "# incoming messages, if not overlapping are added at the beginning of the list\n",
    "# if a message overlaps, its popularity is updated (+=new popularity), and age is reset to 0\n",
    "messages = np.array([3, 1, 2, 4])\n",
    "no_shares = [1, 1, 3, 1]\n",
    "ages = [1, 1, 1, 1]\n",
    "\n",
    "target_feed = (messages, no_shares, ages)\n",
    "incoming_ids = np.array([100, 2])\n",
    "incoming_shares = np.array([10, 4])\n",
    "\n",
    "print(f\"incoming ids : {incoming_ids} --> feed: {messages}\")\n",
    "print(f\"no_shares : {incoming_shares} --> feed: {no_shares}\")\n",
    "print(f\"incoming age : {np.zeros(len(incoming_ids))} --> feed: {ages}\")"
   ]
  },
  {
   "cell_type": "code",
   "execution_count": 22,
   "metadata": {},
   "outputs": [
    {
     "name": "stdout",
     "output_type": "stream",
     "text": [
      "incoming ids : [100   2] --> feed: [3 1 2 4]\n",
      "no_shares : [10  4] --> feed: [1 1 3 1]\n",
      "incoming age : [0. 0.] --> feed: [1 1 1 1]\n",
      "overlap message between [3 1 2 4] and [100   2] are: [2]\n",
      "update no_share and age of overlapping messages.. \n",
      "before:  messages: [3 1 2 4], shares: [1 1 3 1], ages: [1 1 1 1]\n",
      "incoming except for overlap:  [100]\n",
      "incoming except for overlap (tuple):  100\n",
      "x_ind, y_ind:  [2] [1]\n",
      "mask_x: [False False False False]\n",
      "mask_y: [False False]\n"
     ]
    }
   ],
   "source": [
    "verbose = True\n",
    "messages, no_shares, ages = [np.array(i) for i in target_feed]\n",
    "# return sorted intersection\n",
    "overlap, x_ind, y_ind = np.intersect1d(messages, incoming_ids, return_indices=True)\n",
    "# print(new_messages, new_shares, new_ages)\n",
    "if verbose:\n",
    "    print(f\"incoming ids : {incoming_ids} --> feed: {messages}\")\n",
    "    print(f\"no_shares : {incoming_shares} --> feed: {no_shares}\")\n",
    "    print(f\"incoming age : {np.zeros(len(incoming_ids))} --> feed: {ages}\")\n",
    "\n",
    "    print(f\"overlap message between {messages} and {incoming_ids} are: {overlap}\")\n",
    "    print(\"update no_share and age of overlapping messages.. \")\n",
    "    print(f\"before:  messages: {messages}, shares: {no_shares}, ages: {ages}\")\n",
    "\n",
    "print(\"incoming except for overlap: \", incoming_ids[~np.array(y_ind)])\n",
    "print(\"incoming except for overlap (tuple): \", incoming_ids[tuple(~np.array(y_ind))])\n",
    "print(\"x_ind, y_ind: \", x_ind, y_ind)\n",
    "# mask_y = np.zeros(len(incoming_ids), bool)\n",
    "# mask_y[[y_ind]] = True\n",
    "\n",
    "# print(\"(correct) incoming except for overlap: \", incoming_ids[~mask_y])\n",
    "# mask_x = np.zeros(len(messages), bool)\n",
    "# mask_x[[x_ind]] = True\n",
    "\n",
    "mask_x, mask_y = np.zeros(len(messages), bool), np.zeros(len(incoming_ids), bool)\n",
    "print(\"mask_x:\", mask_x)\n",
    "print(\"mask_y:\", mask_y)\n",
    "mask_x[x_ind], mask_y[y_ind] = True, True  # changed mask_x[[x_ind]] to mask_x[x_ind]"
   ]
  },
  {
   "cell_type": "code",
   "execution_count": 18,
   "metadata": {},
   "outputs": [
    {
     "data": {
      "text/plain": [
       "(array([False, False,  True, False]), array([False,  True]))"
      ]
     },
     "execution_count": 18,
     "metadata": {},
     "output_type": "execute_result"
    }
   ],
   "source": [
    "mask_x, mask_y"
   ]
  },
  {
   "cell_type": "code",
   "execution_count": 12,
   "metadata": {},
   "outputs": [
    {
     "data": {
      "text/plain": [
       "numpy.ndarray"
      ]
     },
     "execution_count": 12,
     "metadata": {},
     "output_type": "execute_result"
    }
   ],
   "source": [
    "type(x_ind)"
   ]
  },
  {
   "cell_type": "code",
   "execution_count": 8,
   "metadata": {},
   "outputs": [
    {
     "data": {
      "text/plain": [
       "(array([False, False,  True, False]), array([False,  True]))"
      ]
     },
     "execution_count": 8,
     "metadata": {},
     "output_type": "execute_result"
    }
   ],
   "source": [
    "mask_x, mask_y"
   ]
  },
  {
   "cell_type": "code",
   "execution_count": 15,
   "metadata": {},
   "outputs": [],
   "source": [
    "mask_x[x_ind] = True"
   ]
  },
  {
   "cell_type": "code",
   "execution_count": 16,
   "metadata": {},
   "outputs": [
    {
     "data": {
      "text/plain": [
       "array([False, False,  True, False])"
      ]
     },
     "execution_count": 16,
     "metadata": {},
     "output_type": "execute_result"
    }
   ],
   "source": [
    "mask_x"
   ]
  },
  {
   "cell_type": "code",
   "execution_count": null,
   "metadata": {},
   "outputs": [],
   "source": []
  }
 ],
 "metadata": {
  "kernelspec": {
   "display_name": "simsommodel",
   "language": "python",
   "name": "python3"
  },
  "language_info": {
   "codemirror_mode": {
    "name": "ipython",
    "version": 3
   },
   "file_extension": ".py",
   "mimetype": "text/x-python",
   "name": "python",
   "nbconvert_exporter": "python",
   "pygments_lexer": "ipython3",
   "version": "3.8.16"
  }
 },
 "nbformat": 4,
 "nbformat_minor": 2
}
