{
 "cells": [
  {
   "cell_type": "code",
   "execution_count": 1,
   "metadata": {},
   "outputs": [],
   "source": [
    "import igraph"
   ]
  },
  {
   "cell_type": "code",
   "execution_count": 2,
   "metadata": {},
   "outputs": [
    {
     "data": {
      "text/plain": [
       "30.00000000000002"
      ]
     },
     "execution_count": 2,
     "metadata": {},
     "output_type": "execute_result"
    }
   ],
   "source": [
    "from igraph import Graph, mean\n",
    "G = Graph.Read_GML(\"/N/project/simsom/simsom_v3/10242023_v3.3/data/follower_network.gml\")\n",
    "mean(G.degree(mode=\"in\"))"
   ]
  },
  {
   "cell_type": "code",
   "execution_count": 3,
   "metadata": {},
   "outputs": [
    {
     "data": {
      "text/plain": [
       "29.999999999999993"
      ]
     },
     "execution_count": 3,
     "metadata": {},
     "output_type": "execute_result"
    }
   ],
   "source": [
    "mean(G.degree(mode=\"out\"))"
   ]
  },
  {
   "cell_type": "code",
   "execution_count": 4,
   "metadata": {},
   "outputs": [
    {
     "data": {
      "text/plain": [
       "1001"
      ]
     },
     "execution_count": 4,
     "metadata": {},
     "output_type": "execute_result"
    }
   ],
   "source": [
    "G.vcount()"
   ]
  },
  {
   "cell_type": "code",
   "execution_count": 6,
   "metadata": {},
   "outputs": [
    {
     "data": {
      "text/plain": [
       "901"
      ]
     },
     "execution_count": 6,
     "metadata": {},
     "output_type": "execute_result"
    }
   ],
   "source": [
    "a= [v for v in G.vs()][:100]\n",
    "b = set(G.vs()) - set(a)\n",
    "len(b)"
   ]
  },
  {
   "cell_type": "code",
   "execution_count": 11,
   "metadata": {},
   "outputs": [
    {
     "ename": "AttributeError",
     "evalue": "'VertexSeq' object has no attribute 'index'",
     "output_type": "error",
     "traceback": [
      "\u001b[0;31m---------------------------------------------------------------------------\u001b[0m",
      "\u001b[0;31mAttributeError\u001b[0m                            Traceback (most recent call last)",
      "Cell \u001b[0;32mIn[11], line 1\u001b[0m\n\u001b[0;32m----> 1\u001b[0m \u001b[43mG\u001b[49m\u001b[38;5;241;43m.\u001b[39;49m\u001b[43mvs\u001b[49m\u001b[38;5;241;43m.\u001b[39;49m\u001b[43mindex\u001b[49m\n",
      "\u001b[0;31mAttributeError\u001b[0m: 'VertexSeq' object has no attribute 'index'"
     ]
    }
   ],
   "source": [
    "G.vs"
   ]
  },
  {
   "cell_type": "code",
   "execution_count": 10,
   "metadata": {},
   "outputs": [
    {
     "data": {
      "text/plain": [
       "[1, 67, 182, 217, 322, 323, 719, 722, 849, 863, 883, 935, 973]"
      ]
     },
     "execution_count": 10,
     "metadata": {},
     "output_type": "execute_result"
    }
   ],
   "source": [
    "G.predecessors(a[0]) "
   ]
  },
  {
   "cell_type": "code",
   "execution_count": 8,
   "metadata": {},
   "outputs": [
    {
     "data": {
      "text/plain": [
       "[igraph.Vertex(<igraph.Graph object at 0x7fca455c1c40>, 452, {'id': 452.0, 'label': '104487', 'party': 0.1713653846153846, 'misinfo': 0.1153846153846153}),\n",
       " igraph.Vertex(<igraph.Graph object at 0x7fca455c1c40>, 453, {'id': 453.0, 'label': '88673', 'party': 0.0684249999999999, 'misinfo': 0.15}),\n",
       " igraph.Vertex(<igraph.Graph object at 0x7fca455c1c40>, 454, {'id': 454.0, 'label': '135461', 'party': 0.3452666666666666, 'misinfo': 0.365079365079365}),\n",
       " igraph.Vertex(<igraph.Graph object at 0x7fca455c1c40>, 455, {'id': 455.0, 'label': '63279', 'party': 0.1300356643356643, 'misinfo': 0.1538461538461538}),\n",
       " igraph.Vertex(<igraph.Graph object at 0x7fca455c1c40>, 448, {'id': 448.0, 'label': '43439', 'party': 0.19485, 'misinfo': 0.3269230769230769}),\n",
       " igraph.Vertex(<igraph.Graph object at 0x7fca455c1c40>, 449, {'id': 449.0, 'label': '117360', 'party': 0.1976529411764706, 'misinfo': 0.2588235294117647}),\n",
       " igraph.Vertex(<igraph.Graph object at 0x7fca455c1c40>, 450, {'id': 450.0, 'label': '83059', 'party': 0.2797599999999999, 'misinfo': 0.26}),\n",
       " igraph.Vertex(<igraph.Graph object at 0x7fca455c1c40>, 451, {'id': 451.0, 'label': '53568', 'party': 0.2101018469656992, 'misinfo': 0.6411609498680739}),\n",
       " igraph.Vertex(<igraph.Graph object at 0x7fca455c1c40>, 460, {'id': 460.0, 'label': '83156', 'party': 0.2743692307692308, 'misinfo': 0.1923076923076923}),\n",
       " igraph.Vertex(<igraph.Graph object at 0x7fca455c1c40>, 461, {'id': 461.0, 'label': '123257', 'party': 0.08317109375, 'misinfo': 0.125})]"
      ]
     },
     "execution_count": 8,
     "metadata": {},
     "output_type": "execute_result"
    }
   ],
   "source": [
    "[v for v in b][:10]\n"
   ]
  },
  {
   "cell_type": "code",
   "execution_count": 9,
   "metadata": {},
   "outputs": [
    {
     "data": {
      "text/plain": [
       "[igraph.Vertex(<igraph.Graph object at 0x7fca455c1c40>, 0, {'id': 0.0, 'label': '61445', 'party': -0.2553254901960784, 'misinfo': 0.1176470588235294}),\n",
       " igraph.Vertex(<igraph.Graph object at 0x7fca455c1c40>, 1, {'id': 1.0, 'label': '98847', 'party': -0.2315941176470588, 'misinfo': 0.0980392156862745}),\n",
       " igraph.Vertex(<igraph.Graph object at 0x7fca455c1c40>, 2, {'id': 2.0, 'label': '99106', 'party': -0.0367808219178082, 'misinfo': 0.1164383561643835}),\n",
       " igraph.Vertex(<igraph.Graph object at 0x7fca455c1c40>, 3, {'id': 3.0, 'label': '33605', 'party': 0.1588326923076922, 'misinfo': 0.2692307692307692}),\n",
       " igraph.Vertex(<igraph.Graph object at 0x7fca455c1c40>, 4, {'id': 4.0, 'label': '120848', 'party': -0.1507465116279069, 'misinfo': 0.1511627906976744}),\n",
       " igraph.Vertex(<igraph.Graph object at 0x7fca455c1c40>, 5, {'id': 5.0, 'label': '98468', 'party': -0.168448, 'misinfo': 0.24}),\n",
       " igraph.Vertex(<igraph.Graph object at 0x7fca455c1c40>, 6, {'id': 6.0, 'label': '129176', 'party': -0.117241304347826, 'misinfo': 0.0434782608695652}),\n",
       " igraph.Vertex(<igraph.Graph object at 0x7fca455c1c40>, 7, {'id': 7.0, 'label': '50715', 'party': 0.2170428571428571, 'misinfo': 0.3333333333333333}),\n",
       " igraph.Vertex(<igraph.Graph object at 0x7fca455c1c40>, 8, {'id': 8.0, 'label': '81015', 'party': 0.2868699999999999, 'misinfo': 0.3583333333333333}),\n",
       " igraph.Vertex(<igraph.Graph object at 0x7fca455c1c40>, 9, {'id': 9.0, 'label': '26354', 'party': 0.1987178913738018, 'misinfo': 0.2172523961661341}),\n",
       " igraph.Vertex(<igraph.Graph object at 0x7fca455c1c40>, 10, {'id': 10.0, 'label': '48558', 'party': -0.2586384615384615, 'misinfo': 0.1025641025641025}),\n",
       " igraph.Vertex(<igraph.Graph object at 0x7fca455c1c40>, 11, {'id': 11.0, 'label': '125661', 'party': 0.2849142857142857, 'misinfo': 0.2142857142857142}),\n",
       " igraph.Vertex(<igraph.Graph object at 0x7fca455c1c40>, 12, {'id': 12.0, 'label': '136140', 'party': -0.1135603960396039, 'misinfo': 0.2475247524752475}),\n",
       " igraph.Vertex(<igraph.Graph object at 0x7fca455c1c40>, 13, {'id': 13.0, 'label': '84116', 'party': 0.24028, 'misinfo': 0.3846153846153846}),\n",
       " igraph.Vertex(<igraph.Graph object at 0x7fca455c1c40>, 14, {'id': 14.0, 'label': '62398', 'party': -0.1951928571428571, 'misinfo': 0.0714285714285714}),\n",
       " igraph.Vertex(<igraph.Graph object at 0x7fca455c1c40>, 15, {'id': 15.0, 'label': '117659', 'party': -0.5393350000000001, 'misinfo': 0.45}),\n",
       " igraph.Vertex(<igraph.Graph object at 0x7fca455c1c40>, 16, {'id': 16.0, 'label': '110483', 'party': 0.1794184523809524, 'misinfo': 0.238095238095238}),\n",
       " igraph.Vertex(<igraph.Graph object at 0x7fca455c1c40>, 17, {'id': 17.0, 'label': '55935', 'party': 0.3770153846153846, 'misinfo': 0.4505494505494505}),\n",
       " igraph.Vertex(<igraph.Graph object at 0x7fca455c1c40>, 18, {'id': 18.0, 'label': '105229', 'party': -0.0628406542056074, 'misinfo': 0.0514018691588785}),\n",
       " igraph.Vertex(<igraph.Graph object at 0x7fca455c1c40>, 19, {'id': 19.0, 'label': '131942', 'party': 0.1925519607843136, 'misinfo': 0.196078431372549}),\n",
       " igraph.Vertex(<igraph.Graph object at 0x7fca455c1c40>, 20, {'id': 20.0, 'label': '130178', 'party': 0.2105961538461538, 'misinfo': 0.2692307692307692}),\n",
       " igraph.Vertex(<igraph.Graph object at 0x7fca455c1c40>, 21, {'id': 21.0, 'label': '55131', 'party': -0.2321483870967742, 'misinfo': 0.1612903225806451}),\n",
       " igraph.Vertex(<igraph.Graph object at 0x7fca455c1c40>, 22, {'id': 22.0, 'label': '108396', 'party': 0.199995744680851, 'misinfo': 0.1914893617021276}),\n",
       " igraph.Vertex(<igraph.Graph object at 0x7fca455c1c40>, 23, {'id': 23.0, 'label': '66358', 'party': 0.3893615686274509, 'misinfo': 0.3529411764705882}),\n",
       " igraph.Vertex(<igraph.Graph object at 0x7fca455c1c40>, 24, {'id': 24.0, 'label': '56633', 'party': -0.1988088888888889, 'misinfo': 0.0888888888888888}),\n",
       " igraph.Vertex(<igraph.Graph object at 0x7fca455c1c40>, 25, {'id': 25.0, 'label': '55783', 'party': 0.3001941176470588, 'misinfo': 0.2941176470588235}),\n",
       " igraph.Vertex(<igraph.Graph object at 0x7fca455c1c40>, 26, {'id': 26.0, 'label': '105587', 'party': -0.1160576923076923, 'misinfo': 0.1025641025641025}),\n",
       " igraph.Vertex(<igraph.Graph object at 0x7fca455c1c40>, 27, {'id': 27.0, 'label': '33781', 'party': 0.2049204545454545, 'misinfo': 0.5}),\n",
       " igraph.Vertex(<igraph.Graph object at 0x7fca455c1c40>, 28, {'id': 28.0, 'label': '117491', 'party': 0.2550677419354839, 'misinfo': 0.3333333333333333}),\n",
       " igraph.Vertex(<igraph.Graph object at 0x7fca455c1c40>, 29, {'id': 29.0, 'label': '46877', 'party': 0.3113936708860759, 'misinfo': 0.379746835443038}),\n",
       " igraph.Vertex(<igraph.Graph object at 0x7fca455c1c40>, 30, {'id': 30.0, 'label': '50030', 'party': 0.4875064516129032, 'misinfo': 0.3548387096774194}),\n",
       " igraph.Vertex(<igraph.Graph object at 0x7fca455c1c40>, 31, {'id': 31.0, 'label': '76267', 'party': -0.3515173076923077, 'misinfo': 0.2884615384615384}),\n",
       " igraph.Vertex(<igraph.Graph object at 0x7fca455c1c40>, 32, {'id': 32.0, 'label': '12341', 'party': 0.2051717948717948, 'misinfo': 0.3076923076923077}),\n",
       " igraph.Vertex(<igraph.Graph object at 0x7fca455c1c40>, 33, {'id': 33.0, 'label': '3549', 'party': 0.1535479452054794, 'misinfo': 0.273972602739726}),\n",
       " igraph.Vertex(<igraph.Graph object at 0x7fca455c1c40>, 34, {'id': 34.0, 'label': '34536', 'party': 0.2336773333333333, 'misinfo': 0.2933333333333333}),\n",
       " igraph.Vertex(<igraph.Graph object at 0x7fca455c1c40>, 35, {'id': 35.0, 'label': '325', 'party': 0.1287520833333333, 'misinfo': 0.4791666666666667}),\n",
       " igraph.Vertex(<igraph.Graph object at 0x7fca455c1c40>, 36, {'id': 36.0, 'label': '83395', 'party': 0.18988, 'misinfo': 0.2727272727272727}),\n",
       " igraph.Vertex(<igraph.Graph object at 0x7fca455c1c40>, 37, {'id': 37.0, 'label': '33288', 'party': 0.0838594594594594, 'misinfo': 0.2432432432432432}),\n",
       " igraph.Vertex(<igraph.Graph object at 0x7fca455c1c40>, 38, {'id': 38.0, 'label': '57734', 'party': -0.1775383333333333, 'misinfo': 0.15}),\n",
       " igraph.Vertex(<igraph.Graph object at 0x7fca455c1c40>, 39, {'id': 39.0, 'label': '50640', 'party': 0.4058016129032258, 'misinfo': 0.4516129032258064}),\n",
       " igraph.Vertex(<igraph.Graph object at 0x7fca455c1c40>, 40, {'id': 40.0, 'label': '77691', 'party': 0.1214508196721311, 'misinfo': 0.1311475409836065}),\n",
       " igraph.Vertex(<igraph.Graph object at 0x7fca455c1c40>, 41, {'id': 41.0, 'label': '102360', 'party': -0.1694990909090909, 'misinfo': 0.1181818181818181}),\n",
       " igraph.Vertex(<igraph.Graph object at 0x7fca455c1c40>, 42, {'id': 42.0, 'label': '27548', 'party': 0.2228941176470588, 'misinfo': 0.3088235294117647}),\n",
       " igraph.Vertex(<igraph.Graph object at 0x7fca455c1c40>, 43, {'id': 43.0, 'label': '28430', 'party': 0.283722794117647, 'misinfo': 0.2573529411764705}),\n",
       " igraph.Vertex(<igraph.Graph object at 0x7fca455c1c40>, 44, {'id': 44.0, 'label': '70372', 'party': 0.2185187499999999, 'misinfo': 0.3333333333333333}),\n",
       " igraph.Vertex(<igraph.Graph object at 0x7fca455c1c40>, 45, {'id': 45.0, 'label': '135408', 'party': 0.2360578313253012, 'misinfo': 0.4096385542168674}),\n",
       " igraph.Vertex(<igraph.Graph object at 0x7fca455c1c40>, 46, {'id': 46.0, 'label': '125319', 'party': -0.1874166666666666, 'misinfo': 0.1}),\n",
       " igraph.Vertex(<igraph.Graph object at 0x7fca455c1c40>, 47, {'id': 47.0, 'label': '22201', 'party': -0.174971212121212, 'misinfo': 0.0606060606060606}),\n",
       " igraph.Vertex(<igraph.Graph object at 0x7fca455c1c40>, 48, {'id': 48.0, 'label': '26474', 'party': 0.2149799999999999, 'misinfo': 0.2285714285714285}),\n",
       " igraph.Vertex(<igraph.Graph object at 0x7fca455c1c40>, 49, {'id': 49.0, 'label': '79223', 'party': 0.0730197530864197, 'misinfo': 0.3209876543209876}),\n",
       " igraph.Vertex(<igraph.Graph object at 0x7fca455c1c40>, 50, {'id': 50.0, 'label': '18493', 'party': 0.2055372093023255, 'misinfo': 0.2325581395348837}),\n",
       " igraph.Vertex(<igraph.Graph object at 0x7fca455c1c40>, 51, {'id': 51.0, 'label': '73305', 'party': -0.2221257575757575, 'misinfo': 0.3181818181818182}),\n",
       " igraph.Vertex(<igraph.Graph object at 0x7fca455c1c40>, 52, {'id': 52.0, 'label': '98290', 'party': 0.2583657142857142, 'misinfo': 0.1714285714285714}),\n",
       " igraph.Vertex(<igraph.Graph object at 0x7fca455c1c40>, 53, {'id': 53.0, 'label': '55486', 'party': -0.1025709401709401, 'misinfo': 0.0598290598290598}),\n",
       " igraph.Vertex(<igraph.Graph object at 0x7fca455c1c40>, 54, {'id': 54.0, 'label': '82772', 'party': 0.2906186046511628, 'misinfo': 0.3488372093023256}),\n",
       " igraph.Vertex(<igraph.Graph object at 0x7fca455c1c40>, 55, {'id': 55.0, 'label': '44355', 'party': 0.1454211505922165, 'misinfo': 0.1302876480541455}),\n",
       " igraph.Vertex(<igraph.Graph object at 0x7fca455c1c40>, 56, {'id': 56.0, 'label': '91849', 'party': 0.272145652173913, 'misinfo': 0.391304347826087}),\n",
       " igraph.Vertex(<igraph.Graph object at 0x7fca455c1c40>, 57, {'id': 57.0, 'label': '128430', 'party': 0.08686, 'misinfo': 0.16}),\n",
       " igraph.Vertex(<igraph.Graph object at 0x7fca455c1c40>, 58, {'id': 58.0, 'label': '75147', 'party': -0.1623107142857142, 'misinfo': 0.1071428571428571}),\n",
       " igraph.Vertex(<igraph.Graph object at 0x7fca455c1c40>, 59, {'id': 59.0, 'label': '122247', 'party': -0.1170595238095238, 'misinfo': 0.1071428571428571}),\n",
       " igraph.Vertex(<igraph.Graph object at 0x7fca455c1c40>, 60, {'id': 60.0, 'label': '50447', 'party': -0.352164161849711, 'misinfo': 0.3179190751445087}),\n",
       " igraph.Vertex(<igraph.Graph object at 0x7fca455c1c40>, 61, {'id': 61.0, 'label': '113390', 'party': -0.1244773333333333, 'misinfo': 0.1666666666666666}),\n",
       " igraph.Vertex(<igraph.Graph object at 0x7fca455c1c40>, 62, {'id': 62.0, 'label': '45965', 'party': 0.3387183593750001, 'misinfo': 0.296875}),\n",
       " igraph.Vertex(<igraph.Graph object at 0x7fca455c1c40>, 63, {'id': 63.0, 'label': '132711', 'party': -0.2728586206896552, 'misinfo': 0.1551724137931034}),\n",
       " igraph.Vertex(<igraph.Graph object at 0x7fca455c1c40>, 64, {'id': 64.0, 'label': '14720', 'party': 0.2324765957446808, 'misinfo': 0.3404255319148936}),\n",
       " igraph.Vertex(<igraph.Graph object at 0x7fca455c1c40>, 65, {'id': 65.0, 'label': '105033', 'party': -0.1385592592592592, 'misinfo': 0.1666666666666666}),\n",
       " igraph.Vertex(<igraph.Graph object at 0x7fca455c1c40>, 66, {'id': 66.0, 'label': '124546', 'party': 0.1700760273972602, 'misinfo': 0.2671232876712329}),\n",
       " igraph.Vertex(<igraph.Graph object at 0x7fca455c1c40>, 67, {'id': 67.0, 'label': '20801', 'party': -0.2858803571428572, 'misinfo': 0.0178571428571428}),\n",
       " igraph.Vertex(<igraph.Graph object at 0x7fca455c1c40>, 68, {'id': 68.0, 'label': '25135', 'party': 0.1735851063829787, 'misinfo': 0.1914893617021276}),\n",
       " igraph.Vertex(<igraph.Graph object at 0x7fca455c1c40>, 69, {'id': 69.0, 'label': '16003', 'party': 0.0987301886792452, 'misinfo': 0.1698113207547169}),\n",
       " igraph.Vertex(<igraph.Graph object at 0x7fca455c1c40>, 70, {'id': 70.0, 'label': '122470', 'party': 0.8403291666666666, 'misinfo': 0.5416666666666666}),\n",
       " igraph.Vertex(<igraph.Graph object at 0x7fca455c1c40>, 71, {'id': 71.0, 'label': '118905', 'party': 0.1815971999999999, 'misinfo': 0.284}),\n",
       " igraph.Vertex(<igraph.Graph object at 0x7fca455c1c40>, 72, {'id': 72.0, 'label': '63977', 'party': 0.0704324561403508, 'misinfo': 0.1491228070175438}),\n",
       " igraph.Vertex(<igraph.Graph object at 0x7fca455c1c40>, 73, {'id': 73.0, 'label': '29759', 'party': -0.144646, 'misinfo': 0.18}),\n",
       " igraph.Vertex(<igraph.Graph object at 0x7fca455c1c40>, 74, {'id': 74.0, 'label': '91209', 'party': -0.1607975609756097, 'misinfo': 0.024390243902439}),\n",
       " igraph.Vertex(<igraph.Graph object at 0x7fca455c1c40>, 75, {'id': 75.0, 'label': '71578', 'party': -0.2047865671641791, 'misinfo': 0.0895522388059701}),\n",
       " igraph.Vertex(<igraph.Graph object at 0x7fca455c1c40>, 76, {'id': 76.0, 'label': '97144', 'party': 0.4037627906976744, 'misinfo': 0.4651162790697674}),\n",
       " igraph.Vertex(<igraph.Graph object at 0x7fca455c1c40>, 77, {'id': 77.0, 'label': '38903', 'party': -0.2439411764705882, 'misinfo': 0.0588235294117647}),\n",
       " igraph.Vertex(<igraph.Graph object at 0x7fca455c1c40>, 78, {'id': 78.0, 'label': '83268', 'party': 0.2824409090909091, 'misinfo': 0.4090909090909091}),\n",
       " igraph.Vertex(<igraph.Graph object at 0x7fca455c1c40>, 79, {'id': 79.0, 'label': '136160', 'party': 0.2643178571428571, 'misinfo': 0.5}),\n",
       " igraph.Vertex(<igraph.Graph object at 0x7fca455c1c40>, 80, {'id': 80.0, 'label': '82980', 'party': 0.3879840909090908, 'misinfo': 0.4545454545454545}),\n",
       " igraph.Vertex(<igraph.Graph object at 0x7fca455c1c40>, 81, {'id': 81.0, 'label': '6756', 'party': 0.44755, 'misinfo': 0.3846153846153846}),\n",
       " igraph.Vertex(<igraph.Graph object at 0x7fca455c1c40>, 82, {'id': 82.0, 'label': '53342', 'party': 0.2771148148148147, 'misinfo': 0.4074074074074074}),\n",
       " igraph.Vertex(<igraph.Graph object at 0x7fca455c1c40>, 83, {'id': 83.0, 'label': '964', 'party': 0.0747223529411764, 'misinfo': 0.0941176470588235}),\n",
       " igraph.Vertex(<igraph.Graph object at 0x7fca455c1c40>, 84, {'id': 84.0, 'label': '137213', 'party': 0.1757251497005988, 'misinfo': 0.2155688622754491}),\n",
       " igraph.Vertex(<igraph.Graph object at 0x7fca455c1c40>, 85, {'id': 85.0, 'label': '96212', 'party': 0.146369536423841, 'misinfo': 0.1655629139072847}),\n",
       " igraph.Vertex(<igraph.Graph object at 0x7fca455c1c40>, 86, {'id': 86.0, 'label': '90199', 'party': 0.3503607843137254, 'misinfo': 0.3333333333333333}),\n",
       " igraph.Vertex(<igraph.Graph object at 0x7fca455c1c40>, 87, {'id': 87.0, 'label': '9327', 'party': 0.1267126984126984, 'misinfo': 0.1269841269841269}),\n",
       " igraph.Vertex(<igraph.Graph object at 0x7fca455c1c40>, 88, {'id': 88.0, 'label': '118559', 'party': 0.3185757575757575, 'misinfo': 0.3636363636363636}),\n",
       " igraph.Vertex(<igraph.Graph object at 0x7fca455c1c40>, 89, {'id': 89.0, 'label': '39362', 'party': 0.3111652173913043, 'misinfo': 0.3043478260869565}),\n",
       " igraph.Vertex(<igraph.Graph object at 0x7fca455c1c40>, 90, {'id': 90.0, 'label': '4449', 'party': 0.1758117647058823, 'misinfo': 0.1764705882352941}),\n",
       " igraph.Vertex(<igraph.Graph object at 0x7fca455c1c40>, 91, {'id': 91.0, 'label': '49750', 'party': 0.3373615384615385, 'misinfo': 0.5}),\n",
       " igraph.Vertex(<igraph.Graph object at 0x7fca455c1c40>, 92, {'id': 92.0, 'label': '6834', 'party': 0.1903642857142857, 'misinfo': 0.3214285714285714}),\n",
       " igraph.Vertex(<igraph.Graph object at 0x7fca455c1c40>, 93, {'id': 93.0, 'label': '123578', 'party': -0.1209986725663716, 'misinfo': 0.1061946902654867}),\n",
       " igraph.Vertex(<igraph.Graph object at 0x7fca455c1c40>, 94, {'id': 94.0, 'label': '128003', 'party': -0.2437210526315789, 'misinfo': 0.1578947368421052}),\n",
       " igraph.Vertex(<igraph.Graph object at 0x7fca455c1c40>, 95, {'id': 95.0, 'label': '5318', 'party': 0.2661333333333333, 'misinfo': 0.3666666666666666}),\n",
       " igraph.Vertex(<igraph.Graph object at 0x7fca455c1c40>, 96, {'id': 96.0, 'label': '117515', 'party': 0.2163416666666666, 'misinfo': 0.5833333333333334}),\n",
       " igraph.Vertex(<igraph.Graph object at 0x7fca455c1c40>, 97, {'id': 97.0, 'label': '112276', 'party': 0.3339, 'misinfo': 0.3333333333333333}),\n",
       " igraph.Vertex(<igraph.Graph object at 0x7fca455c1c40>, 98, {'id': 98.0, 'label': '35559', 'party': -0.20014, 'misinfo': 0.064516129032258}),\n",
       " igraph.Vertex(<igraph.Graph object at 0x7fca455c1c40>, 99, {'id': 99.0, 'label': '96968', 'party': 0.2913712000000001, 'misinfo': 0.272})]"
      ]
     },
     "execution_count": 9,
     "metadata": {},
     "output_type": "execute_result"
    }
   ],
   "source": [
    "a"
   ]
  },
  {
   "cell_type": "code",
   "execution_count": 12,
   "metadata": {},
   "outputs": [
    {
     "data": {
      "text/plain": [
       "Counter({(1, 0): 1,\n",
       "         (2, 0): 1,\n",
       "         (3, 0): 1,\n",
       "         (4, 0): 1,\n",
       "         (5, 0): 2,\n",
       "         (7, 1): 1,\n",
       "         (8, 1): 1,\n",
       "         (9, 0): 1,\n",
       "         (10, 0): 1})"
      ]
     },
     "execution_count": 12,
     "metadata": {},
     "output_type": "execute_result"
    }
   ],
   "source": [
    "c=[(1,0), (2,0), (3,0), (4,0), (5,0), (5,0), (7,1), (8,1), (9,0), (10,0)]\n",
    "from collections import Counter\n",
    "Counter(c)"
   ]
  },
  {
   "cell_type": "code",
   "execution_count": 13,
   "metadata": {},
   "outputs": [],
   "source": [
    "import random\n",
    "def select_inventory(innet_ids, outnet_ids, ratio=0.5):\n",
    "    \"\"\"\n",
    "    Select messages from in-network and out-network and return an inventory\n",
    "    Inputs:\n",
    "        innet_ids (list of int): ids of messages from in-network\n",
    "        outnet_ids (list of int): ids of messages from out-network\n",
    "        ratio (float): ratio of in-network to out-network messages in the final list\n",
    "    Output:\n",
    "        selected_ids (list of int): ids of messages to reshare\n",
    "    \"\"\"\n",
    "    new_list_size = len(innet_ids) + len(outnet_ids)\n",
    "    # select messages from in-network\n",
    "    selected_ids = random.sample(innet_ids, k=round(new_list_size * ratio))\n",
    "    selected_ids += random.sample(outnet_ids, k=round(new_list_size * (1 - ratio)))\n",
    "    random.shuffle(selected_ids)\n",
    "    return selected_ids"
   ]
  },
  {
   "cell_type": "code",
   "execution_count": 16,
   "metadata": {},
   "outputs": [
    {
     "data": {
      "text/plain": [
       "(Counter({1: 2, 2: 3, 3: 2, 4: 2, 5: 1, 6: 1, 7: 1, 8: 1, 9: 1, 10: 1}),\n",
       " Counter({'a': 1,\n",
       "          'b': 1,\n",
       "          'c': 1,\n",
       "          'd': 1,\n",
       "          'e': 1,\n",
       "          'f': 1,\n",
       "          'g': 1,\n",
       "          'h': 2,\n",
       "          'i': 2,\n",
       "          'j': 2}))"
      ]
     },
     "execution_count": 16,
     "metadata": {},
     "output_type": "execute_result"
    }
   ],
   "source": [
    "innet_ids = [1, 2, 3, 4, 5, 6, 7, 8, 9, 10, 1,2,2,3,4]\n",
    "outnet_ids = ['a', 'b', 'c', 'd', 'e', 'f', 'g', 'h', 'i', 'j', 'h', 'i', 'j']\n",
    "Counter(innet_ids), Counter(outnet_ids)"
   ]
  },
  {
   "cell_type": "code",
   "execution_count": null,
   "metadata": {},
   "outputs": [],
   "source": []
  },
  {
   "cell_type": "code",
   "execution_count": null,
   "metadata": {},
   "outputs": [],
   "source": [
    "select_inventory(innet_ids, outnet_ids, ratio=0.5)"
   ]
  },
  {
   "cell_type": "code",
   "execution_count": 18,
   "metadata": {},
   "outputs": [
    {
     "data": {
      "text/plain": [
       "[('f', 1),\n",
       " (4, 2),\n",
       " (2, 3),\n",
       " ('b', 1),\n",
       " (3, 2),\n",
       " ('d', 1),\n",
       " ('h', 2),\n",
       " (9, 1),\n",
       " (5, 1),\n",
       " (8, 1),\n",
       " ('j', 2),\n",
       " (10, 1),\n",
       " ('i', 2),\n",
       " ('e', 1),\n",
       " ('c', 1),\n",
       " ('a', 1),\n",
       " (6, 1),\n",
       " (1, 2),\n",
       " ('g', 1),\n",
       " (7, 1)]"
      ]
     },
     "execution_count": 18,
     "metadata": {},
     "output_type": "execute_result"
    }
   ],
   "source": [
    "inventory = select_inventory(Counter(innet_ids).items(), Counter(outnet_ids).items(), ratio=0.5)\n",
    "inventory"
   ]
  },
  {
   "cell_type": "code",
   "execution_count": 19,
   "metadata": {},
   "outputs": [
    {
     "ename": "AttributeError",
     "evalue": "'list' object has no attribute 'keys'",
     "output_type": "error",
     "traceback": [
      "\u001b[0;31m---------------------------------------------------------------------------\u001b[0m",
      "\u001b[0;31mAttributeError\u001b[0m                            Traceback (most recent call last)",
      "Cell \u001b[0;32mIn[19], line 3\u001b[0m\n\u001b[1;32m      1\u001b[0m \u001b[38;5;28;01mimport\u001b[39;00m \u001b[38;5;21;01mnumpy\u001b[39;00m \u001b[38;5;28;01mas\u001b[39;00m \u001b[38;5;21;01mnp\u001b[39;00m\n\u001b[0;32m----> 3\u001b[0m np\u001b[38;5;241m.\u001b[39marray(\u001b[43minventory\u001b[49m\u001b[38;5;241;43m.\u001b[39;49m\u001b[43mkeys\u001b[49m())\n",
      "\u001b[0;31mAttributeError\u001b[0m: 'list' object has no attribute 'keys'"
     ]
    }
   ],
   "source": [
    "import numpy as np\n",
    "\n",
    "np.array(inventory.keys())"
   ]
  },
  {
   "cell_type": "code",
   "execution_count": null,
   "metadata": {},
   "outputs": [],
   "source": []
  }
 ],
 "metadata": {
  "kernelspec": {
   "display_name": "simsommodel",
   "language": "python",
   "name": "python3"
  },
  "language_info": {
   "codemirror_mode": {
    "name": "ipython",
    "version": 3
   },
   "file_extension": ".py",
   "mimetype": "text/x-python",
   "name": "python",
   "nbconvert_exporter": "python",
   "pygments_lexer": "ipython3",
   "version": "3.8.17"
  }
 },
 "nbformat": 4,
 "nbformat_minor": 2
}
