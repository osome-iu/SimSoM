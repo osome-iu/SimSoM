{
 "cells": [
  {
   "attachments": {},
   "cell_type": "markdown",
   "metadata": {},
   "source": [
    "This notebook explains how one can add bad actors, hereby \"bots\", into an existing network to be an input into simulations by __SimSoM__."
   ]
  },
  {
   "attachments": {},
   "cell_type": "markdown",
   "metadata": {},
   "source": [
    "## Import packages "
   ]
  },
  {
   "cell_type": "code",
   "execution_count": 1,
   "metadata": {},
   "outputs": [],
   "source": [
    "try:\n",
    "    from simsom import SimSom\n",
    "    from simsom.graphutils import *\n",
    "    from simsom.utils import *\n",
    "except ModuleNotFoundError:\n",
    "    print(\n",
    "        \"Unable to import simsom package. \\n\"\n",
    "        \"Change to root directory of this project and run `pip install -e ./libs/`\"\n",
    "    )\n",
    "\n",
    "import json\n",
    "import numpy as np\n",
    "import os\n",
    "from copy import deepcopy\n",
    "\n",
    "# Suppress warnings\n",
    "import warnings\n",
    "\n",
    "warnings.filterwarnings(\"ignore\")"
   ]
  },
  {
   "attachments": {},
   "cell_type": "markdown",
   "metadata": {},
   "source": [
    "## Create network (and option to import existing data )\n",
    "There are several parameters controling the network (including bot subnetwork) as the input to SimSoM: \n",
    "- $\\beta$: Ratio of bot/humans\n",
    "- $\\gamma$: Probability for humans to follow bots \n",
    "- `targeting_criterion`: bot's strategy to target the network {random, hubs, partisanship, etc.}\n",
    "\n",
    "`graph_specs` specifies the parameters for the bot subnetwork and whether to use empirical network data. \n",
    "- If \"human_network\" is None, the human subnetwork is created using a random walk growth model with default values (p=0.5, k_out=3)\n",
    "- If \"human_network\" is not None, the bot subnetwork is added onto the network specified. "
   ]
  },
  {
   "attachments": {},
   "cell_type": "markdown",
   "metadata": {},
   "source": [
    "## Create new network"
   ]
  },
  {
   "cell_type": "code",
   "execution_count": null,
   "metadata": {},
   "outputs": [
    {
     "name": "stdout",
     "output_type": "stream",
     "text": [
      "Reading human network...\n",
      "Generating bot network...\n",
      "Merging human and bot networks...\n",
      "Humans following bots...\n"
     ]
    }
   ],
   "source": [
    "DATA_PATH = \"data\"\n",
    "net_specs = {\n",
    "    \"targeting_criterion\": None,\n",
    "    \"human_network\": None,\n",
    "    \"n_humans\": 50,\n",
    "    \"beta\": 0.04,  # 2 bot\n",
    "    \"gamma\": 0.1,  # each has 5 followers\n",
    "    \"verbose\": True,\n",
    "}\n",
    "\n",
    "G = init_net(**net_specs)\n",
    "\n",
    "network_fpath = os.path.join(DATA_PATH, \"infosys_network.gml\")\n",
    "G.write(network_fpath, format=\"gml\")"
   ]
  },
  {
   "attachments": {},
   "cell_type": "markdown",
   "metadata": {},
   "source": [
    "## Add botsubnetwork onto existing network"
   ]
  },
  {
   "cell_type": "code",
   "execution_count": 3,
   "metadata": {},
   "outputs": [
    {
     "name": "stdout",
     "output_type": "stream",
     "text": [
      "10006 nodes and 1809798 edges initially (average number of friends: 180.8712772336598)\n"
     ]
    }
   ],
   "source": [
    "import igraph as ig\n",
    "DATA_PATH = \"data\"\n",
    "fpath = \"/Users/baott/SimSoM/data/follower_network.gml\"\n",
    "graph = ig.Graph.Read_GML(fpath)\n",
    "\n",
    "average_friends = graph.ecount() / graph.vcount()\n",
    "print(\n",
    "    f\"{graph.vcount()} nodes and {graph.ecount()} edges initially \"\n",
    "    f\"(average number of friends: {average_friends})\"\n",
    ")"
   ]
  },
  {
   "cell_type": "code",
   "execution_count": 4,
   "metadata": {},
   "outputs": [
    {
     "name": "stdout",
     "output_type": "stream",
     "text": [
      "Reading human network...\n",
      "Generating bot network...\n",
      "Merging human and bot networks...\n",
      "Humans following bots...\n"
     ]
    }
   ],
   "source": [
    "net_specs = {\n",
    "    \"targeting_criterion\": None,\n",
    "    \"human_network\": fpath,\n",
    "    \"beta\": 0.04, \n",
    "    \"gamma\": 0.1,  \n",
    "    \"verbose\": True,\n",
    "}\n",
    "\n",
    "G = init_net(**net_specs)"
   ]
  },
  {
   "cell_type": "code",
   "execution_count": 7,
   "metadata": {},
   "outputs": [
    {
     "data": {
      "text/plain": [
       "['party', 'misinfo', 'bot', 'uid']"
      ]
     },
     "execution_count": 7,
     "metadata": {},
     "output_type": "execute_result"
    }
   ],
   "source": [
    "G.vs.attributes()"
   ]
  },
  {
   "cell_type": "code",
   "execution_count": 8,
   "metadata": {},
   "outputs": [
    {
     "data": {
      "text/plain": [
       "igraph.Vertex(<igraph.Graph object at 0x12e2fe440>, 0, {'party': '-0.28911836734693874', 'misinfo': '0.0', 'bot': False, 'uid': '65537'})"
      ]
     },
     "execution_count": 8,
     "metadata": {},
     "output_type": "execute_result"
    }
   ],
   "source": [
    "[n for n in G.vs][0]"
   ]
  },
  {
   "cell_type": "code",
   "execution_count": 6,
   "metadata": {},
   "outputs": [
    {
     "ename": "KeyError",
     "evalue": "'Attribute does not exist'",
     "output_type": "error",
     "traceback": [
      "\u001b[0;31m---------------------------------------------------------------------------\u001b[0m",
      "\u001b[0;31mKeyError\u001b[0m                                  Traceback (most recent call last)",
      "\u001b[1;32m/Users/baott/SimSoM/example/import_network.ipynb Cell 10\u001b[0m in \u001b[0;36m<cell line: 1>\u001b[0;34m()\u001b[0m\n\u001b[0;32m----> <a href='vscode-notebook-cell:/Users/baott/SimSoM/example/import_network.ipynb#X16sZmlsZQ%3D%3D?line=0'>1</a>\u001b[0m [n \u001b[39mfor\u001b[39;00m n \u001b[39min\u001b[39;00m G\u001b[39m.\u001b[39mvs \u001b[39mif\u001b[39;00m G[\u001b[39m'\u001b[39m\u001b[39mbot\u001b[39m\u001b[39m'\u001b[39m]\u001b[39m==\u001b[39m\u001b[39mTrue\u001b[39;00m]\n",
      "\u001b[1;32m/Users/baott/SimSoM/example/import_network.ipynb Cell 10\u001b[0m in \u001b[0;36m<listcomp>\u001b[0;34m(.0)\u001b[0m\n\u001b[0;32m----> <a href='vscode-notebook-cell:/Users/baott/SimSoM/example/import_network.ipynb#X16sZmlsZQ%3D%3D?line=0'>1</a>\u001b[0m [n \u001b[39mfor\u001b[39;00m n \u001b[39min\u001b[39;00m G\u001b[39m.\u001b[39mvs \u001b[39mif\u001b[39;00m G[\u001b[39m'\u001b[39;49m\u001b[39mbot\u001b[39;49m\u001b[39m'\u001b[39;49m]\u001b[39m==\u001b[39m\u001b[39mTrue\u001b[39;00m]\n",
      "\u001b[0;31mKeyError\u001b[0m: 'Attribute does not exist'"
     ]
    }
   ],
   "source": [
    "[n for n in G.vs if G['bot']==True]"
   ]
  },
  {
   "cell_type": "code",
   "execution_count": null,
   "metadata": {},
   "outputs": [],
   "source": [
    "average_friends = graph.ecount() / graph.vcount()\n",
    "print(\n",
    "    f\"{graph.vcount()} nodes and {graph.ecount()} edges\"\n",
    "    f\"(average number of friends: {average_friends})\"\n",
    ")"
   ]
  },
  {
   "cell_type": "code",
   "execution_count": null,
   "metadata": {},
   "outputs": [],
   "source": [
    "network_fpath = os.path.join(DATA_PATH, \"infosys_network.gml\")\n",
    "G.write(network_fpath, format=\"gml\")"
   ]
  }
 ],
 "metadata": {
  "kernelspec": {
   "display_name": "simsommodel",
   "language": "python",
   "name": "python3"
  },
  "language_info": {
   "codemirror_mode": {
    "name": "ipython",
    "version": 3
   },
   "file_extension": ".py",
   "mimetype": "text/x-python",
   "name": "python",
   "nbconvert_exporter": "python",
   "pygments_lexer": "ipython3",
   "version": "3.8.16"
  },
  "orig_nbformat": 4
 },
 "nbformat": 4,
 "nbformat_minor": 2
}
