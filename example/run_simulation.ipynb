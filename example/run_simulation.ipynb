{
 "cells": [
  {
   "attachments": {},
   "cell_type": "markdown",
   "metadata": {},
   "source": [
    "This tutorial introduces SimSoM: A Simulator of Social Media. \n",
    "In this notebook, we provide a minimal example for running a simulation and take a look at the results. "
   ]
  },
  {
   "attachments": {},
   "cell_type": "markdown",
   "metadata": {},
   "source": [
    "## Import packages "
   ]
  },
  {
   "cell_type": "code",
   "execution_count": 29,
   "metadata": {},
   "outputs": [],
   "source": [
    "try:\n",
    "    from simsom import SimSom\n",
    "    from simsom.graphutils import *\n",
    "    from simsom.utils import *\n",
    "except ModuleNotFoundError:\n",
    "    print('Unable to import simsom package. \\n' \n",
    "    'Change to root directory of this project and run `pip install -e .`')\n",
    "\n",
    "import json\n",
    "import numpy as np\n",
    "import os\n",
    "from copy import deepcopy\n",
    "\n",
    "# Suppress warnings\n",
    "import warnings\n",
    "warnings.filterwarnings('ignore')"
   ]
  },
  {
   "attachments": {},
   "cell_type": "markdown",
   "metadata": {},
   "source": [
    "There are 2 steps in running a simulation. \n",
    "First we create a network (including bot subnetwork) as the input to Simsom, where the simulation happens\n",
    "- `graph_specs` specifies the parameters for the bot subnetwork ($\\beta, \\gamma$) and whether to use empirical network data. If \"human_network\" is None, the human subnetwork is created using a random walk growth model with default values (p=0.5, k_out=3)\n",
    "- `simulation_specs` specifies the parameters for the simulation, such as $\\alpha, \\mu, \\phi, \\theta$"
   ]
  },
  {
   "attachments": {},
   "cell_type": "markdown",
   "metadata": {},
   "source": [
    "# Create & save the network"
   ]
  },
  {
   "cell_type": "code",
   "execution_count": 30,
   "metadata": {},
   "outputs": [
    {
     "name": "stdout",
     "output_type": "stream",
     "text": [
      "Reading human network...\n",
      "Generating bot network...\n",
      "Merging human and bot networks...\n",
      "Humans following bots...\n"
     ]
    }
   ],
   "source": [
    "DATA_PATH = \"data\"\n",
    "net_specs = {\n",
    "    \"targeting_criterion\": None,\n",
    "    \"human_network\": os.path.join(DATA_PATH, \"follower_network.gml\"),\n",
    "    \"n_humans\": 50,\n",
    "    \"beta\": 0.04, # 2 bot\n",
    "    \"gamma\": 0.1,# each has 5 followers\n",
    "    \"verbose\": True,\n",
    "}\n",
    "\n",
    "G = init_net(**net_specs)\n",
    "\n",
    "network_fpath = os.path.join(DATA_PATH, \"infosys_network.gml\")\n",
    "G.write(network_fpath, format=\"gml\")"
   ]
  },
  {
   "attachments": {},
   "cell_type": "markdown",
   "metadata": {},
   "source": [
    "# Configure & Run simulations"
   ]
  },
  {
   "cell_type": "code",
   "execution_count": 31,
   "metadata": {},
   "outputs": [
    {
     "name": "stdout",
     "output_type": "stream",
     "text": [
      "*** Start simulation ***\n",
      "-- Run 1/2: \n",
      " Create SimSom instance..\n",
      " - Simulation finished. Quality: 0.269\n",
      "-- Run 2/2: \n",
      " Create SimSom instance..\n",
      " - Simulation finished. Quality: 0.282\n",
      "*** Average quality across 2 runs: 0.275 ***\n"
     ]
    }
   ],
   "source": [
    "RESULT_DIR = \"results\"\n",
    "reshare_fpath = os.path.join(RESULT_DIR, \"reshare.csv\")\n",
    "exposure_fpath = os.path.join(RESULT_DIR, \"exposure.csv\")\n",
    "memeinfo_fpath = os.path.join(RESULT_DIR, \"meme_info.json.gz\")\n",
    "\n",
    "simulation_specs = {\n",
    "    \"verbose\": False,\n",
    "    \"tracktimestep\": True,\n",
    "    \"save_memeinfo\": True,\n",
    "    \"output_cascades\": True,\n",
    "    \"epsilon\": 0.0001,\n",
    "    \"mu\": 0.5,\n",
    "    \"phi\": 1,\n",
    "    \"alpha\": 15,\n",
    "}\n",
    "\n",
    "no_runs = 2\n",
    "\n",
    "# Create a list to store results across runs \n",
    "quality = []\n",
    "\n",
    "print(\"*** Start simulation ***\")\n",
    "for run in range(no_runs):\n",
    "    print(f\"-- Run {run+1}/{no_runs}: \\n Create SimSom instance..\")\n",
    "    # Create a SimSom instance\n",
    "    follower_sys = SimSom(network_fpath, **simulation_specs)\n",
    "\n",
    "    # Run simulation\n",
    "    if simulation_specs[\"output_cascades\"] is False:\n",
    "        results = follower_sys.simulation()\n",
    "    else:\n",
    "        results = follower_sys.simulation(\n",
    "            reshare_fpath=reshare_fpath.replace(\".csv\", f\"_{run}.csv\"),\n",
    "            exposure_fpath=exposure_fpath.replace(\".csv\", f\"_{run}.csv\"),\n",
    "        )\n",
    "    print(f\" - Simulation finished. Quality: {np.round(results['quality'],3)}\")\n",
    "\n",
    "    # Update the quality list\n",
    "    quality += [results[\"quality\"]]\n",
    "\n",
    "    # Save verbose results (with simulation specs)\n",
    "    if simulation_specs[\"save_memeinfo\"] is True:\n",
    "        specs = deepcopy(simulation_specs)\n",
    "        specs.update(results)\n",
    "        fpath = memeinfo_fpath.replace(\".json.gz\", f\"_{run}.json.gz\")\n",
    "        fout = gzip.open(fpath, \"w\")\n",
    "        write_json_compressed(fout, specs)\n",
    "        \n",
    "# Save short results (with simulation specs)\n",
    "short_results = deepcopy(simulation_specs)\n",
    "short_results.update({\"quality\": quality})\n",
    "json.dump(short_results, open(os.path.join(RESULT_DIR, \"results.json\"), \"w\"))\n",
    "\n",
    "print(f\"*** Average quality across {no_runs} runs: {np.round(np.mean(quality),3)} ***\")"
   ]
  },
  {
   "attachments": {},
   "cell_type": "markdown",
   "metadata": {},
   "source": [
    "# Explore the results "
   ]
  },
  {
   "attachments": {},
   "cell_type": "markdown",
   "metadata": {},
   "source": [
    "The short result, containing only simulation specs and quality across runs is stored in __results/results.json__. \n",
    "SimSom additionally keeps track of other information in a dictionary, stored in __'results/meme_info_*.json.gz'__, such as:\n",
    "- message popularity ('all_memes' key)\n",
    "- human news feed ('all_feeds' key)\n",
    "- quality across timesteps ('quality_timestep' key)\n",
    "It also outputs reshare and exposure data in an edgelist format that can be used to reconstruct the cascade (__results/exposure_*.csv__ and __reshare_*.csv__, respectively) \n",
    "Let's first check what's available"
   ]
  },
  {
   "cell_type": "code",
   "execution_count": 32,
   "metadata": {},
   "outputs": [
    {
     "data": {
      "text/plain": [
       "dict_keys(['verbose', 'tracktimestep', 'save_memeinfo', 'output_cascades', 'epsilon', 'mu', 'phi', 'alpha', 'quality', 'diversity', 'discriminative_pow', 'quality_timestep', 'all_memes', 'all_feeds'])"
      ]
     },
     "execution_count": 32,
     "metadata": {},
     "output_type": "execute_result"
    }
   ],
   "source": [
    "verbose = read_json_compressed('results/meme_info_0.json.gz')\n",
    "verbose.keys()"
   ]
  },
  {
   "attachments": {},
   "cell_type": "markdown",
   "metadata": {},
   "source": [
    "Let's take a look at message popularity, where each row is information about a message."
   ]
  },
  {
   "cell_type": "code",
   "execution_count": 33,
   "metadata": {},
   "outputs": [
    {
     "data": {
      "text/html": [
       "<div>\n",
       "<style scoped>\n",
       "    .dataframe tbody tr th:only-of-type {\n",
       "        vertical-align: middle;\n",
       "    }\n",
       "\n",
       "    .dataframe tbody tr th {\n",
       "        vertical-align: top;\n",
       "    }\n",
       "\n",
       "    .dataframe thead th {\n",
       "        text-align: right;\n",
       "    }\n",
       "</style>\n",
       "<table border=\"1\" class=\"dataframe\">\n",
       "  <thead>\n",
       "    <tr style=\"text-align: right;\">\n",
       "      <th></th>\n",
       "      <th>id</th>\n",
       "      <th>is_by_bot</th>\n",
       "      <th>phi</th>\n",
       "      <th>quality</th>\n",
       "      <th>fitness</th>\n",
       "      <th>agent_id</th>\n",
       "      <th>human_shares</th>\n",
       "      <th>bot_shares</th>\n",
       "      <th>spread_via_agents</th>\n",
       "      <th>seen_by_agents</th>\n",
       "      <th>infeed_of_agents</th>\n",
       "      <th>qual_th</th>\n",
       "      <th>share_th</th>\n",
       "    </tr>\n",
       "  </thead>\n",
       "  <tbody>\n",
       "    <tr>\n",
       "      <th>0</th>\n",
       "      <td>1</td>\n",
       "      <td>0.0</td>\n",
       "      <td>1</td>\n",
       "      <td>0.119049</td>\n",
       "      <td>0.119049</td>\n",
       "      <td>43.0</td>\n",
       "      <td>1</td>\n",
       "      <td>0</td>\n",
       "      <td>[43.0]</td>\n",
       "      <td>[]</td>\n",
       "      <td>[]</td>\n",
       "      <td>585</td>\n",
       "      <td>497</td>\n",
       "    </tr>\n",
       "    <tr>\n",
       "      <th>1</th>\n",
       "      <td>2</td>\n",
       "      <td>0.0</td>\n",
       "      <td>1</td>\n",
       "      <td>0.305471</td>\n",
       "      <td>0.305471</td>\n",
       "      <td>44.0</td>\n",
       "      <td>1</td>\n",
       "      <td>0</td>\n",
       "      <td>[44.0]</td>\n",
       "      <td>[]</td>\n",
       "      <td>[]</td>\n",
       "      <td>1232</td>\n",
       "      <td>1045</td>\n",
       "    </tr>\n",
       "    <tr>\n",
       "      <th>2</th>\n",
       "      <td>3</td>\n",
       "      <td>0.0</td>\n",
       "      <td>1</td>\n",
       "      <td>0.574919</td>\n",
       "      <td>0.574919</td>\n",
       "      <td>19.0</td>\n",
       "      <td>1</td>\n",
       "      <td>0</td>\n",
       "      <td>[19.0]</td>\n",
       "      <td>[9.0, 9.0, 9.0, 9.0]</td>\n",
       "      <td>[9.0, 9.0, 9.0, 9.0]</td>\n",
       "      <td>1881</td>\n",
       "      <td>1588</td>\n",
       "    </tr>\n",
       "    <tr>\n",
       "      <th>3</th>\n",
       "      <td>4</td>\n",
       "      <td>0.0</td>\n",
       "      <td>1</td>\n",
       "      <td>0.058250</td>\n",
       "      <td>0.058250</td>\n",
       "      <td>33.0</td>\n",
       "      <td>1</td>\n",
       "      <td>0</td>\n",
       "      <td>[33.0]</td>\n",
       "      <td>[]</td>\n",
       "      <td>[]</td>\n",
       "      <td>301</td>\n",
       "      <td>237</td>\n",
       "    </tr>\n",
       "    <tr>\n",
       "      <th>4</th>\n",
       "      <td>5</td>\n",
       "      <td>0.0</td>\n",
       "      <td>1</td>\n",
       "      <td>0.273935</td>\n",
       "      <td>0.273935</td>\n",
       "      <td>10.0</td>\n",
       "      <td>7</td>\n",
       "      <td>0</td>\n",
       "      <td>[10.0, 15.0, 12.0, 16.0, 16.0, 12.0, 13.0]</td>\n",
       "      <td>[15.0, 12.0, 16.0, 15.0, 16.0, 17.0, 19.0, 16....</td>\n",
       "      <td>[15.0, 12.0, 16.0, 15.0, 16.0, 17.0, 19.0, 16....</td>\n",
       "      <td>1128</td>\n",
       "      <td>2161</td>\n",
       "    </tr>\n",
       "  </tbody>\n",
       "</table>\n",
       "</div>"
      ],
      "text/plain": [
       "   id  is_by_bot  phi   quality   fitness agent_id  human_shares  bot_shares  \\\n",
       "0   1        0.0    1  0.119049  0.119049     43.0             1           0   \n",
       "1   2        0.0    1  0.305471  0.305471     44.0             1           0   \n",
       "2   3        0.0    1  0.574919  0.574919     19.0             1           0   \n",
       "3   4        0.0    1  0.058250  0.058250     33.0             1           0   \n",
       "4   5        0.0    1  0.273935  0.273935     10.0             7           0   \n",
       "\n",
       "                            spread_via_agents  \\\n",
       "0                                      [43.0]   \n",
       "1                                      [44.0]   \n",
       "2                                      [19.0]   \n",
       "3                                      [33.0]   \n",
       "4  [10.0, 15.0, 12.0, 16.0, 16.0, 12.0, 13.0]   \n",
       "\n",
       "                                      seen_by_agents  \\\n",
       "0                                                 []   \n",
       "1                                                 []   \n",
       "2                               [9.0, 9.0, 9.0, 9.0]   \n",
       "3                                                 []   \n",
       "4  [15.0, 12.0, 16.0, 15.0, 16.0, 17.0, 19.0, 16....   \n",
       "\n",
       "                                    infeed_of_agents  qual_th  share_th  \n",
       "0                                                 []      585       497  \n",
       "1                                                 []     1232      1045  \n",
       "2                               [9.0, 9.0, 9.0, 9.0]     1881      1588  \n",
       "3                                                 []      301       237  \n",
       "4  [15.0, 12.0, 16.0, 15.0, 16.0, 17.0, 19.0, 16....     1128      2161  "
      ]
     },
     "execution_count": 33,
     "metadata": {},
     "output_type": "execute_result"
    }
   ],
   "source": [
    "import pandas as pd\n",
    "messages = pd.DataFrame.from_records(verbose['all_memes'])\n",
    "messages.head()"
   ]
  },
  {
   "attachments": {},
   "cell_type": "markdown",
   "metadata": {},
   "source": [
    "We can also plot the quality of the network over time until convergence."
   ]
  },
  {
   "cell_type": "code",
   "execution_count": 34,
   "metadata": {},
   "outputs": [
    {
     "data": {
      "text/plain": [
       "Text(0.5, 1.0, 'Quality vs timestep')"
      ]
     },
     "execution_count": 34,
     "metadata": {},
     "output_type": "execute_result"
    },
    {
     "data": {
      "image/png": "[encoded data removed]",
      "text/plain": [
       "<Figure size 432x288 with 1 Axes>"
      ]
     },
     "metadata": {
      "needs_background": "light"
     },
     "output_type": "display_data"
    }
   ],
   "source": [
    "import matplotlib.pyplot as plt\n",
    "\n",
    "timesteps= len(verbose['quality_timestep'])\n",
    "plt.scatter(range(timesteps), verbose['quality_timestep'], s=9)\n",
    "plt.xlabel('timestep')\n",
    "plt.ylabel('quality')\n",
    "plt.title('Quality vs timestep')"
   ]
  },
  {
   "attachments": {},
   "cell_type": "markdown",
   "metadata": {},
   "source": [
    "This concludes our introductory tutorial to SimSom. Read our paper to learn more about possible analysis and our findings on an empirical network using this Simulator, and get in touch with us at our GitHub repo if you have any questions/issues!"
   ]
  }
 ],
 "metadata": {
  "kernelspec": {
   "display_name": "graph",
   "language": "python",
   "name": "python3"
  },
  "language_info": {
   "codemirror_mode": {
    "name": "ipython",
    "version": 3
   },
   "file_extension": ".py",
   "mimetype": "text/x-python",
   "name": "python",
   "nbconvert_exporter": "python",
   "pygments_lexer": "ipython3",
   "version": "3.9.12"
  },
  "orig_nbformat": 4,
  "vscode": {
   "interpreter": {
    "hash": "3800004ce1c70527b7371ba0d1dada6c8e6e725c735c9b31d1238b7c6f3077a7"
   }
  }
 },
 "nbformat": 4,
 "nbformat_minor": 2
}
